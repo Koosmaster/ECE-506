{
  "cells": [
    {
      "cell_type": "markdown",
      "source": [
        "# Machine Learning Model Training - Markus Parrish"
      ],
      "metadata": {
        "id": "PgCzu-6VqnI5"
      }
    },
    {
      "cell_type": "markdown",
      "source": [
        "Goals:"
      ],
      "metadata": {
        "id": "gWbhc3aPq1MI"
      }
    },
    {
      "cell_type": "markdown",
      "source": [
        "Session 16 provides parametrizable CNN models that you can train. Experiment with a few (at least three) CNN models and the Linear model for the given classification problem.\n",
        "\n",
        "Deliverables:\n",
        "\n",
        "1. A PDF of the Python code used to generate the different models. Use the provided code to print the architectures and the number of parameters.\n",
        "2. Screenshots of the achieved accuracy as a function of the number of epochs and the value of the loss function.\n",
        "3. A discussion comparing the required number of epochs, total number of parameters, final value of the loss function, and achieved accuracy.\n"
      ],
      "metadata": {
        "id": "YloD06CNsyZW"
      }
    },
    {
      "cell_type": "markdown",
      "source": [
        "References:\n",
        "* A collection of tutorials are available at [main website](https://docs.pytorch.org/tutorials/).\n",
        "* The current document follows the [Quickstart tutorial](https://docs.pytorch.org/tutorials/beginner/basics/quickstart_tutorial.html)."
      ],
      "metadata": {
        "id": "wiUKu0DHq1V1"
      }
    },
    {
      "cell_type": "markdown",
      "source": [
        "# Setup"
      ],
      "metadata": {
        "id": "bjEsXFgAqnAs"
      }
    },
    {
      "cell_type": "code",
      "execution_count": 114,
      "metadata": {
        "id": "610XmpDlRIMj"
      },
      "outputs": [],
      "source": [
        "# For tips on running notebooks in Google Colab, see\n",
        "# https://pytorch.org/tutorials/beginner/colab\n",
        "%matplotlib inline"
      ]
    },
    {
      "cell_type": "code",
      "execution_count": 115,
      "metadata": {
        "id": "YyK5O4-ARIMk"
      },
      "outputs": [],
      "source": [
        "import math\n",
        "import torch\n",
        "from torch import nn\n",
        "from torch.utils.data import DataLoader\n",
        "from torchvision import datasets\n",
        "from torchvision.transforms import ToTensor\n",
        "import torch.nn.functional as F"
      ]
    },
    {
      "cell_type": "markdown",
      "source": [
        "# Datasets"
      ],
      "metadata": {
        "id": "rVD9VR4gt842"
      }
    },
    {
      "cell_type": "markdown",
      "metadata": {
        "id": "VpNYO0VgRIMk"
      },
      "source": [
        "<b>TorchVision dataset used for this assignment</b><br>\n",
        "\n"
      ]
    },
    {
      "cell_type": "code",
      "execution_count": 116,
      "metadata": {
        "id": "B17Y1A9qRIMl"
      },
      "outputs": [],
      "source": [
        "# Download training data from open datasets.\n",
        "training_data = datasets.FashionMNIST(\n",
        "    root=\"data\",\n",
        "    train=True,\n",
        "    download=True,\n",
        "    transform=ToTensor(),\n",
        ")\n",
        "\n",
        "# Download test data from open datasets.\n",
        "test_data = datasets.FashionMNIST(\n",
        "    root=\"data\",\n",
        "    train=False,\n",
        "    download=True,\n",
        "    transform=ToTensor(),\n",
        ")"
      ]
    },
    {
      "cell_type": "markdown",
      "metadata": {
        "id": "qnaNebHiRIMl"
      },
      "source": [
        "<b>Dataloader</b><br>\n",
        "Pass `Dataset` as an argument to `DataLoader`.\n"
      ]
    },
    {
      "cell_type": "code",
      "execution_count": 117,
      "metadata": {
        "id": "l_lNp19jRIMl",
        "colab": {
          "base_uri": "https://localhost:8080/"
        },
        "outputId": "7b48cf13-039e-4c90-d814-f9dcac58a111"
      },
      "outputs": [
        {
          "output_type": "stream",
          "name": "stdout",
          "text": [
            "Shape of X [N, C, H, W]: torch.Size([64, 1, 28, 28])\n",
            "N = batch size. This is the number of images to process at a time.\n",
            "C = number of channels. C=1 for grayscale. C=3 for RGB.\n",
            "H = height is the number of rows in the image.\n",
            "W = width is the number of columns in the image.\n",
            " \n",
            "Shape of y: torch.Size([64]) torch.int64\n",
            "y is of size N, the ground truth labels required for each image in the batch.\n",
            "Percentage of training dataset = 85.71 percent with 60000 samples.\n",
            "Percentage of test dataset     = 14.29 percent with 10000 samples.\n"
          ]
        }
      ],
      "source": [
        "batch_size = 64\n",
        "\n",
        "# Create data loaders.\n",
        "train_dataloader = DataLoader(training_data, batch_size=batch_size)\n",
        "test_dataloader = DataLoader(test_data, batch_size=batch_size)\n",
        "\n",
        "for X, y in test_dataloader:\n",
        "    print(f\"Shape of X [N, C, H, W]: {X.shape}\")\n",
        "    print(\"N = batch size. This is the number of images to process at a time.\")\n",
        "    print(\"C = number of channels. C=1 for grayscale. C=3 for RGB.\")\n",
        "    print(\"H = height is the number of rows in the image.\")\n",
        "    print(\"W = width is the number of columns in the image.\")\n",
        "    print(\" \")\n",
        "    print(f\"Shape of y: {y.shape} {y.dtype}\")\n",
        "    print(\"y is of size N, the ground truth labels required for each image in the batch.\")\n",
        "    break\n",
        "\n",
        "train_size = len(train_dataloader.dataset)\n",
        "test_size  = len(test_dataloader.dataset)\n",
        "train_pct  = 100*train_size/(train_size+test_size)\n",
        "test_pct   = 100*test_size/(train_size+test_size)\n",
        "print(f\"Percentage of training dataset = {train_pct:.2f} percent with {train_size} samples.\")\n",
        "print(f\"Percentage of test dataset     = {test_pct:.2f} percent with {test_size} samples.\")"
      ]
    },
    {
      "cell_type": "markdown",
      "source": [
        "## Datasets visualization"
      ],
      "metadata": {
        "id": "zF_zXFRyeVG-"
      }
    },
    {
      "cell_type": "markdown",
      "source": [
        "Review the dataset and answer the following:\n",
        "1. How many categories are we looking at?\n",
        "2. Comment on the quality of the images."
      ],
      "metadata": {
        "id": "u92BH1HQeVP_"
      }
    },
    {
      "cell_type": "code",
      "source": [
        "import torch\n",
        "import matplotlib.pyplot as plt\n",
        "import math\n",
        "\n",
        "import torch\n",
        "import matplotlib.pyplot as plt\n",
        "import math\n",
        "\n",
        "classes = [\n",
        "    \"T-shirt/top\",\n",
        "    \"Trouser\",\n",
        "    \"Pullover\",\n",
        "    \"Dress\",\n",
        "    \"Coat\",\n",
        "    \"Sandal\",\n",
        "    \"Shirt\",\n",
        "    \"Sneaker\",\n",
        "    \"Bag\",\n",
        "    \"Ankle boot\",\n",
        "]\n",
        "\n",
        "def show_images(batch_tensor, n=16, titles=None):\n",
        "    \"\"\"\n",
        "    Display n grayscale images from a batch [B, 1, H, W] in a rectangular grid with optional titles.\n",
        "\n",
        "    Parameters:\n",
        "    - batch_tensor: torch.Tensor of shape [B, 1, H, W]\n",
        "    - n: number of images to show\n",
        "    - titles: list of titles or labels for each image (length n)\n",
        "    \"\"\"\n",
        "    assert batch_tensor.ndim == 4 and batch_tensor.size(1) == 1, \"Expected shape [B, 1, H, W]\"\n",
        "    n = min(n, batch_tensor.size(0))\n",
        "    if titles is None:\n",
        "        titles = [f\"Image {i}\" for i in range(n)]\n",
        "    else:\n",
        "        assert len(titles) >= n, \"Not enough titles for the number of images.\"\n",
        "\n",
        "    # Determine grid size\n",
        "    cols = int(math.ceil(math.sqrt(n)))\n",
        "    rows = int(math.ceil(n / cols))\n",
        "\n",
        "    plt.figure(figsize=(cols * 2, rows * 2))\n",
        "    for i in range(n):\n",
        "        img = batch_tensor[i, 0].cpu().numpy()\n",
        "        plt.subplot(rows, cols, i + 1)\n",
        "        plt.imshow(img, cmap='gray')\n",
        "        plt.title(classes[y[i]], fontsize=10)\n",
        "        plt.axis('off')\n",
        "    plt.tight_layout()\n",
        "    plt.show()\n",
        "\n",
        "show_images(batch_tensor=X, n=16, titles=y)"
      ],
      "metadata": {
        "colab": {
          "base_uri": "https://localhost:8080/",
          "height": 0
        },
        "id": "Q6D8tvJSeVfs",
        "outputId": "4d85d478-3945-4552-e3ac-656aec8e5ae3"
      },
      "execution_count": 118,
      "outputs": [
        {
          "output_type": "display_data",
          "data": {
            "text/plain": [
              "<Figure size 800x800 with 16 Axes>"
            ],
            "image/png": "[encoded data removed]"
          },
          "metadata": {}
        }
      ]
    },
    {
      "cell_type": "markdown",
      "metadata": {
        "id": "odu61pyrxkN_"
      },
      "source": [
        "Linear Model\n",
        "==============="
      ]
    },
    {
      "cell_type": "code",
      "execution_count": 119,
      "metadata": {
        "colab": {
          "base_uri": "https://localhost:8080/"
        },
        "outputId": "666928e9-19db-4546-e2c8-0a5582af9c9d",
        "id": "uNb3b85txkOA"
      },
      "outputs": [
        {
          "output_type": "stream",
          "name": "stdout",
          "text": [
            "Using cpu device\n",
            "Using Model: LinearModel\n"
          ]
        }
      ],
      "source": [
        "device = torch.accelerator.current_accelerator().type if torch.accelerator.is_available() else \"cpu\"\n",
        "print(f\"Using {device} device\")\n",
        "\n",
        "# Define model\n",
        "class LinearModel(nn.Module):\n",
        "    def __init__(self):\n",
        "        super().__init__()\n",
        "        self.flatten = nn.Flatten()\n",
        "        self.linear_relu_stack = nn.Sequential(\n",
        "            nn.Linear(28*28, 512),\n",
        "            nn.ReLU(),\n",
        "            nn.Linear(512, 512),\n",
        "            nn.ReLU(),\n",
        "            nn.Linear(512, 10)\n",
        "        )\n",
        "\n",
        "    def forward(self, x):\n",
        "        x = self.flatten(x)\n",
        "        logits = self.linear_relu_stack(x)\n",
        "        return logits\n",
        "\n",
        "\n",
        "# Define the model here\n",
        "\n",
        "## Linear Model\n",
        "NeuralNetwork = LinearModel\n",
        "model_to_use  = LinearModel()\n",
        "\n",
        "model = model_to_use.to(device)\n",
        "print(f\"Using Model: {model.__class__.__name__}\") # Name of model print"
      ]
    },
    {
      "cell_type": "markdown",
      "source": [
        "## Model Parameters"
      ],
      "metadata": {
        "id": "Tpu3KeiHxkOB"
      }
    },
    {
      "cell_type": "code",
      "source": [
        "def parameter_report(model):\n",
        "    print(f\"{'Layer':<40} {'# Params':>12} {'Trainable':>10}\")\n",
        "    print(\"-\" * 65)\n",
        "    total, trainable = 0, 0\n",
        "    for name, param in model.named_parameters():\n",
        "        num_params = param.numel()\n",
        "        is_trainable = param.requires_grad\n",
        "        print(f\"{name:<40} {num_params:>12,} {str(is_trainable):>10}\")\n",
        "        total += num_params\n",
        "        if is_trainable:\n",
        "            trainable += num_params\n",
        "    print(\"-\" * 65)\n",
        "    print(f\"{'Total':<40} {total:>12,} {'':>10}\")\n",
        "    print(f\"{'Trainable':<40} {trainable:>12,}\")\n",
        "\n",
        "\n",
        "print(model)\n",
        "print(\" \")\n",
        "\n",
        "parameter_report(model)"
      ],
      "metadata": {
        "colab": {
          "base_uri": "https://localhost:8080/"
        },
        "outputId": "7a8dba3d-216b-4373-b591-fb56b67f2b78",
        "id": "8a-84M-UxkOB"
      },
      "execution_count": 120,
      "outputs": [
        {
          "output_type": "stream",
          "name": "stdout",
          "text": [
            "LinearModel(\n",
            "  (flatten): Flatten(start_dim=1, end_dim=-1)\n",
            "  (linear_relu_stack): Sequential(\n",
            "    (0): Linear(in_features=784, out_features=512, bias=True)\n",
            "    (1): ReLU()\n",
            "    (2): Linear(in_features=512, out_features=512, bias=True)\n",
            "    (3): ReLU()\n",
            "    (4): Linear(in_features=512, out_features=10, bias=True)\n",
            "  )\n",
            ")\n",
            " \n",
            "Layer                                        # Params  Trainable\n",
            "-----------------------------------------------------------------\n",
            "linear_relu_stack.0.weight                    401,408       True\n",
            "linear_relu_stack.0.bias                          512       True\n",
            "linear_relu_stack.2.weight                    262,144       True\n",
            "linear_relu_stack.2.bias                          512       True\n",
            "linear_relu_stack.4.weight                      5,120       True\n",
            "linear_relu_stack.4.bias                           10       True\n",
            "-----------------------------------------------------------------\n",
            "Total                                         669,706           \n",
            "Trainable                                     669,706\n"
          ]
        }
      ]
    },
    {
      "cell_type": "markdown",
      "metadata": {
        "id": "2wjsnxsyxkOB"
      },
      "source": [
        "------------------------------------------------------------------------\n"
      ]
    },
    {
      "cell_type": "markdown",
      "metadata": {
        "id": "IlN2OkCqxkOC"
      },
      "source": [
        "## Optimizing the Model Parameters"
      ]
    },
    {
      "cell_type": "code",
      "execution_count": 121,
      "metadata": {
        "id": "QhBpfOAaxkOC"
      },
      "outputs": [],
      "source": [
        "loss_fn = nn.CrossEntropyLoss()\n",
        "optimizer = torch.optim.SGD(model.parameters(), lr=1e-3)"
      ]
    },
    {
      "cell_type": "markdown",
      "source": [
        "Training function"
      ],
      "metadata": {
        "id": "zfHy14xBxkOD"
      }
    },
    {
      "cell_type": "code",
      "execution_count": 122,
      "metadata": {
        "id": "TI_NGcmNxkOD"
      },
      "outputs": [],
      "source": [
        "def train(dataloader, model, loss_fn, optimizer):\n",
        "    size = len(dataloader.dataset)\n",
        "    model.train() # Put the model in training mode.\n",
        "    for batch, (X, y) in enumerate(dataloader):\n",
        "        # Place the model and predictions on the same device.\n",
        "        X, y = X.to(device), y.to(device)\n",
        "\n",
        "        # Compute prediction error\n",
        "        pred = model(X)\n",
        "        loss = loss_fn(pred, y)\n",
        "\n",
        "        # Backpropagation\n",
        "        # This step updates the parameter values inside your network.\n",
        "        loss.backward()\n",
        "        optimizer.step()\n",
        "        optimizer.zero_grad()\n",
        "\n",
        "        # Print progress every 100 batches:\n",
        "        if batch % 100 == 0:\n",
        "            loss, current = loss.item(), (batch + 1) * len(X)\n",
        "            print(f\"loss: {loss:>7f}  [{current:>5d}/{size:>5d}]\")"
      ]
    },
    {
      "cell_type": "markdown",
      "source": [
        "## Testing function"
      ],
      "metadata": {
        "id": "11Ffd5snxkOD"
      }
    },
    {
      "cell_type": "code",
      "execution_count": 123,
      "metadata": {
        "id": "V1fth7gJxkOD"
      },
      "outputs": [],
      "source": [
        "def test(dataloader, model, loss_fn):\n",
        "    size = len(dataloader.dataset)\n",
        "    num_batches = len(dataloader)\n",
        "    model.eval() # Put the model in testing mode.\n",
        "    test_loss, correct = 0, 0\n",
        "    with torch.no_grad():\n",
        "        for X, y in dataloader:\n",
        "            X, y = X.to(device), y.to(device)\n",
        "            pred = model(X)\n",
        "            test_loss += loss_fn(pred, y).item()\n",
        "            correct += (pred.argmax(1) == y).type(torch.float).sum().item()\n",
        "    test_loss /= num_batches\n",
        "    correct /= size\n",
        "    print(f\"Test Error: \\n Accuracy: {(100*correct):>0.1f}%, Avg loss: {test_loss:>8f} \\n\")\n",
        "    return correct, test_loss"
      ]
    },
    {
      "cell_type": "markdown",
      "source": [
        "## Linear Model: Accuracy, Epochs, and Value of Loss Function"
      ],
      "metadata": {
        "id": "vnN2lyl2xkOE"
      }
    },
    {
      "cell_type": "code",
      "execution_count": 124,
      "metadata": {
        "colab": {
          "base_uri": "https://localhost:8080/"
        },
        "outputId": "eaf66889-80e1-4e3c-90c6-bf23b2c96807",
        "collapsed": true,
        "id": "9TGUpPk5xkOE"
      },
      "outputs": [
        {
          "output_type": "stream",
          "name": "stdout",
          "text": [
            "Epoch 1\n",
            "-------------------------------\n",
            "loss: 2.309171  [   64/60000]\n",
            "loss: 2.299662  [ 6464/60000]\n",
            "loss: 2.279513  [12864/60000]\n",
            "loss: 2.270604  [19264/60000]\n",
            "loss: 2.258556  [25664/60000]\n",
            "loss: 2.226745  [32064/60000]\n",
            "loss: 2.238884  [38464/60000]\n",
            "loss: 2.201803  [44864/60000]\n",
            "loss: 2.190278  [51264/60000]\n",
            "loss: 2.169003  [57664/60000]\n",
            "Test Error: \n",
            " Accuracy: 35.0%, Avg loss: 2.168228 \n",
            "\n",
            "Test Error: \n",
            " Accuracy: 35.0%, Avg loss: 2.168228 \n",
            "\n",
            "Epoch 2\n",
            "-------------------------------\n",
            "loss: 2.181381  [   64/60000]\n",
            "loss: 2.174143  [ 6464/60000]\n",
            "loss: 2.122472  [12864/60000]\n",
            "loss: 2.132580  [19264/60000]\n",
            "loss: 2.088447  [25664/60000]\n",
            "loss: 2.033102  [32064/60000]\n",
            "loss: 2.053871  [38464/60000]\n",
            "loss: 1.979900  [44864/60000]\n",
            "loss: 1.971405  [51264/60000]\n",
            "loss: 1.902051  [57664/60000]\n",
            "Test Error: \n",
            " Accuracy: 57.8%, Avg loss: 1.916347 \n",
            "\n",
            "Test Error: \n",
            " Accuracy: 57.8%, Avg loss: 1.916347 \n",
            "\n",
            "Epoch 3\n",
            "-------------------------------\n",
            "loss: 1.949713  [   64/60000]\n",
            "loss: 1.921666  [ 6464/60000]\n",
            "loss: 1.817893  [12864/60000]\n",
            "loss: 1.847003  [19264/60000]\n",
            "loss: 1.745413  [25664/60000]\n",
            "loss: 1.697260  [32064/60000]\n",
            "loss: 1.707746  [38464/60000]\n",
            "loss: 1.612613  [44864/60000]\n",
            "loss: 1.623015  [51264/60000]\n",
            "loss: 1.514844  [57664/60000]\n",
            "Test Error: \n",
            " Accuracy: 61.3%, Avg loss: 1.551439 \n",
            "\n",
            "Test Error: \n",
            " Accuracy: 61.3%, Avg loss: 1.551439 \n",
            "\n",
            "Epoch 4\n",
            "-------------------------------\n",
            "loss: 1.616024  [   64/60000]\n",
            "loss: 1.578479  [ 6464/60000]\n",
            "loss: 1.442138  [12864/60000]\n",
            "loss: 1.505256  [19264/60000]\n",
            "loss: 1.390594  [25664/60000]\n",
            "loss: 1.385837  [32064/60000]\n",
            "loss: 1.395360  [38464/60000]\n",
            "loss: 1.315721  [44864/60000]\n",
            "loss: 1.341066  [51264/60000]\n",
            "loss: 1.240246  [57664/60000]\n",
            "Test Error: \n",
            " Accuracy: 63.3%, Avg loss: 1.276915 \n",
            "\n",
            "Test Error: \n",
            " Accuracy: 63.3%, Avg loss: 1.276915 \n",
            "\n",
            "Epoch 5\n",
            "-------------------------------\n",
            "loss: 1.353577  [   64/60000]\n",
            "loss: 1.327157  [ 6464/60000]\n",
            "loss: 1.175044  [12864/60000]\n",
            "loss: 1.276005  [19264/60000]\n",
            "loss: 1.152682  [25664/60000]\n",
            "loss: 1.179795  [32064/60000]\n",
            "loss: 1.198590  [38464/60000]\n",
            "loss: 1.127989  [44864/60000]\n",
            "loss: 1.161135  [51264/60000]\n",
            "loss: 1.075827  [57664/60000]\n",
            "Test Error: \n",
            " Accuracy: 64.7%, Avg loss: 1.103021 \n",
            "\n",
            "Test Error: \n",
            " Accuracy: 64.7%, Avg loss: 1.103021 \n",
            "\n",
            "Done!\n"
          ]
        }
      ],
      "source": [
        "epochs = 5 # Number of epochs\n",
        "accuracy_h = []\n",
        "loss_h =[]\n",
        "for t in range(epochs):\n",
        "    print(f\"Epoch {t+1}\\n-------------------------------\")\n",
        "    train(train_dataloader, model, loss_fn, optimizer)\n",
        "    test(test_dataloader, model, loss_fn)\n",
        "    epoch_accuracy, epoch_loss = test(test_dataloader, model, loss_fn)\n",
        "    accuracy_h.append(epoch_accuracy)\n",
        "    loss_h.append(epoch_loss)\n",
        "print(\"Done!\")"
      ]
    },
    {
      "cell_type": "markdown",
      "source": [
        "## Plot"
      ],
      "metadata": {
        "id": "Z1Sosb6JxkOE"
      }
    },
    {
      "cell_type": "code",
      "metadata": {
        "colab": {
          "base_uri": "https://localhost:8080/",
          "height": 957
        },
        "outputId": "68b5fbe4-393b-48c2-a303-ca89a51c5729",
        "id": "o866MuLV1sba"
      },
      "source": [
        "import matplotlib.pyplot as plt\n",
        "\n",
        "# Plot Accuracy\n",
        "plt.figure(figsize=(10, 5))\n",
        "plt.plot(range(1, epochs + 1), [acc * 100 for acc in accuracy_h], marker='x')\n",
        "plt.title('Linear Model: Accuracy vs. Epochs')\n",
        "plt.xlabel('Epoch')\n",
        "plt.ylabel('Accuracy (%)') # Update the y-axis label to indicate percentage\n",
        "plt.grid(True)\n",
        "plt.show()\n",
        "\n",
        "# Plot Loss\n",
        "plt.figure(figsize=(10, 5))\n",
        "plt.plot(range(1, epochs + 1), loss_h, marker='x', color='red')\n",
        "plt.title('Linear Model: Loss vs. Epochs')\n",
        "plt.xlabel('Epoch')\n",
        "plt.ylabel('Loss')\n",
        "plt.grid(True)\n",
        "plt.show()"
      ],
      "execution_count": 125,
      "outputs": [
        {
          "output_type": "display_data",
          "data": {
            "text/plain": [
              "<Figure size 1000x500 with 1 Axes>"
            ],
            "image/png": "[encoded data removed]"
          },
          "metadata": {}
        },
        {
          "output_type": "display_data",
          "data": {
            "text/plain": [
              "<Figure size 1000x500 with 1 Axes>"
            ],
            "image/png": "[encoded data removed]"
          },
          "metadata": {}
        }
      ]
    },
    {
      "cell_type": "markdown",
      "metadata": {
        "id": "JGcGJX1c3OQH"
      },
      "source": [
        "Simple CNN Model\n",
        "==============="
      ]
    },
    {
      "cell_type": "code",
      "execution_count": 126,
      "metadata": {
        "colab": {
          "base_uri": "https://localhost:8080/"
        },
        "outputId": "89dcd9bf-b014-441c-9c74-53fb45cb181c",
        "id": "_WBAa1IB3OQI"
      },
      "outputs": [
        {
          "output_type": "stream",
          "name": "stdout",
          "text": [
            "Using cpu device\n",
            "Using Model: SimpleCNN\n"
          ]
        }
      ],
      "source": [
        "device = torch.accelerator.current_accelerator().type if torch.accelerator.is_available() else \"cpu\"\n",
        "print(f\"Using {device} device\")\n",
        "\n",
        "# Define model\n",
        "class SimpleCNN(nn.Module):\n",
        "    def __init__(self, num_of_rows = 28, num_of_cols = 28,\n",
        "                 n_filters1=4, n_filters2=8, out_categories=10):\n",
        "        super().__init__()\n",
        "\n",
        "        self.conv1 = nn.Conv2d(\n",
        "                in_channels=1,            # 1 for grayscale\n",
        "                out_channels=n_filters1,   # Number of filters\n",
        "                kernel_size=3,            # 3x3 convolution\n",
        "                stride=1,\n",
        "                padding=1          # Keep output size same as input\n",
        "                )\n",
        "        self.pool = nn.MaxPool2d(2, 2)  # halves size to 14x14\n",
        "\n",
        "        self.conv2 = nn.Conv2d(\n",
        "                in_channels=n_filters1,    # NOTE: Use n_filters1 from conv1\n",
        "                out_channels=n_filters2,   # New number of filters\n",
        "                kernel_size=3,            # 3x3 convolution\n",
        "                stride=1,\n",
        "                padding=1          # Keep output size same as input\n",
        "                )\n",
        "\n",
        "        # out_categories should match the number of output categories.\n",
        "        # Match the dimensions to the input.\n",
        "        # Divide by 2 for each maxpooling (carefull for non-even numbers ...)\n",
        "        num_of_pixels = math.ceil(num_of_rows/(2*2) * num_of_cols/(2*2))\n",
        "\n",
        "        # Final layer collects the pixels from all of the inputs:\n",
        "        self.fc1 = nn.Linear(n_filters2 * num_of_pixels, out_categories)\n",
        "\n",
        "    def forward(self, x):\n",
        "        x = self.pool(F.relu(self.conv1(x)))  # -> [batch, 4, 14, 14]\n",
        "        x = self.pool(F.relu(self.conv2(x)))  # -> [batch, 8, 7, 7]\n",
        "        x = x.view(x.size(0), -1)             # flatten to [batch, 8*7*7]\n",
        "        logits = F.relu(self.fc1(x))\n",
        "        return logits # Note: SoftMax is applied to logits by cross-entropy loss function.\n",
        "\n",
        "\n",
        "## SimpleCNN\n",
        "NeuralNetwork = SimpleCNN\n",
        "model_to_use = SimpleCNN(n_filters1=4, n_filters2=8)\n",
        "\n",
        "model = model_to_use.to(device)\n",
        "print(f\"Using Model: {model.__class__.__name__}\") # Name of model print"
      ]
    },
    {
      "cell_type": "markdown",
      "source": [
        "## Model Parameters"
      ],
      "metadata": {
        "id": "NvBuUQa_3OQJ"
      }
    },
    {
      "cell_type": "code",
      "source": [
        "def parameter_report(model):\n",
        "    print(f\"{'Layer':<40} {'# Params':>12} {'Trainable':>10}\")\n",
        "    print(\"-\" * 65)\n",
        "    total, trainable = 0, 0\n",
        "    for name, param in model.named_parameters():\n",
        "        num_params = param.numel()\n",
        "        is_trainable = param.requires_grad\n",
        "        print(f\"{name:<40} {num_params:>12,} {str(is_trainable):>10}\")\n",
        "        total += num_params\n",
        "        if is_trainable:\n",
        "            trainable += num_params\n",
        "    print(\"-\" * 65)\n",
        "    print(f\"{'Total':<40} {total:>12,} {'':>10}\")\n",
        "    print(f\"{'Trainable':<40} {trainable:>12,}\")\n",
        "\n",
        "\n",
        "print(model)\n",
        "print(\" \")\n",
        "\n",
        "parameter_report(model)"
      ],
      "metadata": {
        "colab": {
          "base_uri": "https://localhost:8080/"
        },
        "outputId": "2553439b-0cfc-4977-9270-bf2f1fd3de16",
        "id": "lMfa2u3B3OQJ"
      },
      "execution_count": 127,
      "outputs": [
        {
          "output_type": "stream",
          "name": "stdout",
          "text": [
            "SimpleCNN(\n",
            "  (conv1): Conv2d(1, 4, kernel_size=(3, 3), stride=(1, 1), padding=(1, 1))\n",
            "  (pool): MaxPool2d(kernel_size=2, stride=2, padding=0, dilation=1, ceil_mode=False)\n",
            "  (conv2): Conv2d(4, 8, kernel_size=(3, 3), stride=(1, 1), padding=(1, 1))\n",
            "  (fc1): Linear(in_features=392, out_features=10, bias=True)\n",
            ")\n",
            " \n",
            "Layer                                        # Params  Trainable\n",
            "-----------------------------------------------------------------\n",
            "conv1.weight                                       36       True\n",
            "conv1.bias                                          4       True\n",
            "conv2.weight                                      288       True\n",
            "conv2.bias                                          8       True\n",
            "fc1.weight                                      3,920       True\n",
            "fc1.bias                                           10       True\n",
            "-----------------------------------------------------------------\n",
            "Total                                           4,266           \n",
            "Trainable                                       4,266\n"
          ]
        }
      ]
    },
    {
      "cell_type": "markdown",
      "metadata": {
        "id": "VdUEr2fu3OQK"
      },
      "source": [
        "------------------------------------------------------------------------\n"
      ]
    },
    {
      "cell_type": "markdown",
      "metadata": {
        "id": "S0epzHUT3OQK"
      },
      "source": [
        "## Optimizing the Model Parameters"
      ]
    },
    {
      "cell_type": "code",
      "execution_count": 128,
      "metadata": {
        "id": "fiEdpyDv3OQK"
      },
      "outputs": [],
      "source": [
        "loss_fn = nn.CrossEntropyLoss()\n",
        "optimizer = torch.optim.SGD(model.parameters(), lr=1e-3)"
      ]
    },
    {
      "cell_type": "markdown",
      "source": [
        "Training function"
      ],
      "metadata": {
        "id": "MLn6TTxE3OQK"
      }
    },
    {
      "cell_type": "code",
      "execution_count": 129,
      "metadata": {
        "id": "vQOBLcEZ3OQK"
      },
      "outputs": [],
      "source": [
        "def train(dataloader, model, loss_fn, optimizer):\n",
        "    size = len(dataloader.dataset)\n",
        "    model.train() # Put the model in training mode.\n",
        "    for batch, (X, y) in enumerate(dataloader):\n",
        "        # Place the model and predictions on the same device.\n",
        "        X, y = X.to(device), y.to(device)\n",
        "\n",
        "        # Compute prediction error\n",
        "        pred = model(X)\n",
        "        loss = loss_fn(pred, y)\n",
        "\n",
        "        # Backpropagation\n",
        "        # This step updates the parameter values inside your network.\n",
        "        loss.backward()\n",
        "        optimizer.step()\n",
        "        optimizer.zero_grad()\n",
        "\n",
        "        # Print progress every 100 batches:\n",
        "        if batch % 100 == 0:\n",
        "            loss, current = loss.item(), (batch + 1) * len(X)\n",
        "            print(f\"loss: {loss:>7f}  [{current:>5d}/{size:>5d}]\")"
      ]
    },
    {
      "cell_type": "markdown",
      "source": [
        "## Testing function"
      ],
      "metadata": {
        "id": "FyHYgmlS3OQL"
      }
    },
    {
      "cell_type": "code",
      "execution_count": 130,
      "metadata": {
        "id": "-m8lluAB3OQL"
      },
      "outputs": [],
      "source": [
        "def test(dataloader, model, loss_fn):\n",
        "    size = len(dataloader.dataset)\n",
        "    num_batches = len(dataloader)\n",
        "    model.eval() # Put the model in testing mode.\n",
        "    test_loss, correct = 0, 0\n",
        "    with torch.no_grad():\n",
        "        for X, y in dataloader:\n",
        "            X, y = X.to(device), y.to(device)\n",
        "            pred = model(X)\n",
        "            test_loss += loss_fn(pred, y).item()\n",
        "            correct += (pred.argmax(1) == y).type(torch.float).sum().item()\n",
        "    test_loss /= num_batches\n",
        "    correct /= size\n",
        "    print(f\"Test Error: \\n Accuracy: {(100*correct):>0.1f}%, Avg loss: {test_loss:>8f} \\n\")\n",
        "    return correct, test_loss"
      ]
    },
    {
      "cell_type": "markdown",
      "source": [
        "## Simple CNN: Accuracy, Epochs, and Value of Loss Function"
      ],
      "metadata": {
        "id": "q1cdj4nh3OQL"
      }
    },
    {
      "cell_type": "code",
      "execution_count": 131,
      "metadata": {
        "colab": {
          "base_uri": "https://localhost:8080/"
        },
        "outputId": "8249d90b-c0c6-4f4d-ff72-5c6cfc7dda10",
        "collapsed": true,
        "id": "Fr0MANPR3OQL"
      },
      "outputs": [
        {
          "output_type": "stream",
          "name": "stdout",
          "text": [
            "Epoch 1\n",
            "-------------------------------\n",
            "loss: 2.309000  [   64/60000]\n",
            "loss: 2.292687  [ 6464/60000]\n",
            "loss: 2.286225  [12864/60000]\n",
            "loss: 2.278603  [19264/60000]\n",
            "loss: 2.286486  [25664/60000]\n",
            "loss: 2.270729  [32064/60000]\n",
            "loss: 2.284669  [38464/60000]\n",
            "loss: 2.272753  [44864/60000]\n",
            "loss: 2.273769  [51264/60000]\n",
            "loss: 2.262829  [57664/60000]\n",
            "Test Error: \n",
            " Accuracy: 32.8%, Avg loss: 2.257110 \n",
            "\n",
            "Test Error: \n",
            " Accuracy: 32.8%, Avg loss: 2.257110 \n",
            "\n",
            "Epoch 2\n",
            "-------------------------------\n",
            "loss: 2.272745  [   64/60000]\n",
            "loss: 2.256319  [ 6464/60000]\n",
            "loss: 2.228805  [12864/60000]\n",
            "loss: 2.223480  [19264/60000]\n",
            "loss: 2.226759  [25664/60000]\n",
            "loss: 2.194978  [32064/60000]\n",
            "loss: 2.225328  [38464/60000]\n",
            "loss: 2.185205  [44864/60000]\n",
            "loss: 2.191236  [51264/60000]\n",
            "loss: 2.160423  [57664/60000]\n",
            "Test Error: \n",
            " Accuracy: 40.1%, Avg loss: 2.137123 \n",
            "\n",
            "Test Error: \n",
            " Accuracy: 40.1%, Avg loss: 2.137123 \n",
            "\n",
            "Epoch 3\n",
            "-------------------------------\n",
            "loss: 2.191814  [   64/60000]\n",
            "loss: 2.131517  [ 6464/60000]\n",
            "loss: 2.031038  [12864/60000]\n",
            "loss: 2.014412  [19264/60000]\n",
            "loss: 2.014484  [25664/60000]\n",
            "loss: 1.952054  [32064/60000]\n",
            "loss: 2.052596  [38464/60000]\n",
            "loss: 1.945551  [44864/60000]\n",
            "loss: 2.002248  [51264/60000]\n",
            "loss: 1.938054  [57664/60000]\n",
            "Test Error: \n",
            " Accuracy: 42.1%, Avg loss: 1.876802 \n",
            "\n",
            "Test Error: \n",
            " Accuracy: 42.1%, Avg loss: 1.876802 \n",
            "\n",
            "Epoch 4\n",
            "-------------------------------\n",
            "loss: 2.033711  [   64/60000]\n",
            "loss: 1.897887  [ 6464/60000]\n",
            "loss: 1.717489  [12864/60000]\n",
            "loss: 1.715451  [19264/60000]\n",
            "loss: 1.767070  [25664/60000]\n",
            "loss: 1.713840  [32064/60000]\n",
            "loss: 1.878803  [38464/60000]\n",
            "loss: 1.777872  [44864/60000]\n",
            "loss: 1.801021  [51264/60000]\n",
            "loss: 1.787838  [57664/60000]\n",
            "Test Error: \n",
            " Accuracy: 48.5%, Avg loss: 1.667692 \n",
            "\n",
            "Test Error: \n",
            " Accuracy: 48.5%, Avg loss: 1.667692 \n",
            "\n",
            "Epoch 5\n",
            "-------------------------------\n",
            "loss: 1.839047  [   64/60000]\n",
            "loss: 1.695250  [ 6464/60000]\n",
            "loss: 1.462656  [12864/60000]\n",
            "loss: 1.502808  [19264/60000]\n",
            "loss: 1.481744  [25664/60000]\n",
            "loss: 1.537382  [32064/60000]\n",
            "loss: 1.733797  [38464/60000]\n",
            "loss: 1.622819  [44864/60000]\n",
            "loss: 1.609382  [51264/60000]\n",
            "loss: 1.707345  [57664/60000]\n",
            "Test Error: \n",
            " Accuracy: 54.6%, Avg loss: 1.525605 \n",
            "\n",
            "Test Error: \n",
            " Accuracy: 54.6%, Avg loss: 1.525605 \n",
            "\n",
            "Done!\n"
          ]
        }
      ],
      "source": [
        "epochs = 5 # Number of epochs\n",
        "accuracy_h = []\n",
        "loss_h =[]\n",
        "for t in range(epochs):\n",
        "    print(f\"Epoch {t+1}\\n-------------------------------\")\n",
        "    train(train_dataloader, model, loss_fn, optimizer)\n",
        "    test(test_dataloader, model, loss_fn)\n",
        "    epoch_accuracy, epoch_loss = test(test_dataloader, model, loss_fn)\n",
        "    accuracy_h.append(epoch_accuracy)\n",
        "    loss_h.append(epoch_loss)\n",
        "print(\"Done!\")"
      ]
    },
    {
      "cell_type": "markdown",
      "source": [
        "## Plot"
      ],
      "metadata": {
        "id": "GQRcxHQx3OQL"
      }
    },
    {
      "cell_type": "code",
      "metadata": {
        "colab": {
          "base_uri": "https://localhost:8080/",
          "height": 957
        },
        "outputId": "f0cb7ce6-e8c1-495c-bd43-7097aff9f187",
        "id": "WJ7kPMmC3OQM"
      },
      "source": [
        "import matplotlib.pyplot as plt\n",
        "\n",
        "# Plot Accuracy\n",
        "plt.figure(figsize=(10, 5))\n",
        "plt.plot(range(1, epochs + 1), [acc * 100 for acc in accuracy_h], marker='x')\n",
        "plt.title('Simple CNN: Accuracy vs. Epochs')\n",
        "plt.xlabel('Epoch')\n",
        "plt.ylabel('Accuracy (%)') # Update the y-axis label to indicate percentage\n",
        "plt.grid(True)\n",
        "plt.show()\n",
        "\n",
        "# Plot Loss\n",
        "plt.figure(figsize=(10, 5))\n",
        "plt.plot(range(1, epochs + 1), loss_h, marker='x', color='red')\n",
        "plt.title('Simple CNN: Loss vs. Epochs')\n",
        "plt.xlabel('Epoch')\n",
        "plt.ylabel('Loss')\n",
        "plt.grid(True)\n",
        "plt.show()"
      ],
      "execution_count": 132,
      "outputs": [
        {
          "output_type": "display_data",
          "data": {
            "text/plain": [
              "<Figure size 1000x500 with 1 Axes>"
            ],
            "image/png": "[encoded data removed]"
          },
          "metadata": {}
        },
        {
          "output_type": "display_data",
          "data": {
            "text/plain": [
              "<Figure size 1000x500 with 1 Axes>"
            ],
            "image/png": "[encoded data removed]"
          },
          "metadata": {}
        }
      ]
    },
    {
      "cell_type": "markdown",
      "metadata": {
        "id": "vZKeZBz33OQM"
      },
      "source": [
        "------------------------------------------------------------------------\n"
      ]
    },
    {
      "cell_type": "code",
      "source": [],
      "metadata": {
        "id": "pZ6XFJm53OQM"
      },
      "execution_count": 132,
      "outputs": []
    },
    {
      "cell_type": "markdown",
      "metadata": {
        "id": "KPvrpvvuRIMl"
      },
      "source": [
        "CNN Model 2 - Filters Change (8,16)\n",
        "==============="
      ]
    },
    {
      "cell_type": "code",
      "execution_count": 147,
      "metadata": {
        "id": "FacQmS5nRIMl",
        "colab": {
          "base_uri": "https://localhost:8080/"
        },
        "outputId": "111046a8-fc20-46e8-fe95-4920751f7947"
      },
      "outputs": [
        {
          "output_type": "stream",
          "name": "stdout",
          "text": [
            "Using cpu device\n",
            "Using Model: SimpleCNN\n"
          ]
        }
      ],
      "source": [
        "device = torch.accelerator.current_accelerator().type if torch.accelerator.is_available() else \"cpu\"\n",
        "print(f\"Using {device} device\")\n",
        "\n",
        "# Define model\n",
        "class SimpleCNN(nn.Module):\n",
        "    def __init__(self, num_of_rows = 28, num_of_cols = 28,\n",
        "                 n_filters1=8, n_filters2=16, out_categories=10):\n",
        "        super().__init__()\n",
        "\n",
        "        self.conv1 = nn.Conv2d(\n",
        "                in_channels=1,            # 1 for grayscale\n",
        "                out_channels=n_filters1,   # Number of filters\n",
        "                kernel_size=3,            # 3x3 convolution\n",
        "                stride=1,\n",
        "                padding=1          # Keep output size same as input\n",
        "                )\n",
        "        self.pool = nn.MaxPool2d(2, 2)  # halves size to 14x14\n",
        "\n",
        "        self.conv2 = nn.Conv2d(\n",
        "                in_channels=n_filters1,    # NOTE: Use n_filters1 from conv1\n",
        "                out_channels=n_filters2,   # New number of filters\n",
        "                kernel_size=3,            # 3x3 convolution\n",
        "                stride=1,\n",
        "                padding=1          # Keep output size same as input\n",
        "                )\n",
        "\n",
        "        # out_categories should match the number of output categories.\n",
        "        # Match the dimensions to the input.\n",
        "        # Divide by 2 for each maxpooling (carefull for non-even numbers ...)\n",
        "        num_of_pixels = math.ceil(num_of_rows/(2*2) * num_of_cols/(2*2))\n",
        "\n",
        "        # Final layer collects the pixels from all of the inputs:\n",
        "        self.fc1 = nn.Linear(n_filters2 * num_of_pixels, out_categories)\n",
        "\n",
        "    def forward(self, x):\n",
        "        x = self.pool(F.relu(self.conv1(x)))  # -> [batch, 4, 14, 14]\n",
        "        x = self.pool(F.relu(self.conv2(x)))  # -> [batch, 8, 7, 7]\n",
        "        x = x.view(x.size(0), -1)             # flatten to [batch, 8*7*7]\n",
        "        logits = F.relu(self.fc1(x))\n",
        "        return logits # Note: SoftMax is applied to logits by cross-entropy loss function.\n",
        "\n",
        "\n",
        "## SimpleCNN\n",
        "NeuralNetwork = SimpleCNN\n",
        "model_to_use = SimpleCNN(n_filters1=8, n_filters2=16)\n",
        "\n",
        "model = model_to_use.to(device)\n",
        "print(f\"Using Model: {model.__class__.__name__}\") # Name of model print"
      ]
    },
    {
      "cell_type": "markdown",
      "source": [
        "## Model Parameters"
      ],
      "metadata": {
        "id": "_AYkfrgF4lqY"
      }
    },
    {
      "cell_type": "code",
      "source": [
        "def parameter_report(model):\n",
        "    print(f\"{'Layer':<40} {'# Params':>12} {'Trainable':>10}\")\n",
        "    print(\"-\" * 65)\n",
        "    total, trainable = 0, 0\n",
        "    for name, param in model.named_parameters():\n",
        "        num_params = param.numel()\n",
        "        is_trainable = param.requires_grad\n",
        "        print(f\"{name:<40} {num_params:>12,} {str(is_trainable):>10}\")\n",
        "        total += num_params\n",
        "        if is_trainable:\n",
        "            trainable += num_params\n",
        "    print(\"-\" * 65)\n",
        "    print(f\"{'Total':<40} {total:>12,} {'':>10}\")\n",
        "    print(f\"{'Trainable':<40} {trainable:>12,}\")\n",
        "\n",
        "\n",
        "print(model)\n",
        "print(\" \")\n",
        "\n",
        "parameter_report(model)"
      ],
      "metadata": {
        "id": "OA7FLccv4mEC",
        "colab": {
          "base_uri": "https://localhost:8080/"
        },
        "outputId": "c8c548e5-8296-4ad2-d82c-d79b49d8b87c"
      },
      "execution_count": 148,
      "outputs": [
        {
          "output_type": "stream",
          "name": "stdout",
          "text": [
            "SimpleCNN(\n",
            "  (conv1): Conv2d(1, 8, kernel_size=(3, 3), stride=(1, 1), padding=(1, 1))\n",
            "  (pool): MaxPool2d(kernel_size=2, stride=2, padding=0, dilation=1, ceil_mode=False)\n",
            "  (conv2): Conv2d(8, 16, kernel_size=(3, 3), stride=(1, 1), padding=(1, 1))\n",
            "  (fc1): Linear(in_features=784, out_features=10, bias=True)\n",
            ")\n",
            " \n",
            "Layer                                        # Params  Trainable\n",
            "-----------------------------------------------------------------\n",
            "conv1.weight                                       72       True\n",
            "conv1.bias                                          8       True\n",
            "conv2.weight                                    1,152       True\n",
            "conv2.bias                                         16       True\n",
            "fc1.weight                                      7,840       True\n",
            "fc1.bias                                           10       True\n",
            "-----------------------------------------------------------------\n",
            "Total                                           9,098           \n",
            "Trainable                                       9,098\n"
          ]
        }
      ]
    },
    {
      "cell_type": "markdown",
      "metadata": {
        "id": "rsooZOftRIMm"
      },
      "source": [
        "------------------------------------------------------------------------\n"
      ]
    },
    {
      "cell_type": "markdown",
      "metadata": {
        "id": "T0P-EPJnRIMm"
      },
      "source": [
        "## Optimizing the Model Parameters"
      ]
    },
    {
      "cell_type": "code",
      "execution_count": 152,
      "metadata": {
        "id": "o3SKF6rxRIMm"
      },
      "outputs": [],
      "source": [
        "loss_fn = nn.CrossEntropyLoss()\n",
        "optimizer = torch.optim.SGD(model.parameters(), lr=1e-3)"
      ]
    },
    {
      "cell_type": "markdown",
      "source": [
        "Training function"
      ],
      "metadata": {
        "id": "p1HJNtrd7PSp"
      }
    },
    {
      "cell_type": "code",
      "execution_count": 153,
      "metadata": {
        "id": "v66--0FCRIMm"
      },
      "outputs": [],
      "source": [
        "def train(dataloader, model, loss_fn, optimizer):\n",
        "    size = len(dataloader.dataset)\n",
        "    model.train() # Put the model in training mode.\n",
        "    for batch, (X, y) in enumerate(dataloader):\n",
        "        # Place the model and predictions on the same device.\n",
        "        X, y = X.to(device), y.to(device)\n",
        "\n",
        "        # Compute prediction error\n",
        "        pred = model(X)\n",
        "        loss = loss_fn(pred, y)\n",
        "\n",
        "        # Backpropagation\n",
        "        # This step updates the parameter values inside your network.\n",
        "        loss.backward()\n",
        "        optimizer.step()\n",
        "        optimizer.zero_grad()\n",
        "\n",
        "        # Print progress every 100 batches:\n",
        "        if batch % 100 == 0:\n",
        "            loss, current = loss.item(), (batch + 1) * len(X)\n",
        "            print(f\"loss: {loss:>7f}  [{current:>5d}/{size:>5d}]\")"
      ]
    },
    {
      "cell_type": "markdown",
      "source": [
        "## Testing function"
      ],
      "metadata": {
        "id": "oqib5btw8OGN"
      }
    },
    {
      "cell_type": "code",
      "execution_count": 137,
      "metadata": {
        "id": "w7BHwZXhRIMm"
      },
      "outputs": [],
      "source": [
        "def test(dataloader, model, loss_fn):\n",
        "    size = len(dataloader.dataset)\n",
        "    num_batches = len(dataloader)\n",
        "    model.eval() # Put the model in testing mode.\n",
        "    test_loss, correct = 0, 0\n",
        "    with torch.no_grad():\n",
        "        for X, y in dataloader:\n",
        "            X, y = X.to(device), y.to(device)\n",
        "            pred = model(X)\n",
        "            test_loss += loss_fn(pred, y).item()\n",
        "            correct += (pred.argmax(1) == y).type(torch.float).sum().item()\n",
        "    test_loss /= num_batches\n",
        "    correct /= size\n",
        "    print(f\"Test Error: \\n Accuracy: {(100*correct):>0.1f}%, Avg loss: {test_loss:>8f} \\n\")\n",
        "    return correct, test_loss"
      ]
    },
    {
      "cell_type": "markdown",
      "source": [
        "## Simple CNN: Accuracy, Epochs, and Value of Loss Function"
      ],
      "metadata": {
        "id": "_3uGW_bgGoUC"
      }
    },
    {
      "cell_type": "code",
      "execution_count": 138,
      "metadata": {
        "id": "5wkVbGV0RIMm",
        "colab": {
          "base_uri": "https://localhost:8080/"
        },
        "outputId": "4e6cd550-9aa7-48ad-acd2-ca69b2843d9b",
        "collapsed": true
      },
      "outputs": [
        {
          "output_type": "stream",
          "name": "stdout",
          "text": [
            "Epoch 1\n",
            "-------------------------------\n",
            "loss: 2.309342  [   64/60000]\n",
            "loss: 2.300967  [ 6464/60000]\n",
            "loss: 2.289233  [12864/60000]\n",
            "loss: 2.289514  [19264/60000]\n",
            "loss: 2.277501  [25664/60000]\n",
            "loss: 2.290227  [32064/60000]\n",
            "loss: 2.282279  [38464/60000]\n",
            "loss: 2.274675  [44864/60000]\n",
            "loss: 2.269272  [51264/60000]\n",
            "loss: 2.271043  [57664/60000]\n",
            "Test Error: \n",
            " Accuracy: 38.8%, Avg loss: 2.252042 \n",
            "\n",
            "Test Error: \n",
            " Accuracy: 38.8%, Avg loss: 2.252042 \n",
            "\n",
            "Epoch 2\n",
            "-------------------------------\n",
            "loss: 2.260041  [   64/60000]\n",
            "loss: 2.232059  [ 6464/60000]\n",
            "loss: 2.199994  [12864/60000]\n",
            "loss: 2.207347  [19264/60000]\n",
            "loss: 2.162807  [25664/60000]\n",
            "loss: 2.195492  [32064/60000]\n",
            "loss: 2.171536  [38464/60000]\n",
            "loss: 2.130279  [44864/60000]\n",
            "loss: 2.124161  [51264/60000]\n",
            "loss: 2.133350  [57664/60000]\n",
            "Test Error: \n",
            " Accuracy: 40.7%, Avg loss: 2.030754 \n",
            "\n",
            "Test Error: \n",
            " Accuracy: 40.7%, Avg loss: 2.030754 \n",
            "\n",
            "Epoch 3\n",
            "-------------------------------\n",
            "loss: 2.075485  [   64/60000]\n",
            "loss: 1.938790  [ 6464/60000]\n",
            "loss: 1.808863  [12864/60000]\n",
            "loss: 1.868711  [19264/60000]\n",
            "loss: 1.652335  [25664/60000]\n",
            "loss: 1.840270  [32064/60000]\n",
            "loss: 1.801671  [38464/60000]\n",
            "loss: 1.702609  [44864/60000]\n",
            "loss: 1.705230  [51264/60000]\n",
            "loss: 1.894982  [57664/60000]\n",
            "Test Error: \n",
            " Accuracy: 54.0%, Avg loss: 1.586256 \n",
            "\n",
            "Test Error: \n",
            " Accuracy: 54.0%, Avg loss: 1.586256 \n",
            "\n",
            "Epoch 4\n",
            "-------------------------------\n",
            "loss: 1.641546  [   64/60000]\n",
            "loss: 1.473820  [ 6464/60000]\n",
            "loss: 1.358168  [12864/60000]\n",
            "loss: 1.553639  [19264/60000]\n",
            "loss: 1.312441  [25664/60000]\n",
            "loss: 1.598926  [32064/60000]\n",
            "loss: 1.536250  [38464/60000]\n",
            "loss: 1.432626  [44864/60000]\n",
            "loss: 1.469667  [51264/60000]\n",
            "loss: 1.762419  [57664/60000]\n",
            "Test Error: \n",
            " Accuracy: 56.9%, Avg loss: 1.394428 \n",
            "\n",
            "Test Error: \n",
            " Accuracy: 56.9%, Avg loss: 1.394428 \n",
            "\n",
            "Epoch 5\n",
            "-------------------------------\n",
            "loss: 1.416772  [   64/60000]\n",
            "loss: 1.284636  [ 6464/60000]\n",
            "loss: 1.169935  [12864/60000]\n",
            "loss: 1.460974  [19264/60000]\n",
            "loss: 1.236098  [25664/60000]\n",
            "loss: 1.526475  [32064/60000]\n",
            "loss: 1.422047  [38464/60000]\n",
            "loss: 1.338646  [44864/60000]\n",
            "loss: 1.381518  [51264/60000]\n",
            "loss: 1.700927  [57664/60000]\n",
            "Test Error: \n",
            " Accuracy: 57.9%, Avg loss: 1.318650 \n",
            "\n",
            "Test Error: \n",
            " Accuracy: 57.9%, Avg loss: 1.318650 \n",
            "\n",
            "Done!\n"
          ]
        }
      ],
      "source": [
        "epochs = 5 # Number of epochs\n",
        "accuracy_h = []\n",
        "loss_h =[]\n",
        "for t in range(epochs):\n",
        "    print(f\"Epoch {t+1}\\n-------------------------------\")\n",
        "    train(train_dataloader, model, loss_fn, optimizer)\n",
        "    test(test_dataloader, model, loss_fn)\n",
        "    epoch_accuracy, epoch_loss = test(test_dataloader, model, loss_fn)\n",
        "    accuracy_h.append(epoch_accuracy)\n",
        "    loss_h.append(epoch_loss)\n",
        "print(\"Done!\")"
      ]
    },
    {
      "cell_type": "markdown",
      "source": [
        "## Plot"
      ],
      "metadata": {
        "id": "pFRnlFS4xM4I"
      }
    },
    {
      "cell_type": "code",
      "metadata": {
        "colab": {
          "base_uri": "https://localhost:8080/",
          "height": 957
        },
        "id": "a9489d69",
        "outputId": "29f8cd31-a71e-4f50-d544-b752fdff827c"
      },
      "source": [
        "import matplotlib.pyplot as plt\n",
        "\n",
        "# Plot Accuracy\n",
        "plt.figure(figsize=(10, 5))\n",
        "plt.plot(range(1, epochs + 1), [acc * 100 for acc in accuracy_h], marker='x')\n",
        "plt.title('Simple CNN: Accuracy vs. Epochs')\n",
        "plt.xlabel('Epoch')\n",
        "plt.ylabel('Accuracy (%)') # Update the y-axis label to indicate percentage\n",
        "plt.grid(True)\n",
        "plt.show()\n",
        "\n",
        "# Plot Loss\n",
        "plt.figure(figsize=(10, 5))\n",
        "plt.plot(range(1, epochs + 1), loss_h, marker='x', color='red')\n",
        "plt.title('Simple CNN: Loss vs. Epochs')\n",
        "plt.xlabel('Epoch')\n",
        "plt.ylabel('Loss')\n",
        "plt.grid(True)\n",
        "plt.show()"
      ],
      "execution_count": 139,
      "outputs": [
        {
          "output_type": "display_data",
          "data": {
            "text/plain": [
              "<Figure size 1000x500 with 1 Axes>"
            ],
            "image/png": "[encoded data removed]"
          },
          "metadata": {}
        },
        {
          "output_type": "display_data",
          "data": {
            "text/plain": [
              "<Figure size 1000x500 with 1 Axes>"
            ],
            "image/png": "[encoded data removed]"
          },
          "metadata": {}
        }
      ]
    },
    {
      "cell_type": "markdown",
      "metadata": {
        "id": "9H6PC1KIRIMm"
      },
      "source": [
        "------------------------------------------------------------------------\n"
      ]
    },
    {
      "cell_type": "code",
      "source": [],
      "metadata": {
        "id": "OLvhYFnjxdLm"
      },
      "execution_count": 139,
      "outputs": []
    },
    {
      "cell_type": "markdown",
      "source": [],
      "metadata": {
        "id": "v3WYZ68_3AfF"
      }
    },
    {
      "cell_type": "markdown",
      "metadata": {
        "id": "ETiUlmeR3DXd"
      },
      "source": [
        "CNN Model 3 - Filters Change (16, 32)\n",
        "==============="
      ]
    },
    {
      "cell_type": "code",
      "execution_count": 140,
      "metadata": {
        "colab": {
          "base_uri": "https://localhost:8080/"
        },
        "outputId": "73caf67d-e7d4-4bd0-c1f6-3ce6c9c71a83",
        "id": "Gin5yJNh3DXe"
      },
      "outputs": [
        {
          "output_type": "stream",
          "name": "stdout",
          "text": [
            "Using cpu device\n",
            "Using Model: SimpleCNN\n"
          ]
        }
      ],
      "source": [
        "device = torch.accelerator.current_accelerator().type if torch.accelerator.is_available() else \"cpu\"\n",
        "print(f\"Using {device} device\")\n",
        "\n",
        "# Define model\n",
        "class SimpleCNN(nn.Module):\n",
        "    def __init__(self, num_of_rows = 28, num_of_cols = 28,\n",
        "                 n_filters1=4, n_filters2=8, out_categories=10):\n",
        "        super().__init__()\n",
        "\n",
        "        self.conv1 = nn.Conv2d(\n",
        "                in_channels=1,            # 1 for grayscale\n",
        "                out_channels=n_filters1,   # Number of filters\n",
        "                kernel_size=3,            # 3x3 convolution\n",
        "                stride=1,\n",
        "                padding=1          # Keep output size same as input\n",
        "                )\n",
        "        self.pool = nn.MaxPool2d(2, 2)  # halves size to 14x14\n",
        "\n",
        "        self.conv2 = nn.Conv2d(\n",
        "                in_channels=n_filters1,    # NOTE: Use n_filters1 from conv1\n",
        "                out_channels=n_filters2,   # New number of filters\n",
        "                kernel_size=3,            # 3x3 convolution\n",
        "                stride=1,\n",
        "                padding=1          # Keep output size same as input\n",
        "                )\n",
        "\n",
        "        # out_categories should match the number of output categories.\n",
        "        # Match the dimensions to the input.\n",
        "        # Divide by 2 for each maxpooling (carefull for non-even numbers ...)\n",
        "        num_of_pixels = math.ceil(num_of_rows/(2*2) * num_of_cols/(2*2))\n",
        "\n",
        "        # Final layer collects the pixels from all of the inputs:\n",
        "        self.fc1 = nn.Linear(n_filters2 * num_of_pixels, out_categories)\n",
        "\n",
        "    def forward(self, x):\n",
        "        x = self.pool(F.relu(self.conv1(x)))  # -> [batch, 4, 14, 14]\n",
        "        x = self.pool(F.relu(self.conv2(x)))  # -> [batch, 8, 7, 7]\n",
        "        x = x.view(x.size(0), -1)             # flatten to [batch, 8*7*7]\n",
        "        logits = F.relu(self.fc1(x))\n",
        "        return logits # Note: SoftMax is applied to logits by cross-entropy loss function.\n",
        "\n",
        "# Define model\n",
        "class LinearModel(nn.Module):\n",
        "    def __init__(self):\n",
        "        super().__init__()\n",
        "        self.flatten = nn.Flatten()\n",
        "        self.linear_relu_stack = nn.Sequential(\n",
        "            nn.Linear(28*28, 512),\n",
        "            nn.ReLU(),\n",
        "            nn.Linear(512, 512),\n",
        "            nn.ReLU(),\n",
        "            nn.Linear(512, 10)\n",
        "        )\n",
        "\n",
        "    def forward(self, x):\n",
        "        x = self.flatten(x)\n",
        "        logits = self.linear_relu_stack(x)\n",
        "        return logits\n",
        "\n",
        "\n",
        "# Define the model here\n",
        "\n",
        "## Linear Model\n",
        "#NeuralNetwork = LinearModel\n",
        "#model_to_use  = LinearModel()\n",
        "\n",
        "## SimpleCNN\n",
        "NeuralNetwork = SimpleCNN\n",
        "model_to_use = SimpleCNN(n_filters1=16, n_filters2=32)\n",
        "\n",
        "model = model_to_use.to(device)\n",
        "print(f\"Using Model: {model.__class__.__name__}\") # Name of model print"
      ]
    },
    {
      "cell_type": "markdown",
      "source": [
        "## Model Parameters"
      ],
      "metadata": {
        "id": "VtQqRXIk3DXe"
      }
    },
    {
      "cell_type": "code",
      "source": [
        "def parameter_report(model):\n",
        "    print(f\"{'Layer':<40} {'# Params':>12} {'Trainable':>10}\")\n",
        "    print(\"-\" * 65)\n",
        "    total, trainable = 0, 0\n",
        "    for name, param in model.named_parameters():\n",
        "        num_params = param.numel()\n",
        "        is_trainable = param.requires_grad\n",
        "        print(f\"{name:<40} {num_params:>12,} {str(is_trainable):>10}\")\n",
        "        total += num_params\n",
        "        if is_trainable:\n",
        "            trainable += num_params\n",
        "    print(\"-\" * 65)\n",
        "    print(f\"{'Total':<40} {total:>12,} {'':>10}\")\n",
        "    print(f\"{'Trainable':<40} {trainable:>12,}\")\n",
        "\n",
        "\n",
        "print(model)\n",
        "print(\" \")\n",
        "\n",
        "parameter_report(model)"
      ],
      "metadata": {
        "colab": {
          "base_uri": "https://localhost:8080/"
        },
        "outputId": "9e1b9733-3651-42c9-e4e4-4f35f94a0e93",
        "id": "wAy1_oKf3DXf"
      },
      "execution_count": 141,
      "outputs": [
        {
          "output_type": "stream",
          "name": "stdout",
          "text": [
            "SimpleCNN(\n",
            "  (conv1): Conv2d(1, 16, kernel_size=(3, 3), stride=(1, 1), padding=(1, 1))\n",
            "  (pool): MaxPool2d(kernel_size=2, stride=2, padding=0, dilation=1, ceil_mode=False)\n",
            "  (conv2): Conv2d(16, 32, kernel_size=(3, 3), stride=(1, 1), padding=(1, 1))\n",
            "  (fc1): Linear(in_features=1568, out_features=10, bias=True)\n",
            ")\n",
            " \n",
            "Layer                                        # Params  Trainable\n",
            "-----------------------------------------------------------------\n",
            "conv1.weight                                      144       True\n",
            "conv1.bias                                         16       True\n",
            "conv2.weight                                    4,608       True\n",
            "conv2.bias                                         32       True\n",
            "fc1.weight                                     15,680       True\n",
            "fc1.bias                                           10       True\n",
            "-----------------------------------------------------------------\n",
            "Total                                          20,490           \n",
            "Trainable                                      20,490\n"
          ]
        }
      ]
    },
    {
      "cell_type": "markdown",
      "metadata": {
        "id": "lMN76NFL3DXf"
      },
      "source": [
        "------------------------------------------------------------------------\n"
      ]
    },
    {
      "cell_type": "markdown",
      "metadata": {
        "id": "hzXC_bhr3DXg"
      },
      "source": [
        "## Optimizing the Model Parameters"
      ]
    },
    {
      "cell_type": "code",
      "execution_count": 142,
      "metadata": {
        "id": "yXaxfLsz3DXg"
      },
      "outputs": [],
      "source": [
        "loss_fn = nn.CrossEntropyLoss()\n",
        "optimizer = torch.optim.SGD(model.parameters(), lr=1e-3)"
      ]
    },
    {
      "cell_type": "markdown",
      "source": [
        "Training function"
      ],
      "metadata": {
        "id": "Wa4rwnnm3DXg"
      }
    },
    {
      "cell_type": "code",
      "execution_count": 143,
      "metadata": {
        "id": "CADr3gOl3DXg"
      },
      "outputs": [],
      "source": [
        "def train(dataloader, model, loss_fn, optimizer):\n",
        "    size = len(dataloader.dataset)\n",
        "    model.train() # Put the model in training mode.\n",
        "    for batch, (X, y) in enumerate(dataloader):\n",
        "        # Place the model and predictions on the same device.\n",
        "        X, y = X.to(device), y.to(device)\n",
        "\n",
        "        # Compute prediction error\n",
        "        pred = model(X)\n",
        "        loss = loss_fn(pred, y)\n",
        "\n",
        "        # Backpropagation\n",
        "        # This step updates the parameter values inside your network.\n",
        "        loss.backward()\n",
        "        optimizer.step()\n",
        "        optimizer.zero_grad()\n",
        "\n",
        "        # Print progress every 100 batches:\n",
        "        if batch % 100 == 0:\n",
        "            loss, current = loss.item(), (batch + 1) * len(X)\n",
        "            print(f\"loss: {loss:>7f}  [{current:>5d}/{size:>5d}]\")"
      ]
    },
    {
      "cell_type": "markdown",
      "source": [
        "## Testing function"
      ],
      "metadata": {
        "id": "hvwi_9YB3DXg"
      }
    },
    {
      "cell_type": "code",
      "execution_count": 144,
      "metadata": {
        "id": "-o2EQC-a3DXg"
      },
      "outputs": [],
      "source": [
        "def test(dataloader, model, loss_fn):\n",
        "    size = len(dataloader.dataset)\n",
        "    num_batches = len(dataloader)\n",
        "    model.eval() # Put the model in testing mode.\n",
        "    test_loss, correct = 0, 0\n",
        "    with torch.no_grad():\n",
        "        for X, y in dataloader:\n",
        "            X, y = X.to(device), y.to(device)\n",
        "            pred = model(X)\n",
        "            test_loss += loss_fn(pred, y).item()\n",
        "            correct += (pred.argmax(1) == y).type(torch.float).sum().item()\n",
        "    test_loss /= num_batches\n",
        "    correct /= size\n",
        "    print(f\"Test Error: \\n Accuracy: {(100*correct):>0.1f}%, Avg loss: {test_loss:>8f} \\n\")\n",
        "    return correct, test_loss"
      ]
    },
    {
      "cell_type": "markdown",
      "source": [
        "## Simple CNN: Accuracy, Epochs, and Value of Loss Function"
      ],
      "metadata": {
        "id": "9jImm_vN3DXh"
      }
    },
    {
      "cell_type": "code",
      "execution_count": 145,
      "metadata": {
        "colab": {
          "base_uri": "https://localhost:8080/"
        },
        "outputId": "803dd840-3093-41d7-ca9f-4b6bef95c944",
        "collapsed": true,
        "id": "6nvPAcas3DXh"
      },
      "outputs": [
        {
          "output_type": "stream",
          "name": "stdout",
          "text": [
            "Epoch 1\n",
            "-------------------------------\n",
            "loss: 2.291479  [   64/60000]\n",
            "loss: 2.290295  [ 6464/60000]\n",
            "loss: 2.280224  [12864/60000]\n",
            "loss: 2.282894  [19264/60000]\n",
            "loss: 2.267236  [25664/60000]\n",
            "loss: 2.238823  [32064/60000]\n",
            "loss: 2.235974  [38464/60000]\n",
            "loss: 2.213472  [44864/60000]\n",
            "loss: 2.201859  [51264/60000]\n",
            "loss: 2.170934  [57664/60000]\n",
            "Test Error: \n",
            " Accuracy: 46.1%, Avg loss: 2.189710 \n",
            "\n",
            "Test Error: \n",
            " Accuracy: 46.1%, Avg loss: 2.189710 \n",
            "\n",
            "Epoch 2\n",
            "-------------------------------\n",
            "loss: 2.168868  [   64/60000]\n",
            "loss: 2.171012  [ 6464/60000]\n",
            "loss: 2.129914  [12864/60000]\n",
            "loss: 2.166351  [19264/60000]\n",
            "loss: 2.062928  [25664/60000]\n",
            "loss: 1.991199  [32064/60000]\n",
            "loss: 1.988600  [38464/60000]\n",
            "loss: 1.900824  [44864/60000]\n",
            "loss: 1.853913  [51264/60000]\n",
            "loss: 1.789472  [57664/60000]\n",
            "Test Error: \n",
            " Accuracy: 50.1%, Avg loss: 1.833400 \n",
            "\n",
            "Test Error: \n",
            " Accuracy: 50.1%, Avg loss: 1.833400 \n",
            "\n",
            "Epoch 3\n",
            "-------------------------------\n",
            "loss: 1.723443  [   64/60000]\n",
            "loss: 1.769276  [ 6464/60000]\n",
            "loss: 1.651098  [12864/60000]\n",
            "loss: 1.867671  [19264/60000]\n",
            "loss: 1.573876  [25664/60000]\n",
            "loss: 1.443054  [32064/60000]\n",
            "loss: 1.546432  [38464/60000]\n",
            "loss: 1.397951  [44864/60000]\n",
            "loss: 1.420385  [51264/60000]\n",
            "loss: 1.414231  [57664/60000]\n",
            "Test Error: \n",
            " Accuracy: 53.7%, Avg loss: 1.467402 \n",
            "\n",
            "Test Error: \n",
            " Accuracy: 53.7%, Avg loss: 1.467402 \n",
            "\n",
            "Epoch 4\n",
            "-------------------------------\n",
            "loss: 1.248098  [   64/60000]\n",
            "loss: 1.417004  [ 6464/60000]\n",
            "loss: 1.270807  [12864/60000]\n",
            "loss: 1.670134  [19264/60000]\n",
            "loss: 1.328362  [25664/60000]\n",
            "loss: 1.197207  [32064/60000]\n",
            "loss: 1.329471  [38464/60000]\n",
            "loss: 1.153214  [44864/60000]\n",
            "loss: 1.231237  [51264/60000]\n",
            "loss: 1.269822  [57664/60000]\n",
            "Test Error: \n",
            " Accuracy: 55.6%, Avg loss: 1.288337 \n",
            "\n",
            "Test Error: \n",
            " Accuracy: 55.6%, Avg loss: 1.288337 \n",
            "\n",
            "Epoch 5\n",
            "-------------------------------\n",
            "loss: 1.036580  [   64/60000]\n",
            "loss: 1.243621  [ 6464/60000]\n",
            "loss: 1.071691  [12864/60000]\n",
            "loss: 1.552760  [19264/60000]\n",
            "loss: 1.226731  [25664/60000]\n",
            "loss: 1.092274  [32064/60000]\n",
            "loss: 1.230932  [38464/60000]\n",
            "loss: 1.029923  [44864/60000]\n",
            "loss: 1.131204  [51264/60000]\n",
            "loss: 1.202865  [57664/60000]\n",
            "Test Error: \n",
            " Accuracy: 57.3%, Avg loss: 1.197141 \n",
            "\n",
            "Test Error: \n",
            " Accuracy: 57.3%, Avg loss: 1.197141 \n",
            "\n",
            "Done!\n"
          ]
        }
      ],
      "source": [
        "epochs = 5 # Number of epochs\n",
        "accuracy_h = []\n",
        "loss_h =[]\n",
        "for t in range(epochs):\n",
        "    print(f\"Epoch {t+1}\\n-------------------------------\")\n",
        "    train(train_dataloader, model, loss_fn, optimizer)\n",
        "    test(test_dataloader, model, loss_fn)\n",
        "    epoch_accuracy, epoch_loss = test(test_dataloader, model, loss_fn)\n",
        "    accuracy_h.append(epoch_accuracy)\n",
        "    loss_h.append(epoch_loss)\n",
        "print(\"Done!\")"
      ]
    },
    {
      "cell_type": "markdown",
      "source": [
        "## Plot"
      ],
      "metadata": {
        "id": "ZEsebEZY3DXh"
      }
    },
    {
      "cell_type": "code",
      "metadata": {
        "colab": {
          "base_uri": "https://localhost:8080/",
          "height": 957
        },
        "outputId": "8fc3bbae-b78f-4fa6-a95d-e1ca3b183b07",
        "id": "eUQ5KLD63DXh"
      },
      "source": [
        "import matplotlib.pyplot as plt\n",
        "\n",
        "# Plot Accuracy\n",
        "plt.figure(figsize=(10, 5))\n",
        "plt.plot(range(1, epochs + 1), [acc * 100 for acc in accuracy_h], marker='x')\n",
        "plt.title('Simple CNN: Accuracy vs. Epochs')\n",
        "plt.xlabel('Epoch')\n",
        "plt.ylabel('Accuracy (%)') # Update the y-axis label to indicate percentage\n",
        "plt.grid(True)\n",
        "plt.show()\n",
        "\n",
        "# Plot Loss\n",
        "plt.figure(figsize=(10, 5))\n",
        "plt.plot(range(1, epochs + 1), loss_h, marker='x', color='red')\n",
        "plt.title('Simple CNN: Loss vs. Epochs')\n",
        "plt.xlabel('Epoch')\n",
        "plt.ylabel('Loss')\n",
        "plt.grid(True)\n",
        "plt.show()"
      ],
      "execution_count": 146,
      "outputs": [
        {
          "output_type": "display_data",
          "data": {
            "text/plain": [
              "<Figure size 1000x500 with 1 Axes>"
            ],
            "image/png": "[encoded data removed]"
          },
          "metadata": {}
        },
        {
          "output_type": "display_data",
          "data": {
            "text/plain": [
              "<Figure size 1000x500 with 1 Axes>"
            ],
            "image/png": "[encoded data removed]"
          },
          "metadata": {}
        }
      ]
    },
    {
      "cell_type": "markdown",
      "metadata": {
        "id": "7nKu6EAQ3DXi"
      },
      "source": [
        "------------------------------------------------------------------------\n"
      ]
    },
    {
      "cell_type": "markdown",
      "source": [
        "Discussion\n",
        "==============="
      ],
      "metadata": {
        "id": "uK-QIKHw3pgR"
      }
    }
  ],
  "metadata": {
    "kernelspec": {
      "display_name": "Python 3",
      "language": "python",
      "name": "python3"
    },
    "language_info": {
      "codemirror_mode": {
        "name": "ipython",
        "version": 3
      },
      "file_extension": ".py",
      "mimetype": "text/x-python",
      "name": "python",
      "nbconvert_exporter": "python",
      "pygments_lexer": "ipython3",
      "version": "3.10.12"
    },
    "colab": {
      "provenance": [],
      "toc_visible": true
    }
  },
  "nbformat": 4,
  "nbformat_minor": 0
}