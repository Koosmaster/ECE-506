{
  "cells": [
    {
      "cell_type": "markdown",
      "source": [
        "# Machine Learning Model Training - Markus Parrish"
      ],
      "metadata": {
        "id": "PgCzu-6VqnI5"
      }
    },
    {
      "cell_type": "markdown",
      "source": [
        "Goals:"
      ],
      "metadata": {
        "id": "gWbhc3aPq1MI"
      }
    },
    {
      "cell_type": "markdown",
      "source": [
        "Session 16 provides parametrizable CNN models that you can train. Experiment with a few (at least three) CNN models and the Linear model for the given classification problem.\n",
        "\n",
        "Deliverables:\n",
        "\n",
        "1. A PDF of the Python code used to generate the different models. Use the provided code to print the architectures and the number of parameters.\n",
        "2. Screenshots of the achieved accuracy as a function of the number of epochs and the value of the loss function.\n",
        "3. A discussion comparing the required number of epochs, total number of parameters, final value of the loss function, and achieved accuracy.\n"
      ],
      "metadata": {
        "id": "YloD06CNsyZW"
      }
    },
    {
      "cell_type": "markdown",
      "source": [
        "References:\n",
        "* A collection of tutorials are available at [main website](https://docs.pytorch.org/tutorials/).\n",
        "* The current document follows the [Quickstart tutorial](https://docs.pytorch.org/tutorials/beginner/basics/quickstart_tutorial.html)."
      ],
      "metadata": {
        "id": "wiUKu0DHq1V1"
      }
    },
    {
      "cell_type": "markdown",
      "source": [
        "Discussion\n",
        "===============\n",
        "\n",
        "There is a distinct trend that the increase in number of epochs correlates to a higher accuracy and lower loss function values; however, a plateau occurs as the number increases (shown in plots below). Each of the models was set at 5 epochs as a baseline. For the CNN models, increasing the model capacity resulted in a increase in accuracy. However, the linear model did achieve the highest accuracy. Additionally, parameter count increases as the number of filters are applied - resulting in an increase in accuarcy and greater efficiency comapred to the linear model.\n",
        "### Parameter counts\n",
        "1. Linear Model: 669,706\n",
        "2. CNN Model Simple (4,8): 4,266\n",
        "3. CNN Model 2 (8,16): 9,098\n",
        "4. CNN Model 3 (16,32): 20,490\n",
        "\n",
        "\n",
        "### Model accuracy & loss\n",
        "\n",
        "\n",
        "\n",
        "1. Linear Model: Accuracy: 65.1%, Avg loss: 1.071164\n",
        "2. CNN Model Simple (4,8): Accuracy: 49.8%, Avg loss: 1.462805\n",
        "3. CNN Model 2 (8,16): Accuracy: 50.9%, Avg loss: 1.519687\n",
        "4. CNN Model 3 (16,32): Accuracy: 62.9%, Avg loss: 1.151470\n",
        "\n",
        "\n"
      ],
      "metadata": {
        "id": "uK-QIKHw3pgR"
      }
    },
    {
      "cell_type": "markdown",
      "source": [],
      "metadata": {
        "id": "lCGBNjT2QzkA"
      }
    },
    {
      "cell_type": "markdown",
      "source": [
        "# Setup"
      ],
      "metadata": {
        "id": "bjEsXFgAqnAs"
      }
    },
    {
      "cell_type": "code",
      "execution_count": null,
      "metadata": {
        "id": "610XmpDlRIMj"
      },
      "outputs": [],
      "source": [
        "# For tips on running notebooks in Google Colab, see\n",
        "# https://pytorch.org/tutorials/beginner/colab\n",
        "%matplotlib inline"
      ]
    },
    {
      "cell_type": "code",
      "execution_count": null,
      "metadata": {
        "id": "YyK5O4-ARIMk"
      },
      "outputs": [],
      "source": [
        "import math\n",
        "import torch\n",
        "from torch import nn\n",
        "from torch.utils.data import DataLoader\n",
        "from torchvision import datasets\n",
        "from torchvision.transforms import ToTensor\n",
        "import torch.nn.functional as F"
      ]
    },
    {
      "cell_type": "markdown",
      "source": [
        "# Datasets"
      ],
      "metadata": {
        "id": "rVD9VR4gt842"
      }
    },
    {
      "cell_type": "markdown",
      "metadata": {
        "id": "VpNYO0VgRIMk"
      },
      "source": [
        "<b>TorchVision dataset used for this assignment</b><br>\n",
        "\n"
      ]
    },
    {
      "cell_type": "code",
      "execution_count": null,
      "metadata": {
        "id": "B17Y1A9qRIMl"
      },
      "outputs": [],
      "source": [
        "# Download training data from open datasets.\n",
        "training_data = datasets.FashionMNIST(\n",
        "    root=\"data\",\n",
        "    train=True,\n",
        "    download=True,\n",
        "    transform=ToTensor(),\n",
        ")\n",
        "\n",
        "# Download test data from open datasets.\n",
        "test_data = datasets.FashionMNIST(\n",
        "    root=\"data\",\n",
        "    train=False,\n",
        "    download=True,\n",
        "    transform=ToTensor(),\n",
        ")"
      ]
    },
    {
      "cell_type": "markdown",
      "metadata": {
        "id": "qnaNebHiRIMl"
      },
      "source": [
        "<b>Dataloader</b><br>\n",
        "Pass `Dataset` as an argument to `DataLoader`.\n"
      ]
    },
    {
      "cell_type": "code",
      "execution_count": null,
      "metadata": {
        "id": "l_lNp19jRIMl",
        "colab": {
          "base_uri": "https://localhost:8080/"
        },
        "outputId": "2c8535e0-e0fb-4e73-9b11-1357ba341754"
      },
      "outputs": [
        {
          "output_type": "stream",
          "name": "stdout",
          "text": [
            "Shape of X [N, C, H, W]: torch.Size([64, 1, 28, 28])\n",
            "N = batch size. This is the number of images to process at a time.\n",
            "C = number of channels. C=1 for grayscale. C=3 for RGB.\n",
            "H = height is the number of rows in the image.\n",
            "W = width is the number of columns in the image.\n",
            " \n",
            "Shape of y: torch.Size([64]) torch.int64\n",
            "y is of size N, the ground truth labels required for each image in the batch.\n",
            "Percentage of training dataset = 85.71 percent with 60000 samples.\n",
            "Percentage of test dataset     = 14.29 percent with 10000 samples.\n"
          ]
        }
      ],
      "source": [
        "batch_size = 64\n",
        "\n",
        "# Create data loaders.\n",
        "train_dataloader = DataLoader(training_data, batch_size=batch_size)\n",
        "test_dataloader = DataLoader(test_data, batch_size=batch_size)\n",
        "\n",
        "for X, y in test_dataloader:\n",
        "    print(f\"Shape of X [N, C, H, W]: {X.shape}\")\n",
        "    print(\"N = batch size. This is the number of images to process at a time.\")\n",
        "    print(\"C = number of channels. C=1 for grayscale. C=3 for RGB.\")\n",
        "    print(\"H = height is the number of rows in the image.\")\n",
        "    print(\"W = width is the number of columns in the image.\")\n",
        "    print(\" \")\n",
        "    print(f\"Shape of y: {y.shape} {y.dtype}\")\n",
        "    print(\"y is of size N, the ground truth labels required for each image in the batch.\")\n",
        "    break\n",
        "\n",
        "train_size = len(train_dataloader.dataset)\n",
        "test_size  = len(test_dataloader.dataset)\n",
        "train_pct  = 100*train_size/(train_size+test_size)\n",
        "test_pct   = 100*test_size/(train_size+test_size)\n",
        "print(f\"Percentage of training dataset = {train_pct:.2f} percent with {train_size} samples.\")\n",
        "print(f\"Percentage of test dataset     = {test_pct:.2f} percent with {test_size} samples.\")"
      ]
    },
    {
      "cell_type": "markdown",
      "metadata": {
        "id": "odu61pyrxkN_"
      },
      "source": [
        "Linear Model\n",
        "==============="
      ]
    },
    {
      "cell_type": "code",
      "execution_count": null,
      "metadata": {
        "colab": {
          "base_uri": "https://localhost:8080/"
        },
        "outputId": "b52eb2e4-93a9-4941-dc34-ec92ca8ba9a5",
        "id": "uNb3b85txkOA"
      },
      "outputs": [
        {
          "output_type": "stream",
          "name": "stdout",
          "text": [
            "Using cpu device\n",
            "Using Model: LinearModel\n"
          ]
        }
      ],
      "source": [
        "device = torch.accelerator.current_accelerator().type if torch.accelerator.is_available() else \"cpu\"\n",
        "print(f\"Using {device} device\")\n",
        "\n",
        "# Define model\n",
        "class LinearModel(nn.Module):\n",
        "    def __init__(self):\n",
        "        super().__init__()\n",
        "        self.flatten = nn.Flatten()\n",
        "        self.linear_relu_stack = nn.Sequential(\n",
        "            nn.Linear(28*28, 512),\n",
        "            nn.ReLU(),\n",
        "            nn.Linear(512, 512),\n",
        "            nn.ReLU(),\n",
        "            nn.Linear(512, 10)\n",
        "        )\n",
        "\n",
        "    def forward(self, x):\n",
        "        x = self.flatten(x)\n",
        "        logits = self.linear_relu_stack(x)\n",
        "        return logits\n",
        "\n",
        "\n",
        "# Define the model here\n",
        "\n",
        "## Linear Model\n",
        "NeuralNetwork = LinearModel\n",
        "model_to_use  = LinearModel()\n",
        "\n",
        "model = model_to_use.to(device)\n",
        "print(f\"Using Model: {model.__class__.__name__}\") # Name of model print"
      ]
    },
    {
      "cell_type": "markdown",
      "source": [
        "## Model Parameters"
      ],
      "metadata": {
        "id": "Tpu3KeiHxkOB"
      }
    },
    {
      "cell_type": "code",
      "source": [
        "def parameter_report(model):\n",
        "    print(f\"{'Layer':<40} {'# Params':>12} {'Trainable':>10}\")\n",
        "    print(\"-\" * 65)\n",
        "    total, trainable = 0, 0\n",
        "    for name, param in model.named_parameters():\n",
        "        num_params = param.numel()\n",
        "        is_trainable = param.requires_grad\n",
        "        print(f\"{name:<40} {num_params:>12,} {str(is_trainable):>10}\")\n",
        "        total += num_params\n",
        "        if is_trainable:\n",
        "            trainable += num_params\n",
        "    print(\"-\" * 65)\n",
        "    print(f\"{'Total':<40} {total:>12,} {'':>10}\")\n",
        "    print(f\"{'Trainable':<40} {trainable:>12,}\")\n",
        "\n",
        "\n",
        "print(model)\n",
        "print(\" \")\n",
        "\n",
        "parameter_report(model)"
      ],
      "metadata": {
        "colab": {
          "base_uri": "https://localhost:8080/"
        },
        "outputId": "4f0ae5e0-7820-49b0-c083-d11fb7761fb9",
        "id": "8a-84M-UxkOB"
      },
      "execution_count": null,
      "outputs": [
        {
          "output_type": "stream",
          "name": "stdout",
          "text": [
            "LinearModel(\n",
            "  (flatten): Flatten(start_dim=1, end_dim=-1)\n",
            "  (linear_relu_stack): Sequential(\n",
            "    (0): Linear(in_features=784, out_features=512, bias=True)\n",
            "    (1): ReLU()\n",
            "    (2): Linear(in_features=512, out_features=512, bias=True)\n",
            "    (3): ReLU()\n",
            "    (4): Linear(in_features=512, out_features=10, bias=True)\n",
            "  )\n",
            ")\n",
            " \n",
            "Layer                                        # Params  Trainable\n",
            "-----------------------------------------------------------------\n",
            "linear_relu_stack.0.weight                    401,408       True\n",
            "linear_relu_stack.0.bias                          512       True\n",
            "linear_relu_stack.2.weight                    262,144       True\n",
            "linear_relu_stack.2.bias                          512       True\n",
            "linear_relu_stack.4.weight                      5,120       True\n",
            "linear_relu_stack.4.bias                           10       True\n",
            "-----------------------------------------------------------------\n",
            "Total                                         669,706           \n",
            "Trainable                                     669,706\n"
          ]
        }
      ]
    },
    {
      "cell_type": "markdown",
      "metadata": {
        "id": "2wjsnxsyxkOB"
      },
      "source": [
        "------------------------------------------------------------------------\n"
      ]
    },
    {
      "cell_type": "markdown",
      "metadata": {
        "id": "IlN2OkCqxkOC"
      },
      "source": [
        "## Optimizing the Model Parameters"
      ]
    },
    {
      "cell_type": "code",
      "execution_count": null,
      "metadata": {
        "id": "QhBpfOAaxkOC"
      },
      "outputs": [],
      "source": [
        "loss_fn = nn.CrossEntropyLoss()\n",
        "optimizer = torch.optim.SGD(model.parameters(), lr=1e-3)"
      ]
    },
    {
      "cell_type": "markdown",
      "source": [
        "Training function"
      ],
      "metadata": {
        "id": "zfHy14xBxkOD"
      }
    },
    {
      "cell_type": "code",
      "execution_count": null,
      "metadata": {
        "id": "TI_NGcmNxkOD"
      },
      "outputs": [],
      "source": [
        "def train(dataloader, model, loss_fn, optimizer):\n",
        "    size = len(dataloader.dataset)\n",
        "    model.train() # Put the model in training mode.\n",
        "    for batch, (X, y) in enumerate(dataloader):\n",
        "        # Place the model and predictions on the same device.\n",
        "        X, y = X.to(device), y.to(device)\n",
        "\n",
        "        # Compute prediction error\n",
        "        pred = model(X)\n",
        "        loss = loss_fn(pred, y)\n",
        "\n",
        "        # Backpropagation\n",
        "        # This step updates the parameter values inside your network.\n",
        "        loss.backward()\n",
        "        optimizer.step()\n",
        "        optimizer.zero_grad()\n",
        "\n",
        "        # Print progress every 100 batches:\n",
        "        if batch % 100 == 0:\n",
        "            loss, current = loss.item(), (batch + 1) * len(X)\n",
        "            print(f\"loss: {loss:>7f}  [{current:>5d}/{size:>5d}]\")"
      ]
    },
    {
      "cell_type": "markdown",
      "source": [
        "## Testing function"
      ],
      "metadata": {
        "id": "11Ffd5snxkOD"
      }
    },
    {
      "cell_type": "code",
      "execution_count": null,
      "metadata": {
        "id": "V1fth7gJxkOD"
      },
      "outputs": [],
      "source": [
        "def test(dataloader, model, loss_fn):\n",
        "    size = len(dataloader.dataset)\n",
        "    num_batches = len(dataloader)\n",
        "    model.eval() # Put the model in testing mode.\n",
        "    test_loss, correct = 0, 0\n",
        "    with torch.no_grad():\n",
        "        for X, y in dataloader:\n",
        "            X, y = X.to(device), y.to(device)\n",
        "            pred = model(X)\n",
        "            test_loss += loss_fn(pred, y).item()\n",
        "            correct += (pred.argmax(1) == y).type(torch.float).sum().item()\n",
        "    test_loss /= num_batches\n",
        "    correct /= size\n",
        "    print(f\"Test Error: \\n Accuracy: {(100*correct):>0.1f}%, Avg loss: {test_loss:>8f} \\n\")\n",
        "    return correct, test_loss"
      ]
    },
    {
      "cell_type": "markdown",
      "source": [
        "## Linear Model: Accuracy, Epochs, and Value of Loss Function"
      ],
      "metadata": {
        "id": "vnN2lyl2xkOE"
      }
    },
    {
      "cell_type": "code",
      "execution_count": null,
      "metadata": {
        "colab": {
          "base_uri": "https://localhost:8080/"
        },
        "outputId": "ff3c3f4b-c87f-450d-c5c0-7866ae84dc47",
        "id": "9TGUpPk5xkOE"
      },
      "outputs": [
        {
          "output_type": "stream",
          "name": "stdout",
          "text": [
            "Epoch 1\n",
            "-------------------------------\n",
            "loss: 2.306733  [   64/60000]\n",
            "loss: 2.292386  [ 6464/60000]\n",
            "loss: 2.268327  [12864/60000]\n",
            "loss: 2.264663  [19264/60000]\n",
            "loss: 2.253597  [25664/60000]\n",
            "loss: 2.217776  [32064/60000]\n",
            "loss: 2.228660  [38464/60000]\n",
            "loss: 2.189672  [44864/60000]\n",
            "loss: 2.191224  [51264/60000]\n",
            "loss: 2.169808  [57664/60000]\n",
            "Test Error: \n",
            " Accuracy: 43.6%, Avg loss: 2.152804 \n",
            "\n",
            "Test Error: \n",
            " Accuracy: 43.6%, Avg loss: 2.152804 \n",
            "\n",
            "Epoch 2\n",
            "-------------------------------\n",
            "loss: 2.166182  [   64/60000]\n",
            "loss: 2.152661  [ 6464/60000]\n",
            "loss: 2.091551  [12864/60000]\n",
            "loss: 2.111492  [19264/60000]\n",
            "loss: 2.081282  [25664/60000]\n",
            "loss: 2.008953  [32064/60000]\n",
            "loss: 2.037954  [38464/60000]\n",
            "loss: 1.955639  [44864/60000]\n",
            "loss: 1.963759  [51264/60000]\n",
            "loss: 1.902075  [57664/60000]\n",
            "Test Error: \n",
            " Accuracy: 60.9%, Avg loss: 1.887922 \n",
            "\n",
            "Test Error: \n",
            " Accuracy: 60.9%, Avg loss: 1.887922 \n",
            "\n",
            "Epoch 3\n",
            "-------------------------------\n",
            "loss: 1.923472  [   64/60000]\n",
            "loss: 1.888248  [ 6464/60000]\n",
            "loss: 1.768761  [12864/60000]\n",
            "loss: 1.810966  [19264/60000]\n",
            "loss: 1.732558  [25664/60000]\n",
            "loss: 1.666390  [32064/60000]\n",
            "loss: 1.687738  [38464/60000]\n",
            "loss: 1.584067  [44864/60000]\n",
            "loss: 1.610687  [51264/60000]\n",
            "loss: 1.504676  [57664/60000]\n",
            "Test Error: \n",
            " Accuracy: 63.1%, Avg loss: 1.516401 \n",
            "\n",
            "Test Error: \n",
            " Accuracy: 63.1%, Avg loss: 1.516401 \n",
            "\n",
            "Epoch 4\n",
            "-------------------------------\n",
            "loss: 1.582948  [   64/60000]\n",
            "loss: 1.543610  [ 6464/60000]\n",
            "loss: 1.391057  [12864/60000]\n",
            "loss: 1.466048  [19264/60000]\n",
            "loss: 1.368398  [25664/60000]\n",
            "loss: 1.343161  [32064/60000]\n",
            "loss: 1.360953  [38464/60000]\n",
            "loss: 1.278739  [44864/60000]\n",
            "loss: 1.319798  [51264/60000]\n",
            "loss: 1.213873  [57664/60000]\n",
            "Test Error: \n",
            " Accuracy: 64.3%, Avg loss: 1.240302 \n",
            "\n",
            "Test Error: \n",
            " Accuracy: 64.3%, Avg loss: 1.240302 \n",
            "\n",
            "Epoch 5\n",
            "-------------------------------\n",
            "loss: 1.311187  [   64/60000]\n",
            "loss: 1.295233  [ 6464/60000]\n",
            "loss: 1.126946  [12864/60000]\n",
            "loss: 1.239288  [19264/60000]\n",
            "loss: 1.125843  [25664/60000]\n",
            "loss: 1.133515  [32064/60000]\n",
            "loss: 1.161619  [38464/60000]\n",
            "loss: 1.091896  [44864/60000]\n",
            "loss: 1.137944  [51264/60000]\n",
            "loss: 1.049509  [57664/60000]\n",
            "Test Error: \n",
            " Accuracy: 65.1%, Avg loss: 1.071164 \n",
            "\n",
            "Test Error: \n",
            " Accuracy: 65.1%, Avg loss: 1.071164 \n",
            "\n",
            "Done!\n"
          ]
        }
      ],
      "source": [
        "epochs = 5 # Number of epochs\n",
        "accuracy_h = []\n",
        "loss_h =[]\n",
        "for t in range(epochs):\n",
        "    print(f\"Epoch {t+1}\\n-------------------------------\")\n",
        "    train(train_dataloader, model, loss_fn, optimizer)\n",
        "    test(test_dataloader, model, loss_fn)\n",
        "    epoch_accuracy, epoch_loss = test(test_dataloader, model, loss_fn)\n",
        "    accuracy_h.append(epoch_accuracy)\n",
        "    loss_h.append(epoch_loss)\n",
        "print(\"Done!\")"
      ]
    },
    {
      "cell_type": "markdown",
      "source": [
        "## Plot"
      ],
      "metadata": {
        "id": "Z1Sosb6JxkOE"
      }
    },
    {
      "cell_type": "code",
      "metadata": {
        "colab": {
          "base_uri": "https://localhost:8080/",
          "height": 957
        },
        "outputId": "9f6c8a25-0716-4ef7-fc04-baaed79a0760",
        "id": "o866MuLV1sba"
      },
      "source": [
        "import matplotlib.pyplot as plt\n",
        "\n",
        "# Plot Accuracy\n",
        "plt.figure(figsize=(10, 5))\n",
        "plt.plot(range(1, epochs + 1), [acc * 100 for acc in accuracy_h], marker='x')\n",
        "plt.title('Linear Model: Accuracy vs. Epochs')\n",
        "plt.xlabel('Epoch')\n",
        "plt.ylabel('Accuracy (%)') # Update the y-axis label to indicate percentage\n",
        "plt.grid(True)\n",
        "plt.show()\n",
        "\n",
        "# Plot Loss\n",
        "plt.figure(figsize=(10, 5))\n",
        "plt.plot(range(1, epochs + 1), loss_h, marker='x', color='red')\n",
        "plt.title('Linear Model: Loss vs. Epochs')\n",
        "plt.xlabel('Epoch')\n",
        "plt.ylabel('Loss')\n",
        "plt.grid(True)\n",
        "plt.show()"
      ],
      "execution_count": null,
      "outputs": [
        {
          "output_type": "display_data",
          "data": {
            "text/plain": [
              "<Figure size 1000x500 with 1 Axes>"
            ],
            "image/png": "[encoded data removed]"
          },
          "metadata": {}
        },
        {
          "output_type": "display_data",
          "data": {
            "text/plain": [
              "<Figure size 1000x500 with 1 Axes>"
            ],
            "image/png": "[encoded data removed]"
          },
          "metadata": {}
        }
      ]
    },
    {
      "cell_type": "markdown",
      "metadata": {
        "id": "JGcGJX1c3OQH"
      },
      "source": [
        "Simple CNN Model (4,8)\n",
        "==============="
      ]
    },
    {
      "cell_type": "code",
      "execution_count": null,
      "metadata": {
        "colab": {
          "base_uri": "https://localhost:8080/"
        },
        "outputId": "d7a11ae7-98bf-45e3-ed91-3aa57975a3b2",
        "id": "_WBAa1IB3OQI"
      },
      "outputs": [
        {
          "output_type": "stream",
          "name": "stdout",
          "text": [
            "Using cpu device\n",
            "Using Model: SimpleCNN\n"
          ]
        }
      ],
      "source": [
        "device = torch.accelerator.current_accelerator().type if torch.accelerator.is_available() else \"cpu\"\n",
        "print(f\"Using {device} device\")\n",
        "\n",
        "# Define model\n",
        "class SimpleCNN(nn.Module):\n",
        "    def __init__(self, num_of_rows = 28, num_of_cols = 28,\n",
        "                 n_filters1=4, n_filters2=8, out_categories=10):\n",
        "        super().__init__()\n",
        "\n",
        "        self.conv1 = nn.Conv2d(\n",
        "                in_channels=1,            # 1 for grayscale\n",
        "                out_channels=n_filters1,   # Number of filters\n",
        "                kernel_size=3,            # 3x3 convolution\n",
        "                stride=1,\n",
        "                padding=1          # Keep output size same as input\n",
        "                )\n",
        "        self.pool = nn.MaxPool2d(2, 2)  # halves size to 14x14\n",
        "\n",
        "        self.conv2 = nn.Conv2d(\n",
        "                in_channels=n_filters1,    # NOTE: Use n_filters1 from conv1\n",
        "                out_channels=n_filters2,   # New number of filters\n",
        "                kernel_size=3,            # 3x3 convolution\n",
        "                stride=1,\n",
        "                padding=1          # Keep output size same as input\n",
        "                )\n",
        "\n",
        "        # out_categories should match the number of output categories.\n",
        "        # Match the dimensions to the input.\n",
        "        # Divide by 2 for each maxpooling (carefull for non-even numbers ...)\n",
        "        num_of_pixels = math.ceil(num_of_rows/(2*2) * num_of_cols/(2*2))\n",
        "\n",
        "        # Final layer collects the pixels from all of the inputs:\n",
        "        self.fc1 = nn.Linear(n_filters2 * num_of_pixels, out_categories)\n",
        "\n",
        "    def forward(self, x):\n",
        "        x = self.pool(F.relu(self.conv1(x)))  # -> [batch, 4, 14, 14]\n",
        "        x = self.pool(F.relu(self.conv2(x)))  # -> [batch, 8, 7, 7]\n",
        "        x = x.view(x.size(0), -1)             # flatten to [batch, 8*7*7]\n",
        "        logits = F.relu(self.fc1(x))\n",
        "        return logits # Note: SoftMax is applied to logits by cross-entropy loss function.\n",
        "\n",
        "\n",
        "## SimpleCNN\n",
        "NeuralNetwork = SimpleCNN\n",
        "model_to_use = SimpleCNN(n_filters1=4, n_filters2=8)\n",
        "\n",
        "model = model_to_use.to(device)\n",
        "print(f\"Using Model: {model.__class__.__name__}\") # Name of model print"
      ]
    },
    {
      "cell_type": "markdown",
      "source": [
        "## Model Parameters"
      ],
      "metadata": {
        "id": "NvBuUQa_3OQJ"
      }
    },
    {
      "cell_type": "code",
      "source": [
        "def parameter_report(model):\n",
        "    print(f\"{'Layer':<40} {'# Params':>12} {'Trainable':>10}\")\n",
        "    print(\"-\" * 65)\n",
        "    total, trainable = 0, 0\n",
        "    for name, param in model.named_parameters():\n",
        "        num_params = param.numel()\n",
        "        is_trainable = param.requires_grad\n",
        "        print(f\"{name:<40} {num_params:>12,} {str(is_trainable):>10}\")\n",
        "        total += num_params\n",
        "        if is_trainable:\n",
        "            trainable += num_params\n",
        "    print(\"-\" * 65)\n",
        "    print(f\"{'Total':<40} {total:>12,} {'':>10}\")\n",
        "    print(f\"{'Trainable':<40} {trainable:>12,}\")\n",
        "\n",
        "\n",
        "print(model)\n",
        "print(\" \")\n",
        "\n",
        "parameter_report(model)"
      ],
      "metadata": {
        "colab": {
          "base_uri": "https://localhost:8080/"
        },
        "outputId": "803de124-a0ac-4099-ecc0-c7f5ef584a1a",
        "id": "lMfa2u3B3OQJ"
      },
      "execution_count": null,
      "outputs": [
        {
          "output_type": "stream",
          "name": "stdout",
          "text": [
            "SimpleCNN(\n",
            "  (conv1): Conv2d(1, 4, kernel_size=(3, 3), stride=(1, 1), padding=(1, 1))\n",
            "  (pool): MaxPool2d(kernel_size=2, stride=2, padding=0, dilation=1, ceil_mode=False)\n",
            "  (conv2): Conv2d(4, 8, kernel_size=(3, 3), stride=(1, 1), padding=(1, 1))\n",
            "  (fc1): Linear(in_features=392, out_features=10, bias=True)\n",
            ")\n",
            " \n",
            "Layer                                        # Params  Trainable\n",
            "-----------------------------------------------------------------\n",
            "conv1.weight                                       36       True\n",
            "conv1.bias                                          4       True\n",
            "conv2.weight                                      288       True\n",
            "conv2.bias                                          8       True\n",
            "fc1.weight                                      3,920       True\n",
            "fc1.bias                                           10       True\n",
            "-----------------------------------------------------------------\n",
            "Total                                           4,266           \n",
            "Trainable                                       4,266\n"
          ]
        }
      ]
    },
    {
      "cell_type": "markdown",
      "metadata": {
        "id": "VdUEr2fu3OQK"
      },
      "source": [
        "------------------------------------------------------------------------\n"
      ]
    },
    {
      "cell_type": "markdown",
      "metadata": {
        "id": "S0epzHUT3OQK"
      },
      "source": [
        "## Optimizing the Model Parameters"
      ]
    },
    {
      "cell_type": "code",
      "execution_count": null,
      "metadata": {
        "id": "fiEdpyDv3OQK"
      },
      "outputs": [],
      "source": [
        "loss_fn = nn.CrossEntropyLoss()\n",
        "optimizer = torch.optim.SGD(model.parameters(), lr=1e-3)"
      ]
    },
    {
      "cell_type": "markdown",
      "source": [
        "Training function"
      ],
      "metadata": {
        "id": "MLn6TTxE3OQK"
      }
    },
    {
      "cell_type": "code",
      "execution_count": null,
      "metadata": {
        "id": "vQOBLcEZ3OQK"
      },
      "outputs": [],
      "source": [
        "def train(dataloader, model, loss_fn, optimizer):\n",
        "    size = len(dataloader.dataset)\n",
        "    model.train() # Put the model in training mode.\n",
        "    for batch, (X, y) in enumerate(dataloader):\n",
        "        # Place the model and predictions on the same device.\n",
        "        X, y = X.to(device), y.to(device)\n",
        "\n",
        "        # Compute prediction error\n",
        "        pred = model(X)\n",
        "        loss = loss_fn(pred, y)\n",
        "\n",
        "        # Backpropagation\n",
        "        # This step updates the parameter values inside your network.\n",
        "        loss.backward()\n",
        "        optimizer.step()\n",
        "        optimizer.zero_grad()\n",
        "\n",
        "        # Print progress every 100 batches:\n",
        "        if batch % 100 == 0:\n",
        "            loss, current = loss.item(), (batch + 1) * len(X)\n",
        "            print(f\"loss: {loss:>7f}  [{current:>5d}/{size:>5d}]\")"
      ]
    },
    {
      "cell_type": "markdown",
      "source": [
        "## Testing function"
      ],
      "metadata": {
        "id": "FyHYgmlS3OQL"
      }
    },
    {
      "cell_type": "code",
      "execution_count": null,
      "metadata": {
        "id": "-m8lluAB3OQL"
      },
      "outputs": [],
      "source": [
        "def test(dataloader, model, loss_fn):\n",
        "    size = len(dataloader.dataset)\n",
        "    num_batches = len(dataloader)\n",
        "    model.eval() # Put the model in testing mode.\n",
        "    test_loss, correct = 0, 0\n",
        "    with torch.no_grad():\n",
        "        for X, y in dataloader:\n",
        "            X, y = X.to(device), y.to(device)\n",
        "            pred = model(X)\n",
        "            test_loss += loss_fn(pred, y).item()\n",
        "            correct += (pred.argmax(1) == y).type(torch.float).sum().item()\n",
        "    test_loss /= num_batches\n",
        "    correct /= size\n",
        "    print(f\"Test Error: \\n Accuracy: {(100*correct):>0.1f}%, Avg loss: {test_loss:>8f} \\n\")\n",
        "    return correct, test_loss"
      ]
    },
    {
      "cell_type": "markdown",
      "source": [
        "## Simple CNN: Accuracy, Epochs, and Value of Loss Function"
      ],
      "metadata": {
        "id": "q1cdj4nh3OQL"
      }
    },
    {
      "cell_type": "code",
      "execution_count": null,
      "metadata": {
        "colab": {
          "base_uri": "https://localhost:8080/"
        },
        "outputId": "7ff5968e-b412-4cee-c433-37b40abcd38b",
        "id": "Fr0MANPR3OQL"
      },
      "outputs": [
        {
          "output_type": "stream",
          "name": "stdout",
          "text": [
            "Epoch 1\n",
            "-------------------------------\n",
            "loss: 2.301292  [   64/60000]\n",
            "loss: 2.280095  [ 6464/60000]\n",
            "loss: 2.268744  [12864/60000]\n",
            "loss: 2.265154  [19264/60000]\n",
            "loss: 2.244871  [25664/60000]\n",
            "loss: 2.248159  [32064/60000]\n",
            "loss: 2.200857  [38464/60000]\n",
            "loss: 2.199050  [44864/60000]\n",
            "loss: 2.173738  [51264/60000]\n",
            "loss: 2.102298  [57664/60000]\n",
            "Test Error: \n",
            " Accuracy: 37.9%, Avg loss: 2.136511 \n",
            "\n",
            "Test Error: \n",
            " Accuracy: 37.9%, Avg loss: 2.136511 \n",
            "\n",
            "Epoch 2\n",
            "-------------------------------\n",
            "loss: 2.137134  [   64/60000]\n",
            "loss: 2.092418  [ 6464/60000]\n",
            "loss: 2.025864  [12864/60000]\n",
            "loss: 2.008314  [19264/60000]\n",
            "loss: 1.897996  [25664/60000]\n",
            "loss: 1.932949  [32064/60000]\n",
            "loss: 1.772016  [38464/60000]\n",
            "loss: 1.796497  [44864/60000]\n",
            "loss: 1.805718  [51264/60000]\n",
            "loss: 1.659309  [57664/60000]\n",
            "Test Error: \n",
            " Accuracy: 41.6%, Avg loss: 1.742512 \n",
            "\n",
            "Test Error: \n",
            " Accuracy: 41.6%, Avg loss: 1.742512 \n",
            "\n",
            "Epoch 3\n",
            "-------------------------------\n",
            "loss: 1.749854  [   64/60000]\n",
            "loss: 1.723446  [ 6464/60000]\n",
            "loss: 1.614448  [12864/60000]\n",
            "loss: 1.668684  [19264/60000]\n",
            "loss: 1.565469  [25664/60000]\n",
            "loss: 1.676095  [32064/60000]\n",
            "loss: 1.509948  [38464/60000]\n",
            "loss: 1.568316  [44864/60000]\n",
            "loss: 1.636640  [51264/60000]\n",
            "loss: 1.539319  [57664/60000]\n",
            "Test Error: \n",
            " Accuracy: 45.3%, Avg loss: 1.585760 \n",
            "\n",
            "Test Error: \n",
            " Accuracy: 45.3%, Avg loss: 1.585760 \n",
            "\n",
            "Epoch 4\n",
            "-------------------------------\n",
            "loss: 1.590296  [   64/60000]\n",
            "loss: 1.578620  [ 6464/60000]\n",
            "loss: 1.453467  [12864/60000]\n",
            "loss: 1.558573  [19264/60000]\n",
            "loss: 1.496701  [25664/60000]\n",
            "loss: 1.602456  [32064/60000]\n",
            "loss: 1.417680  [38464/60000]\n",
            "loss: 1.446176  [44864/60000]\n",
            "loss: 1.551897  [51264/60000]\n",
            "loss: 1.500556  [57664/60000]\n",
            "Test Error: \n",
            " Accuracy: 48.4%, Avg loss: 1.508651 \n",
            "\n",
            "Test Error: \n",
            " Accuracy: 48.4%, Avg loss: 1.508651 \n",
            "\n",
            "Epoch 5\n",
            "-------------------------------\n",
            "loss: 1.505028  [   64/60000]\n",
            "loss: 1.488371  [ 6464/60000]\n",
            "loss: 1.366677  [12864/60000]\n",
            "loss: 1.500924  [19264/60000]\n",
            "loss: 1.460384  [25664/60000]\n",
            "loss: 1.563779  [32064/60000]\n",
            "loss: 1.370233  [38464/60000]\n",
            "loss: 1.382951  [44864/60000]\n",
            "loss: 1.495237  [51264/60000]\n",
            "loss: 1.475384  [57664/60000]\n",
            "Test Error: \n",
            " Accuracy: 49.8%, Avg loss: 1.462805 \n",
            "\n",
            "Test Error: \n",
            " Accuracy: 49.8%, Avg loss: 1.462805 \n",
            "\n",
            "Done!\n"
          ]
        }
      ],
      "source": [
        "epochs = 5 # Number of epochs\n",
        "accuracy_h = []\n",
        "loss_h =[]\n",
        "for t in range(epochs):\n",
        "    print(f\"Epoch {t+1}\\n-------------------------------\")\n",
        "    train(train_dataloader, model, loss_fn, optimizer)\n",
        "    test(test_dataloader, model, loss_fn)\n",
        "    epoch_accuracy, epoch_loss = test(test_dataloader, model, loss_fn)\n",
        "    accuracy_h.append(epoch_accuracy)\n",
        "    loss_h.append(epoch_loss)\n",
        "print(\"Done!\")"
      ]
    },
    {
      "cell_type": "markdown",
      "source": [
        "## Plot"
      ],
      "metadata": {
        "id": "GQRcxHQx3OQL"
      }
    },
    {
      "cell_type": "code",
      "metadata": {
        "colab": {
          "base_uri": "https://localhost:8080/",
          "height": 957
        },
        "outputId": "3210ce4f-c844-43d6-b868-c0e9d1863e82",
        "id": "WJ7kPMmC3OQM"
      },
      "source": [
        "import matplotlib.pyplot as plt\n",
        "\n",
        "# Plot Accuracy\n",
        "plt.figure(figsize=(10, 5))\n",
        "plt.plot(range(1, epochs + 1), [acc * 100 for acc in accuracy_h], marker='x')\n",
        "plt.title('Simple CNN: Accuracy vs. Epochs')\n",
        "plt.xlabel('Epoch')\n",
        "plt.ylabel('Accuracy (%)') # Update the y-axis label to indicate percentage\n",
        "plt.grid(True)\n",
        "plt.show()\n",
        "\n",
        "# Plot Loss\n",
        "plt.figure(figsize=(10, 5))\n",
        "plt.plot(range(1, epochs + 1), loss_h, marker='x', color='red')\n",
        "plt.title('Simple CNN: Loss vs. Epochs')\n",
        "plt.xlabel('Epoch')\n",
        "plt.ylabel('Loss')\n",
        "plt.grid(True)\n",
        "plt.show()"
      ],
      "execution_count": null,
      "outputs": [
        {
          "output_type": "display_data",
          "data": {
            "text/plain": [
              "<Figure size 1000x500 with 1 Axes>"
            ],
            "image/png": "[encoded data removed]"
          },
          "metadata": {}
        },
        {
          "output_type": "display_data",
          "data": {
            "text/plain": [
              "<Figure size 1000x500 with 1 Axes>"
            ],
            "image/png": "[encoded data removed]"
          },
          "metadata": {}
        }
      ]
    },
    {
      "cell_type": "markdown",
      "metadata": {
        "id": "vZKeZBz33OQM"
      },
      "source": [
        "------------------------------------------------------------------------\n"
      ]
    },
    {
      "cell_type": "code",
      "source": [],
      "metadata": {
        "id": "pZ6XFJm53OQM"
      },
      "execution_count": null,
      "outputs": []
    },
    {
      "cell_type": "markdown",
      "metadata": {
        "id": "KPvrpvvuRIMl"
      },
      "source": [
        "CNN Model 2 - Filters Change (8,16)\n",
        "==============="
      ]
    },
    {
      "cell_type": "code",
      "execution_count": null,
      "metadata": {
        "id": "FacQmS5nRIMl",
        "colab": {
          "base_uri": "https://localhost:8080/"
        },
        "outputId": "31f61fd6-cbce-4e88-d15d-d0f01f3342ad"
      },
      "outputs": [
        {
          "output_type": "stream",
          "name": "stdout",
          "text": [
            "Using cpu device\n",
            "Using Model: SimpleCNN\n"
          ]
        }
      ],
      "source": [
        "device = torch.accelerator.current_accelerator().type if torch.accelerator.is_available() else \"cpu\"\n",
        "print(f\"Using {device} device\")\n",
        "\n",
        "# Define model\n",
        "class SimpleCNN(nn.Module):\n",
        "    def __init__(self, num_of_rows = 28, num_of_cols = 28,\n",
        "                 n_filters1=8, n_filters2=16, out_categories=10):\n",
        "        super().__init__()\n",
        "\n",
        "        self.conv1 = nn.Conv2d(\n",
        "                in_channels=1,            # 1 for grayscale\n",
        "                out_channels=n_filters1,   # Number of filters\n",
        "                kernel_size=3,            # 3x3 convolution\n",
        "                stride=1,\n",
        "                padding=1          # Keep output size same as input\n",
        "                )\n",
        "        self.pool = nn.MaxPool2d(2, 2)  # halves size to 14x14\n",
        "\n",
        "        self.conv2 = nn.Conv2d(\n",
        "                in_channels=n_filters1,    # NOTE: Use n_filters1 from conv1\n",
        "                out_channels=n_filters2,   # New number of filters\n",
        "                kernel_size=3,            # 3x3 convolution\n",
        "                stride=1,\n",
        "                padding=1          # Keep output size same as input\n",
        "                )\n",
        "\n",
        "        # out_categories should match the number of output categories.\n",
        "        # Match the dimensions to the input.\n",
        "        # Divide by 2 for each maxpooling (carefull for non-even numbers ...)\n",
        "        num_of_pixels = math.ceil(num_of_rows/(2*2) * num_of_cols/(2*2))\n",
        "\n",
        "        # Final layer collects the pixels from all of the inputs:\n",
        "        self.fc1 = nn.Linear(n_filters2 * num_of_pixels, out_categories)\n",
        "\n",
        "    def forward(self, x):\n",
        "        x = self.pool(F.relu(self.conv1(x)))  # -> [batch, 4, 14, 14]\n",
        "        x = self.pool(F.relu(self.conv2(x)))  # -> [batch, 8, 7, 7]\n",
        "        x = x.view(x.size(0), -1)             # flatten to [batch, 8*7*7]\n",
        "        logits = F.relu(self.fc1(x))\n",
        "        return logits # Note: SoftMax is applied to logits by cross-entropy loss function.\n",
        "\n",
        "\n",
        "## SimpleCNN\n",
        "NeuralNetwork = SimpleCNN\n",
        "model_to_use = SimpleCNN(n_filters1=8, n_filters2=16)\n",
        "\n",
        "model = model_to_use.to(device)\n",
        "print(f\"Using Model: {model.__class__.__name__}\") # Name of model print"
      ]
    },
    {
      "cell_type": "markdown",
      "source": [
        "## Model Parameters"
      ],
      "metadata": {
        "id": "_AYkfrgF4lqY"
      }
    },
    {
      "cell_type": "code",
      "source": [
        "def parameter_report(model):\n",
        "    print(f\"{'Layer':<40} {'# Params':>12} {'Trainable':>10}\")\n",
        "    print(\"-\" * 65)\n",
        "    total, trainable = 0, 0\n",
        "    for name, param in model.named_parameters():\n",
        "        num_params = param.numel()\n",
        "        is_trainable = param.requires_grad\n",
        "        print(f\"{name:<40} {num_params:>12,} {str(is_trainable):>10}\")\n",
        "        total += num_params\n",
        "        if is_trainable:\n",
        "            trainable += num_params\n",
        "    print(\"-\" * 65)\n",
        "    print(f\"{'Total':<40} {total:>12,} {'':>10}\")\n",
        "    print(f\"{'Trainable':<40} {trainable:>12,}\")\n",
        "\n",
        "\n",
        "print(model)\n",
        "print(\" \")\n",
        "\n",
        "parameter_report(model)"
      ],
      "metadata": {
        "id": "OA7FLccv4mEC",
        "colab": {
          "base_uri": "https://localhost:8080/"
        },
        "outputId": "098e5088-a92f-4a74-8cf9-69682d8c5955"
      },
      "execution_count": null,
      "outputs": [
        {
          "output_type": "stream",
          "name": "stdout",
          "text": [
            "SimpleCNN(\n",
            "  (conv1): Conv2d(1, 8, kernel_size=(3, 3), stride=(1, 1), padding=(1, 1))\n",
            "  (pool): MaxPool2d(kernel_size=2, stride=2, padding=0, dilation=1, ceil_mode=False)\n",
            "  (conv2): Conv2d(8, 16, kernel_size=(3, 3), stride=(1, 1), padding=(1, 1))\n",
            "  (fc1): Linear(in_features=784, out_features=10, bias=True)\n",
            ")\n",
            " \n",
            "Layer                                        # Params  Trainable\n",
            "-----------------------------------------------------------------\n",
            "conv1.weight                                       72       True\n",
            "conv1.bias                                          8       True\n",
            "conv2.weight                                    1,152       True\n",
            "conv2.bias                                         16       True\n",
            "fc1.weight                                      7,840       True\n",
            "fc1.bias                                           10       True\n",
            "-----------------------------------------------------------------\n",
            "Total                                           9,098           \n",
            "Trainable                                       9,098\n"
          ]
        }
      ]
    },
    {
      "cell_type": "markdown",
      "metadata": {
        "id": "rsooZOftRIMm"
      },
      "source": [
        "------------------------------------------------------------------------\n"
      ]
    },
    {
      "cell_type": "markdown",
      "metadata": {
        "id": "T0P-EPJnRIMm"
      },
      "source": [
        "## Optimizing the Model Parameters"
      ]
    },
    {
      "cell_type": "code",
      "execution_count": null,
      "metadata": {
        "id": "o3SKF6rxRIMm"
      },
      "outputs": [],
      "source": [
        "loss_fn = nn.CrossEntropyLoss()\n",
        "optimizer = torch.optim.SGD(model.parameters(), lr=1e-3)"
      ]
    },
    {
      "cell_type": "markdown",
      "source": [
        "Training function"
      ],
      "metadata": {
        "id": "p1HJNtrd7PSp"
      }
    },
    {
      "cell_type": "code",
      "execution_count": null,
      "metadata": {
        "id": "v66--0FCRIMm"
      },
      "outputs": [],
      "source": [
        "def train(dataloader, model, loss_fn, optimizer):\n",
        "    size = len(dataloader.dataset)\n",
        "    model.train() # Put the model in training mode.\n",
        "    for batch, (X, y) in enumerate(dataloader):\n",
        "        # Place the model and predictions on the same device.\n",
        "        X, y = X.to(device), y.to(device)\n",
        "\n",
        "        # Compute prediction error\n",
        "        pred = model(X)\n",
        "        loss = loss_fn(pred, y)\n",
        "\n",
        "        # Backpropagation\n",
        "        # This step updates the parameter values inside your network.\n",
        "        loss.backward()\n",
        "        optimizer.step()\n",
        "        optimizer.zero_grad()\n",
        "\n",
        "        # Print progress every 100 batches:\n",
        "        if batch % 100 == 0:\n",
        "            loss, current = loss.item(), (batch + 1) * len(X)\n",
        "            print(f\"loss: {loss:>7f}  [{current:>5d}/{size:>5d}]\")"
      ]
    },
    {
      "cell_type": "markdown",
      "source": [
        "## Testing function"
      ],
      "metadata": {
        "id": "oqib5btw8OGN"
      }
    },
    {
      "cell_type": "code",
      "execution_count": null,
      "metadata": {
        "id": "w7BHwZXhRIMm"
      },
      "outputs": [],
      "source": [
        "def test(dataloader, model, loss_fn):\n",
        "    size = len(dataloader.dataset)\n",
        "    num_batches = len(dataloader)\n",
        "    model.eval() # Put the model in testing mode.\n",
        "    test_loss, correct = 0, 0\n",
        "    with torch.no_grad():\n",
        "        for X, y in dataloader:\n",
        "            X, y = X.to(device), y.to(device)\n",
        "            pred = model(X)\n",
        "            test_loss += loss_fn(pred, y).item()\n",
        "            correct += (pred.argmax(1) == y).type(torch.float).sum().item()\n",
        "    test_loss /= num_batches\n",
        "    correct /= size\n",
        "    print(f\"Test Error: \\n Accuracy: {(100*correct):>0.1f}%, Avg loss: {test_loss:>8f} \\n\")\n",
        "    return correct, test_loss"
      ]
    },
    {
      "cell_type": "markdown",
      "source": [
        "## CNN Model 2 - Filters Change (8,16): Accuracy, Epochs, and Value of Loss Function"
      ],
      "metadata": {
        "id": "_3uGW_bgGoUC"
      }
    },
    {
      "cell_type": "code",
      "execution_count": null,
      "metadata": {
        "id": "5wkVbGV0RIMm",
        "colab": {
          "base_uri": "https://localhost:8080/"
        },
        "outputId": "d5bb2669-fa69-4753-eec9-141ca7bedd7b"
      },
      "outputs": [
        {
          "output_type": "stream",
          "name": "stdout",
          "text": [
            "Epoch 1\n",
            "-------------------------------\n",
            "loss: 2.313343  [   64/60000]\n",
            "loss: 2.307346  [ 6464/60000]\n",
            "loss: 2.292767  [12864/60000]\n",
            "loss: 2.277751  [19264/60000]\n",
            "loss: 2.266972  [25664/60000]\n",
            "loss: 2.242071  [32064/60000]\n",
            "loss: 2.196502  [38464/60000]\n",
            "loss: 2.178524  [44864/60000]\n",
            "loss: 2.142699  [51264/60000]\n",
            "loss: 2.124562  [57664/60000]\n",
            "Test Error: \n",
            " Accuracy: 36.8%, Avg loss: 2.138719 \n",
            "\n",
            "Test Error: \n",
            " Accuracy: 36.8%, Avg loss: 2.138719 \n",
            "\n",
            "Epoch 2\n",
            "-------------------------------\n",
            "loss: 2.126293  [   64/60000]\n",
            "loss: 2.150475  [ 6464/60000]\n",
            "loss: 2.097845  [12864/60000]\n",
            "loss: 2.064420  [19264/60000]\n",
            "loss: 2.072552  [25664/60000]\n",
            "loss: 1.983581  [32064/60000]\n",
            "loss: 1.833083  [38464/60000]\n",
            "loss: 1.809219  [44864/60000]\n",
            "loss: 1.788811  [51264/60000]\n",
            "loss: 1.808716  [57664/60000]\n",
            "Test Error: \n",
            " Accuracy: 44.2%, Avg loss: 1.821091 \n",
            "\n",
            "Test Error: \n",
            " Accuracy: 44.2%, Avg loss: 1.821091 \n",
            "\n",
            "Epoch 3\n",
            "-------------------------------\n",
            "loss: 1.777157  [   64/60000]\n",
            "loss: 1.869016  [ 6464/60000]\n",
            "loss: 1.789577  [12864/60000]\n",
            "loss: 1.831336  [19264/60000]\n",
            "loss: 1.796483  [25664/60000]\n",
            "loss: 1.748771  [32064/60000]\n",
            "loss: 1.542244  [38464/60000]\n",
            "loss: 1.550304  [44864/60000]\n",
            "loss: 1.503430  [51264/60000]\n",
            "loss: 1.682330  [57664/60000]\n",
            "Test Error: \n",
            " Accuracy: 47.9%, Avg loss: 1.637059 \n",
            "\n",
            "Test Error: \n",
            " Accuracy: 47.9%, Avg loss: 1.637059 \n",
            "\n",
            "Epoch 4\n",
            "-------------------------------\n",
            "loss: 1.565579  [   64/60000]\n",
            "loss: 1.718076  [ 6464/60000]\n",
            "loss: 1.644976  [12864/60000]\n",
            "loss: 1.728978  [19264/60000]\n",
            "loss: 1.674261  [25664/60000]\n",
            "loss: 1.669995  [32064/60000]\n",
            "loss: 1.436428  [38464/60000]\n",
            "loss: 1.445111  [44864/60000]\n",
            "loss: 1.412543  [51264/60000]\n",
            "loss: 1.641510  [57664/60000]\n",
            "Test Error: \n",
            " Accuracy: 49.8%, Avg loss: 1.564854 \n",
            "\n",
            "Test Error: \n",
            " Accuracy: 49.8%, Avg loss: 1.564854 \n",
            "\n",
            "Epoch 5\n",
            "-------------------------------\n",
            "loss: 1.478016  [   64/60000]\n",
            "loss: 1.647311  [ 6464/60000]\n",
            "loss: 1.561969  [12864/60000]\n",
            "loss: 1.679905  [19264/60000]\n",
            "loss: 1.624305  [25664/60000]\n",
            "loss: 1.624787  [32064/60000]\n",
            "loss: 1.380276  [38464/60000]\n",
            "loss: 1.383013  [44864/60000]\n",
            "loss: 1.358847  [51264/60000]\n",
            "loss: 1.616299  [57664/60000]\n",
            "Test Error: \n",
            " Accuracy: 50.9%, Avg loss: 1.519687 \n",
            "\n",
            "Test Error: \n",
            " Accuracy: 50.9%, Avg loss: 1.519687 \n",
            "\n",
            "Done!\n"
          ]
        }
      ],
      "source": [
        "epochs = 5 # Number of epochs\n",
        "accuracy_h = []\n",
        "loss_h =[]\n",
        "for t in range(epochs):\n",
        "    print(f\"Epoch {t+1}\\n-------------------------------\")\n",
        "    train(train_dataloader, model, loss_fn, optimizer)\n",
        "    test(test_dataloader, model, loss_fn)\n",
        "    epoch_accuracy, epoch_loss = test(test_dataloader, model, loss_fn)\n",
        "    accuracy_h.append(epoch_accuracy)\n",
        "    loss_h.append(epoch_loss)\n",
        "print(\"Done!\")"
      ]
    },
    {
      "cell_type": "markdown",
      "source": [
        "## Plot"
      ],
      "metadata": {
        "id": "pFRnlFS4xM4I"
      }
    },
    {
      "cell_type": "code",
      "metadata": {
        "colab": {
          "base_uri": "https://localhost:8080/",
          "height": 957
        },
        "id": "a9489d69",
        "outputId": "a8bbc93d-e6f1-485b-f601-4c21ed6023c7"
      },
      "source": [
        "import matplotlib.pyplot as plt\n",
        "\n",
        "# Plot Accuracy\n",
        "plt.figure(figsize=(10, 5))\n",
        "plt.plot(range(1, epochs + 1), [acc * 100 for acc in accuracy_h], marker='x')\n",
        "plt.title('CNN Model 2: Accuracy vs. Epochs')\n",
        "plt.xlabel('Epoch')\n",
        "plt.ylabel('Accuracy (%)') # Update the y-axis label to indicate percentage\n",
        "plt.grid(True)\n",
        "plt.show()\n",
        "\n",
        "# Plot Loss\n",
        "plt.figure(figsize=(10, 5))\n",
        "plt.plot(range(1, epochs + 1), loss_h, marker='x', color='red')\n",
        "plt.title('CNN Model 2: Loss vs. Epochs')\n",
        "plt.xlabel('Epoch')\n",
        "plt.ylabel('Loss')\n",
        "plt.grid(True)\n",
        "plt.show()"
      ],
      "execution_count": null,
      "outputs": [
        {
          "output_type": "display_data",
          "data": {
            "text/plain": [
              "<Figure size 1000x500 with 1 Axes>"
            ],
            "image/png": "[encoded data removed]"
          },
          "metadata": {}
        },
        {
          "output_type": "display_data",
          "data": {
            "text/plain": [
              "<Figure size 1000x500 with 1 Axes>"
            ],
            "image/png": "[encoded data removed]"
          },
          "metadata": {}
        }
      ]
    },
    {
      "cell_type": "markdown",
      "metadata": {
        "id": "9H6PC1KIRIMm"
      },
      "source": [
        "------------------------------------------------------------------------\n"
      ]
    },
    {
      "cell_type": "code",
      "source": [],
      "metadata": {
        "id": "OLvhYFnjxdLm"
      },
      "execution_count": null,
      "outputs": []
    },
    {
      "cell_type": "markdown",
      "source": [],
      "metadata": {
        "id": "v3WYZ68_3AfF"
      }
    },
    {
      "cell_type": "markdown",
      "metadata": {
        "id": "ETiUlmeR3DXd"
      },
      "source": [
        "CNN Model 3 - Filters Change (16, 32)\n",
        "==============="
      ]
    },
    {
      "cell_type": "code",
      "execution_count": null,
      "metadata": {
        "colab": {
          "base_uri": "https://localhost:8080/"
        },
        "outputId": "1116892a-87ff-4c6f-fddd-111ba5866dcc",
        "id": "Gin5yJNh3DXe"
      },
      "outputs": [
        {
          "output_type": "stream",
          "name": "stdout",
          "text": [
            "Using cpu device\n",
            "Using Model: SimpleCNN\n"
          ]
        }
      ],
      "source": [
        "device = torch.accelerator.current_accelerator().type if torch.accelerator.is_available() else \"cpu\"\n",
        "print(f\"Using {device} device\")\n",
        "\n",
        "# Define model\n",
        "class SimpleCNN(nn.Module):\n",
        "    def __init__(self, num_of_rows = 28, num_of_cols = 28,\n",
        "                 n_filters1=4, n_filters2=8, out_categories=10):\n",
        "        super().__init__()\n",
        "\n",
        "        self.conv1 = nn.Conv2d(\n",
        "                in_channels=1,            # 1 for grayscale\n",
        "                out_channels=n_filters1,   # Number of filters\n",
        "                kernel_size=3,            # 3x3 convolution\n",
        "                stride=1,\n",
        "                padding=1          # Keep output size same as input\n",
        "                )\n",
        "        self.pool = nn.MaxPool2d(2, 2)  # halves size to 14x14\n",
        "\n",
        "        self.conv2 = nn.Conv2d(\n",
        "                in_channels=n_filters1,    # NOTE: Use n_filters1 from conv1\n",
        "                out_channels=n_filters2,   # New number of filters\n",
        "                kernel_size=3,            # 3x3 convolution\n",
        "                stride=1,\n",
        "                padding=1          # Keep output size same as input\n",
        "                )\n",
        "\n",
        "        # out_categories should match the number of output categories.\n",
        "        # Match the dimensions to the input.\n",
        "        # Divide by 2 for each maxpooling (carefull for non-even numbers ...)\n",
        "        num_of_pixels = math.ceil(num_of_rows/(2*2) * num_of_cols/(2*2))\n",
        "\n",
        "        # Final layer collects the pixels from all of the inputs:\n",
        "        self.fc1 = nn.Linear(n_filters2 * num_of_pixels, out_categories)\n",
        "\n",
        "    def forward(self, x):\n",
        "        x = self.pool(F.relu(self.conv1(x)))  # -> [batch, 4, 14, 14]\n",
        "        x = self.pool(F.relu(self.conv2(x)))  # -> [batch, 8, 7, 7]\n",
        "        x = x.view(x.size(0), -1)             # flatten to [batch, 8*7*7]\n",
        "        logits = F.relu(self.fc1(x))\n",
        "        return logits # Note: SoftMax is applied to logits by cross-entropy loss function.\n",
        "\n",
        "# Define model\n",
        "class LinearModel(nn.Module):\n",
        "    def __init__(self):\n",
        "        super().__init__()\n",
        "        self.flatten = nn.Flatten()\n",
        "        self.linear_relu_stack = nn.Sequential(\n",
        "            nn.Linear(28*28, 512),\n",
        "            nn.ReLU(),\n",
        "            nn.Linear(512, 512),\n",
        "            nn.ReLU(),\n",
        "            nn.Linear(512, 10)\n",
        "        )\n",
        "\n",
        "    def forward(self, x):\n",
        "        x = self.flatten(x)\n",
        "        logits = self.linear_relu_stack(x)\n",
        "        return logits\n",
        "\n",
        "\n",
        "# Define the model here\n",
        "\n",
        "## Linear Model\n",
        "#NeuralNetwork = LinearModel\n",
        "#model_to_use  = LinearModel()\n",
        "\n",
        "## SimpleCNN\n",
        "NeuralNetwork = SimpleCNN\n",
        "model_to_use = SimpleCNN(n_filters1=16, n_filters2=32)\n",
        "\n",
        "model = model_to_use.to(device)\n",
        "print(f\"Using Model: {model.__class__.__name__}\") # Name of model print"
      ]
    },
    {
      "cell_type": "markdown",
      "source": [
        "## Model Parameters"
      ],
      "metadata": {
        "id": "VtQqRXIk3DXe"
      }
    },
    {
      "cell_type": "code",
      "source": [
        "def parameter_report(model):\n",
        "    print(f\"{'Layer':<40} {'# Params':>12} {'Trainable':>10}\")\n",
        "    print(\"-\" * 65)\n",
        "    total, trainable = 0, 0\n",
        "    for name, param in model.named_parameters():\n",
        "        num_params = param.numel()\n",
        "        is_trainable = param.requires_grad\n",
        "        print(f\"{name:<40} {num_params:>12,} {str(is_trainable):>10}\")\n",
        "        total += num_params\n",
        "        if is_trainable:\n",
        "            trainable += num_params\n",
        "    print(\"-\" * 65)\n",
        "    print(f\"{'Total':<40} {total:>12,} {'':>10}\")\n",
        "    print(f\"{'Trainable':<40} {trainable:>12,}\")\n",
        "\n",
        "\n",
        "print(model)\n",
        "print(\" \")\n",
        "\n",
        "parameter_report(model)"
      ],
      "metadata": {
        "colab": {
          "base_uri": "https://localhost:8080/"
        },
        "outputId": "99f2c392-ea91-4364-c786-487970426fb3",
        "id": "wAy1_oKf3DXf"
      },
      "execution_count": null,
      "outputs": [
        {
          "output_type": "stream",
          "name": "stdout",
          "text": [
            "SimpleCNN(\n",
            "  (conv1): Conv2d(1, 16, kernel_size=(3, 3), stride=(1, 1), padding=(1, 1))\n",
            "  (pool): MaxPool2d(kernel_size=2, stride=2, padding=0, dilation=1, ceil_mode=False)\n",
            "  (conv2): Conv2d(16, 32, kernel_size=(3, 3), stride=(1, 1), padding=(1, 1))\n",
            "  (fc1): Linear(in_features=1568, out_features=10, bias=True)\n",
            ")\n",
            " \n",
            "Layer                                        # Params  Trainable\n",
            "-----------------------------------------------------------------\n",
            "conv1.weight                                      144       True\n",
            "conv1.bias                                         16       True\n",
            "conv2.weight                                    4,608       True\n",
            "conv2.bias                                         32       True\n",
            "fc1.weight                                     15,680       True\n",
            "fc1.bias                                           10       True\n",
            "-----------------------------------------------------------------\n",
            "Total                                          20,490           \n",
            "Trainable                                      20,490\n"
          ]
        }
      ]
    },
    {
      "cell_type": "markdown",
      "metadata": {
        "id": "lMN76NFL3DXf"
      },
      "source": [
        "------------------------------------------------------------------------\n"
      ]
    },
    {
      "cell_type": "markdown",
      "metadata": {
        "id": "hzXC_bhr3DXg"
      },
      "source": [
        "## Optimizing the Model Parameters"
      ]
    },
    {
      "cell_type": "code",
      "execution_count": null,
      "metadata": {
        "id": "yXaxfLsz3DXg"
      },
      "outputs": [],
      "source": [
        "loss_fn = nn.CrossEntropyLoss()\n",
        "optimizer = torch.optim.SGD(model.parameters(), lr=1e-3)"
      ]
    },
    {
      "cell_type": "markdown",
      "source": [
        "Training function"
      ],
      "metadata": {
        "id": "Wa4rwnnm3DXg"
      }
    },
    {
      "cell_type": "code",
      "execution_count": null,
      "metadata": {
        "id": "CADr3gOl3DXg"
      },
      "outputs": [],
      "source": [
        "def train(dataloader, model, loss_fn, optimizer):\n",
        "    size = len(dataloader.dataset)\n",
        "    model.train() # Put the model in training mode.\n",
        "    for batch, (X, y) in enumerate(dataloader):\n",
        "        # Place the model and predictions on the same device.\n",
        "        X, y = X.to(device), y.to(device)\n",
        "\n",
        "        # Compute prediction error\n",
        "        pred = model(X)\n",
        "        loss = loss_fn(pred, y)\n",
        "\n",
        "        # Backpropagation\n",
        "        # This step updates the parameter values inside your network.\n",
        "        loss.backward()\n",
        "        optimizer.step()\n",
        "        optimizer.zero_grad()\n",
        "\n",
        "        # Print progress every 100 batches:\n",
        "        if batch % 100 == 0:\n",
        "            loss, current = loss.item(), (batch + 1) * len(X)\n",
        "            print(f\"loss: {loss:>7f}  [{current:>5d}/{size:>5d}]\")"
      ]
    },
    {
      "cell_type": "markdown",
      "source": [
        "## Testing function"
      ],
      "metadata": {
        "id": "hvwi_9YB3DXg"
      }
    },
    {
      "cell_type": "code",
      "execution_count": null,
      "metadata": {
        "id": "-o2EQC-a3DXg"
      },
      "outputs": [],
      "source": [
        "def test(dataloader, model, loss_fn):\n",
        "    size = len(dataloader.dataset)\n",
        "    num_batches = len(dataloader)\n",
        "    model.eval() # Put the model in testing mode.\n",
        "    test_loss, correct = 0, 0\n",
        "    with torch.no_grad():\n",
        "        for X, y in dataloader:\n",
        "            X, y = X.to(device), y.to(device)\n",
        "            pred = model(X)\n",
        "            test_loss += loss_fn(pred, y).item()\n",
        "            correct += (pred.argmax(1) == y).type(torch.float).sum().item()\n",
        "    test_loss /= num_batches\n",
        "    correct /= size\n",
        "    print(f\"Test Error: \\n Accuracy: {(100*correct):>0.1f}%, Avg loss: {test_loss:>8f} \\n\")\n",
        "    return correct, test_loss"
      ]
    },
    {
      "cell_type": "markdown",
      "source": [
        "## CNN Model 3 - Filters Change (16, 32): Accuracy, Epochs, and Value of Loss Function"
      ],
      "metadata": {
        "id": "9jImm_vN3DXh"
      }
    },
    {
      "cell_type": "code",
      "execution_count": null,
      "metadata": {
        "colab": {
          "base_uri": "https://localhost:8080/"
        },
        "outputId": "4bc65df5-2c14-4dc1-ca7e-a943727473de",
        "id": "6nvPAcas3DXh"
      },
      "outputs": [
        {
          "output_type": "stream",
          "name": "stdout",
          "text": [
            "Epoch 1\n",
            "-------------------------------\n",
            "loss: 2.299995  [   64/60000]\n",
            "loss: 2.274200  [ 6464/60000]\n",
            "loss: 2.252039  [12864/60000]\n",
            "loss: 2.233598  [19264/60000]\n",
            "loss: 2.200487  [25664/60000]\n",
            "loss: 2.186034  [32064/60000]\n",
            "loss: 2.059010  [38464/60000]\n",
            "loss: 2.038870  [44864/60000]\n",
            "loss: 1.926694  [51264/60000]\n",
            "loss: 1.898028  [57664/60000]\n",
            "Test Error: \n",
            " Accuracy: 50.1%, Avg loss: 1.852023 \n",
            "\n",
            "Test Error: \n",
            " Accuracy: 50.1%, Avg loss: 1.852023 \n",
            "\n",
            "Epoch 2\n",
            "-------------------------------\n",
            "loss: 1.848779  [   64/60000]\n",
            "loss: 1.802843  [ 6464/60000]\n",
            "loss: 1.712018  [12864/60000]\n",
            "loss: 1.656991  [19264/60000]\n",
            "loss: 1.656756  [25664/60000]\n",
            "loss: 1.751615  [32064/60000]\n",
            "loss: 1.420980  [38464/60000]\n",
            "loss: 1.478610  [44864/60000]\n",
            "loss: 1.408488  [51264/60000]\n",
            "loss: 1.542449  [57664/60000]\n",
            "Test Error: \n",
            " Accuracy: 56.9%, Avg loss: 1.409900 \n",
            "\n",
            "Test Error: \n",
            " Accuracy: 56.9%, Avg loss: 1.409900 \n",
            "\n",
            "Epoch 3\n",
            "-------------------------------\n",
            "loss: 1.403184  [   64/60000]\n",
            "loss: 1.434032  [ 6464/60000]\n",
            "loss: 1.321291  [12864/60000]\n",
            "loss: 1.374583  [19264/60000]\n",
            "loss: 1.408424  [25664/60000]\n",
            "loss: 1.558192  [32064/60000]\n",
            "loss: 1.199585  [38464/60000]\n",
            "loss: 1.275134  [44864/60000]\n",
            "loss: 1.234871  [51264/60000]\n",
            "loss: 1.453996  [57664/60000]\n",
            "Test Error: \n",
            " Accuracy: 60.3%, Avg loss: 1.268265 \n",
            "\n",
            "Test Error: \n",
            " Accuracy: 60.3%, Avg loss: 1.268265 \n",
            "\n",
            "Epoch 4\n",
            "-------------------------------\n",
            "loss: 1.226773  [   64/60000]\n",
            "loss: 1.294524  [ 6464/60000]\n",
            "loss: 1.163577  [12864/60000]\n",
            "loss: 1.288776  [19264/60000]\n",
            "loss: 1.328138  [25664/60000]\n",
            "loss: 1.475896  [32064/60000]\n",
            "loss: 1.101769  [38464/60000]\n",
            "loss: 1.190965  [44864/60000]\n",
            "loss: 1.150402  [51264/60000]\n",
            "loss: 1.397997  [57664/60000]\n",
            "Test Error: \n",
            " Accuracy: 62.0%, Avg loss: 1.196626 \n",
            "\n",
            "Test Error: \n",
            " Accuracy: 62.0%, Avg loss: 1.196626 \n",
            "\n",
            "Epoch 5\n",
            "-------------------------------\n",
            "loss: 1.110407  [   64/60000]\n",
            "loss: 1.208732  [ 6464/60000]\n",
            "loss: 1.073732  [12864/60000]\n",
            "loss: 1.250780  [19264/60000]\n",
            "loss: 1.283923  [25664/60000]\n",
            "loss: 1.430736  [32064/60000]\n",
            "loss: 1.049851  [38464/60000]\n",
            "loss: 1.151774  [44864/60000]\n",
            "loss: 1.101861  [51264/60000]\n",
            "loss: 1.356369  [57664/60000]\n",
            "Test Error: \n",
            " Accuracy: 62.9%, Avg loss: 1.151470 \n",
            "\n",
            "Test Error: \n",
            " Accuracy: 62.9%, Avg loss: 1.151470 \n",
            "\n",
            "Done!\n"
          ]
        }
      ],
      "source": [
        "epochs = 5 # Number of epochs\n",
        "accuracy_h = []\n",
        "loss_h =[]\n",
        "for t in range(epochs):\n",
        "    print(f\"Epoch {t+1}\\n-------------------------------\")\n",
        "    train(train_dataloader, model, loss_fn, optimizer)\n",
        "    test(test_dataloader, model, loss_fn)\n",
        "    epoch_accuracy, epoch_loss = test(test_dataloader, model, loss_fn)\n",
        "    accuracy_h.append(epoch_accuracy)\n",
        "    loss_h.append(epoch_loss)\n",
        "print(\"Done!\")"
      ]
    },
    {
      "cell_type": "markdown",
      "source": [
        "## Plot"
      ],
      "metadata": {
        "id": "ZEsebEZY3DXh"
      }
    },
    {
      "cell_type": "code",
      "metadata": {
        "colab": {
          "base_uri": "https://localhost:8080/",
          "height": 957
        },
        "outputId": "c26890ad-cc3e-42b8-f78b-7af32bef2fc1",
        "id": "eUQ5KLD63DXh"
      },
      "source": [
        "import matplotlib.pyplot as plt\n",
        "\n",
        "# Plot Accuracy\n",
        "plt.figure(figsize=(10, 5))\n",
        "plt.plot(range(1, epochs + 1), [acc * 100 for acc in accuracy_h], marker='x')\n",
        "plt.title('CNN Model 3: Accuracy vs. Epochs')\n",
        "plt.xlabel('Epoch')\n",
        "plt.ylabel('Accuracy (%)') # Update the y-axis label to indicate percentage\n",
        "plt.grid(True)\n",
        "plt.show()\n",
        "\n",
        "# Plot Loss\n",
        "plt.figure(figsize=(10, 5))\n",
        "plt.plot(range(1, epochs + 1), loss_h, marker='x', color='red')\n",
        "plt.title('CNN Model 3: Loss vs. Epochs')\n",
        "plt.xlabel('Epoch')\n",
        "plt.ylabel('Loss')\n",
        "plt.grid(True)\n",
        "plt.show()"
      ],
      "execution_count": null,
      "outputs": [
        {
          "output_type": "display_data",
          "data": {
            "text/plain": [
              "<Figure size 1000x500 with 1 Axes>"
            ],
            "image/png": "[encoded data removed]"
          },
          "metadata": {}
        },
        {
          "output_type": "display_data",
          "data": {
            "text/plain": [
              "<Figure size 1000x500 with 1 Axes>"
            ],
            "image/png": "[encoded data removed]"
          },
          "metadata": {}
        }
      ]
    },
    {
      "cell_type": "markdown",
      "metadata": {
        "id": "7nKu6EAQ3DXi"
      },
      "source": [
        "------------------------------------------------------------------------\n"
      ]
    }
  ],
  "metadata": {
    "kernelspec": {
      "display_name": "Python 3",
      "language": "python",
      "name": "python3"
    },
    "language_info": {
      "codemirror_mode": {
        "name": "ipython",
        "version": 3
      },
      "file_extension": ".py",
      "mimetype": "text/x-python",
      "name": "python",
      "nbconvert_exporter": "python",
      "pygments_lexer": "ipython3",
      "version": "3.10.12"
    },
    "colab": {
      "provenance": [],
      "toc_visible": true
    }
  },
  "nbformat": 4,
  "nbformat_minor": 0
}