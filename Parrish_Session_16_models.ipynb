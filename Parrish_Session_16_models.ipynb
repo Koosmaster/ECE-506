{
  "cells": [
    {
      "cell_type": "markdown",
      "source": [
        "# Machine Learning Model Training - Markus Parrish"
      ],
      "metadata": {
        "id": "PgCzu-6VqnI5"
      }
    },
    {
      "cell_type": "markdown",
      "source": [
        "Goals:"
      ],
      "metadata": {
        "id": "gWbhc3aPq1MI"
      }
    },
    {
      "cell_type": "markdown",
      "source": [
        "Session 16 provides parametrizable CNN models that you can train. Experiment with a few (at least three) CNN models and the Linear model for the given classification problem.\n",
        "\n",
        "Deliverables:\n",
        "\n",
        "1. A PDF of the Python code used to generate the different models. Use the provided code to print the architectures and the number of parameters.\n",
        "2. Screenshots of the achieved accuracy as a function of the number of epochs and the value of the loss function.\n",
        "3. A discussion comparing the required number of epochs, total number of parameters, final value of the loss function, and achieved accuracy.\n"
      ],
      "metadata": {
        "id": "YloD06CNsyZW"
      }
    },
    {
      "cell_type": "markdown",
      "source": [
        "References:\n",
        "* A collection of tutorials are available at [main website](https://docs.pytorch.org/tutorials/).\n",
        "* The current document follows the [Quickstart tutorial](https://docs.pytorch.org/tutorials/beginner/basics/quickstart_tutorial.html)."
      ],
      "metadata": {
        "id": "wiUKu0DHq1V1"
      }
    },
    {
      "cell_type": "markdown",
      "source": [
        "# Setup"
      ],
      "metadata": {
        "id": "bjEsXFgAqnAs"
      }
    },
    {
      "cell_type": "code",
      "execution_count": 82,
      "metadata": {
        "id": "610XmpDlRIMj"
      },
      "outputs": [],
      "source": [
        "# For tips on running notebooks in Google Colab, see\n",
        "# https://pytorch.org/tutorials/beginner/colab\n",
        "%matplotlib inline"
      ]
    },
    {
      "cell_type": "code",
      "execution_count": 83,
      "metadata": {
        "id": "YyK5O4-ARIMk"
      },
      "outputs": [],
      "source": [
        "import math\n",
        "import torch\n",
        "from torch import nn\n",
        "from torch.utils.data import DataLoader\n",
        "from torchvision import datasets\n",
        "from torchvision.transforms import ToTensor\n",
        "import torch.nn.functional as F"
      ]
    },
    {
      "cell_type": "markdown",
      "source": [
        "# Datasets"
      ],
      "metadata": {
        "id": "rVD9VR4gt842"
      }
    },
    {
      "cell_type": "markdown",
      "metadata": {
        "id": "VpNYO0VgRIMk"
      },
      "source": [
        "<b>TorchVision dataset used for this assignment</b><br>\n",
        "\n"
      ]
    },
    {
      "cell_type": "code",
      "execution_count": 84,
      "metadata": {
        "id": "B17Y1A9qRIMl"
      },
      "outputs": [],
      "source": [
        "# Download training data from open datasets.\n",
        "training_data = datasets.FashionMNIST(\n",
        "    root=\"data\",\n",
        "    train=True,\n",
        "    download=True,\n",
        "    transform=ToTensor(),\n",
        ")\n",
        "\n",
        "# Download test data from open datasets.\n",
        "test_data = datasets.FashionMNIST(\n",
        "    root=\"data\",\n",
        "    train=False,\n",
        "    download=True,\n",
        "    transform=ToTensor(),\n",
        ")"
      ]
    },
    {
      "cell_type": "markdown",
      "metadata": {
        "id": "qnaNebHiRIMl"
      },
      "source": [
        "<b>Dataloader</b><br>\n",
        "Pass `Dataset` as an argument to `DataLoader`.\n"
      ]
    },
    {
      "cell_type": "code",
      "execution_count": 85,
      "metadata": {
        "id": "l_lNp19jRIMl",
        "colab": {
          "base_uri": "https://localhost:8080/",
          "height": 0
        },
        "outputId": "5faa590b-4278-499f-8292-1924b99ea2d5"
      },
      "outputs": [
        {
          "output_type": "stream",
          "name": "stdout",
          "text": [
            "Shape of X [N, C, H, W]: torch.Size([64, 1, 28, 28])\n",
            "N = batch size. This is the number of images to process at a time.\n",
            "C = number of channels. C=1 for grayscale. C=3 for RGB.\n",
            "H = height is the number of rows in the image.\n",
            "W = width is the number of columns in the image.\n",
            " \n",
            "Shape of y: torch.Size([64]) torch.int64\n",
            "y is of size N, the ground truth labels required for each image in the batch.\n",
            "Percentage of training dataset = 85.71 percent with 60000 samples.\n",
            "Percentage of test dataset     = 14.29 percent with 10000 samples.\n"
          ]
        }
      ],
      "source": [
        "batch_size = 64\n",
        "\n",
        "# Create data loaders.\n",
        "train_dataloader = DataLoader(training_data, batch_size=batch_size)\n",
        "test_dataloader = DataLoader(test_data, batch_size=batch_size)\n",
        "\n",
        "for X, y in test_dataloader:\n",
        "    print(f\"Shape of X [N, C, H, W]: {X.shape}\")\n",
        "    print(\"N = batch size. This is the number of images to process at a time.\")\n",
        "    print(\"C = number of channels. C=1 for grayscale. C=3 for RGB.\")\n",
        "    print(\"H = height is the number of rows in the image.\")\n",
        "    print(\"W = width is the number of columns in the image.\")\n",
        "    print(\" \")\n",
        "    print(f\"Shape of y: {y.shape} {y.dtype}\")\n",
        "    print(\"y is of size N, the ground truth labels required for each image in the batch.\")\n",
        "    break\n",
        "\n",
        "train_size = len(train_dataloader.dataset)\n",
        "test_size  = len(test_dataloader.dataset)\n",
        "train_pct  = 100*train_size/(train_size+test_size)\n",
        "test_pct   = 100*test_size/(train_size+test_size)\n",
        "print(f\"Percentage of training dataset = {train_pct:.2f} percent with {train_size} samples.\")\n",
        "print(f\"Percentage of test dataset     = {test_pct:.2f} percent with {test_size} samples.\")"
      ]
    },
    {
      "cell_type": "markdown",
      "source": [
        "## Datasets visualization"
      ],
      "metadata": {
        "id": "zF_zXFRyeVG-"
      }
    },
    {
      "cell_type": "markdown",
      "source": [
        "Review the dataset and answer the following:\n",
        "1. How many categories are we looking at?\n",
        "2. Comment on the quality of the images."
      ],
      "metadata": {
        "id": "u92BH1HQeVP_"
      }
    },
    {
      "cell_type": "code",
      "source": [
        "import torch\n",
        "import matplotlib.pyplot as plt\n",
        "import math\n",
        "\n",
        "import torch\n",
        "import matplotlib.pyplot as plt\n",
        "import math\n",
        "\n",
        "classes = [\n",
        "    \"T-shirt/top\",\n",
        "    \"Trouser\",\n",
        "    \"Pullover\",\n",
        "    \"Dress\",\n",
        "    \"Coat\",\n",
        "    \"Sandal\",\n",
        "    \"Shirt\",\n",
        "    \"Sneaker\",\n",
        "    \"Bag\",\n",
        "    \"Ankle boot\",\n",
        "]\n",
        "\n",
        "def show_images(batch_tensor, n=16, titles=None):\n",
        "    \"\"\"\n",
        "    Display n grayscale images from a batch [B, 1, H, W] in a rectangular grid with optional titles.\n",
        "\n",
        "    Parameters:\n",
        "    - batch_tensor: torch.Tensor of shape [B, 1, H, W]\n",
        "    - n: number of images to show\n",
        "    - titles: list of titles or labels for each image (length n)\n",
        "    \"\"\"\n",
        "    assert batch_tensor.ndim == 4 and batch_tensor.size(1) == 1, \"Expected shape [B, 1, H, W]\"\n",
        "    n = min(n, batch_tensor.size(0))\n",
        "    if titles is None:\n",
        "        titles = [f\"Image {i}\" for i in range(n)]\n",
        "    else:\n",
        "        assert len(titles) >= n, \"Not enough titles for the number of images.\"\n",
        "\n",
        "    # Determine grid size\n",
        "    cols = int(math.ceil(math.sqrt(n)))\n",
        "    rows = int(math.ceil(n / cols))\n",
        "\n",
        "    plt.figure(figsize=(cols * 2, rows * 2))\n",
        "    for i in range(n):\n",
        "        img = batch_tensor[i, 0].cpu().numpy()\n",
        "        plt.subplot(rows, cols, i + 1)\n",
        "        plt.imshow(img, cmap='gray')\n",
        "        plt.title(classes[y[i]], fontsize=10)\n",
        "        plt.axis('off')\n",
        "    plt.tight_layout()\n",
        "    plt.show()\n",
        "\n",
        "show_images(batch_tensor=X, n=16, titles=y)"
      ],
      "metadata": {
        "colab": {
          "base_uri": "https://localhost:8080/",
          "height": 806
        },
        "id": "Q6D8tvJSeVfs",
        "outputId": "dfe5f662-2482-4f4f-94d2-733eb5c66395"
      },
      "execution_count": 86,
      "outputs": [
        {
          "output_type": "display_data",
          "data": {
            "text/plain": [
              "<Figure size 800x800 with 16 Axes>"
            ],
            "image/png": "[encoded data removed]"
          },
          "metadata": {}
        }
      ]
    },
    {
      "cell_type": "markdown",
      "metadata": {
        "id": "odu61pyrxkN_"
      },
      "source": [
        "Linear Model\n",
        "==============="
      ]
    },
    {
      "cell_type": "code",
      "execution_count": 94,
      "metadata": {
        "colab": {
          "base_uri": "https://localhost:8080/",
          "height": 0
        },
        "outputId": "71d7e71a-e644-473d-a370-030ee1028be8",
        "id": "uNb3b85txkOA"
      },
      "outputs": [
        {
          "output_type": "stream",
          "name": "stdout",
          "text": [
            "Using cpu device\n",
            "Using Model: LinearModel\n"
          ]
        }
      ],
      "source": [
        "device = torch.accelerator.current_accelerator().type if torch.accelerator.is_available() else \"cpu\"\n",
        "print(f\"Using {device} device\")\n",
        "\n",
        "# Define model\n",
        "class LinearModel(nn.Module):\n",
        "    def __init__(self):\n",
        "        super().__init__()\n",
        "        self.flatten = nn.Flatten()\n",
        "        self.linear_relu_stack = nn.Sequential(\n",
        "            nn.Linear(28*28, 512),\n",
        "            nn.ReLU(),\n",
        "            nn.Linear(512, 512),\n",
        "            nn.ReLU(),\n",
        "            nn.Linear(512, 10)\n",
        "        )\n",
        "\n",
        "    def forward(self, x):\n",
        "        x = self.flatten(x)\n",
        "        logits = self.linear_relu_stack(x)\n",
        "        return logits\n",
        "\n",
        "\n",
        "# Define the model here\n",
        "\n",
        "## Linear Model\n",
        "NeuralNetwork = LinearModel\n",
        "model_to_use  = LinearModel()\n",
        "\n",
        "model = model_to_use.to(device)\n",
        "print(f\"Using Model: {model.__class__.__name__}\") # Name of model print"
      ]
    },
    {
      "cell_type": "markdown",
      "source": [
        "## Model Parameters"
      ],
      "metadata": {
        "id": "Tpu3KeiHxkOB"
      }
    },
    {
      "cell_type": "code",
      "source": [
        "def parameter_report(model):\n",
        "    print(f\"{'Layer':<40} {'# Params':>12} {'Trainable':>10}\")\n",
        "    print(\"-\" * 65)\n",
        "    total, trainable = 0, 0\n",
        "    for name, param in model.named_parameters():\n",
        "        num_params = param.numel()\n",
        "        is_trainable = param.requires_grad\n",
        "        print(f\"{name:<40} {num_params:>12,} {str(is_trainable):>10}\")\n",
        "        total += num_params\n",
        "        if is_trainable:\n",
        "            trainable += num_params\n",
        "    print(\"-\" * 65)\n",
        "    print(f\"{'Total':<40} {total:>12,} {'':>10}\")\n",
        "    print(f\"{'Trainable':<40} {trainable:>12,}\")\n",
        "\n",
        "\n",
        "print(model)\n",
        "print(\" \")\n",
        "\n",
        "parameter_report(model)"
      ],
      "metadata": {
        "colab": {
          "base_uri": "https://localhost:8080/",
          "height": 0
        },
        "outputId": "5450d827-b0f8-422a-bf7a-bf1b33c639a6",
        "id": "8a-84M-UxkOB"
      },
      "execution_count": 95,
      "outputs": [
        {
          "output_type": "stream",
          "name": "stdout",
          "text": [
            "LinearModel(\n",
            "  (flatten): Flatten(start_dim=1, end_dim=-1)\n",
            "  (linear_relu_stack): Sequential(\n",
            "    (0): Linear(in_features=784, out_features=512, bias=True)\n",
            "    (1): ReLU()\n",
            "    (2): Linear(in_features=512, out_features=512, bias=True)\n",
            "    (3): ReLU()\n",
            "    (4): Linear(in_features=512, out_features=10, bias=True)\n",
            "  )\n",
            ")\n",
            " \n",
            "Layer                                        # Params  Trainable\n",
            "-----------------------------------------------------------------\n",
            "linear_relu_stack.0.weight                    401,408       True\n",
            "linear_relu_stack.0.bias                          512       True\n",
            "linear_relu_stack.2.weight                    262,144       True\n",
            "linear_relu_stack.2.bias                          512       True\n",
            "linear_relu_stack.4.weight                      5,120       True\n",
            "linear_relu_stack.4.bias                           10       True\n",
            "-----------------------------------------------------------------\n",
            "Total                                         669,706           \n",
            "Trainable                                     669,706\n"
          ]
        }
      ]
    },
    {
      "cell_type": "markdown",
      "metadata": {
        "id": "2wjsnxsyxkOB"
      },
      "source": [
        "------------------------------------------------------------------------\n"
      ]
    },
    {
      "cell_type": "markdown",
      "metadata": {
        "id": "IlN2OkCqxkOC"
      },
      "source": [
        "## Optimizing the Model Parameters"
      ]
    },
    {
      "cell_type": "code",
      "execution_count": 96,
      "metadata": {
        "id": "QhBpfOAaxkOC"
      },
      "outputs": [],
      "source": [
        "loss_fn = nn.CrossEntropyLoss()\n",
        "optimizer = torch.optim.SGD(model.parameters(), lr=1e-3)"
      ]
    },
    {
      "cell_type": "markdown",
      "source": [
        "Training function"
      ],
      "metadata": {
        "id": "zfHy14xBxkOD"
      }
    },
    {
      "cell_type": "code",
      "execution_count": 97,
      "metadata": {
        "id": "TI_NGcmNxkOD"
      },
      "outputs": [],
      "source": [
        "def train(dataloader, model, loss_fn, optimizer):\n",
        "    size = len(dataloader.dataset)\n",
        "    model.train() # Put the model in training mode.\n",
        "    for batch, (X, y) in enumerate(dataloader):\n",
        "        # Place the model and predictions on the same device.\n",
        "        X, y = X.to(device), y.to(device)\n",
        "\n",
        "        # Compute prediction error\n",
        "        pred = model(X)\n",
        "        loss = loss_fn(pred, y)\n",
        "\n",
        "        # Backpropagation\n",
        "        # This step updates the parameter values inside your network.\n",
        "        loss.backward()\n",
        "        optimizer.step()\n",
        "        optimizer.zero_grad()\n",
        "\n",
        "        # Print progress every 100 batches:\n",
        "        if batch % 100 == 0:\n",
        "            loss, current = loss.item(), (batch + 1) * len(X)\n",
        "            print(f\"loss: {loss:>7f}  [{current:>5d}/{size:>5d}]\")"
      ]
    },
    {
      "cell_type": "markdown",
      "source": [
        "## Testing function"
      ],
      "metadata": {
        "id": "11Ffd5snxkOD"
      }
    },
    {
      "cell_type": "code",
      "execution_count": 98,
      "metadata": {
        "id": "V1fth7gJxkOD"
      },
      "outputs": [],
      "source": [
        "def test(dataloader, model, loss_fn):\n",
        "    size = len(dataloader.dataset)\n",
        "    num_batches = len(dataloader)\n",
        "    model.eval() # Put the model in testing mode.\n",
        "    test_loss, correct = 0, 0\n",
        "    with torch.no_grad():\n",
        "        for X, y in dataloader:\n",
        "            X, y = X.to(device), y.to(device)\n",
        "            pred = model(X)\n",
        "            test_loss += loss_fn(pred, y).item()\n",
        "            correct += (pred.argmax(1) == y).type(torch.float).sum().item()\n",
        "    test_loss /= num_batches\n",
        "    correct /= size\n",
        "    print(f\"Test Error: \\n Accuracy: {(100*correct):>0.1f}%, Avg loss: {test_loss:>8f} \\n\")\n",
        "    return correct, test_loss"
      ]
    },
    {
      "cell_type": "markdown",
      "source": [
        "## Linear Model: Accuracy, Epochs, and Value of Loss Function"
      ],
      "metadata": {
        "id": "vnN2lyl2xkOE"
      }
    },
    {
      "cell_type": "code",
      "execution_count": 99,
      "metadata": {
        "colab": {
          "base_uri": "https://localhost:8080/",
          "height": 0
        },
        "outputId": "b066ad7c-3d75-49dd-ebc3-b6886bae8401",
        "collapsed": true,
        "id": "9TGUpPk5xkOE"
      },
      "outputs": [
        {
          "output_type": "stream",
          "name": "stdout",
          "text": [
            "Epoch 1\n",
            "-------------------------------\n",
            "loss: 2.297160  [   64/60000]\n",
            "loss: 2.288441  [ 6464/60000]\n",
            "loss: 2.268637  [12864/60000]\n",
            "loss: 2.262594  [19264/60000]\n",
            "loss: 2.248799  [25664/60000]\n",
            "loss: 2.223486  [32064/60000]\n",
            "loss: 2.220200  [38464/60000]\n",
            "loss: 2.193058  [44864/60000]\n",
            "loss: 2.182239  [51264/60000]\n",
            "loss: 2.145040  [57664/60000]\n",
            "Test Error: \n",
            " Accuracy: 53.5%, Avg loss: 2.147823 \n",
            "\n",
            "Test Error: \n",
            " Accuracy: 53.5%, Avg loss: 2.147823 \n",
            "\n",
            "Epoch 2\n",
            "-------------------------------\n",
            "loss: 2.155493  [   64/60000]\n",
            "loss: 2.149987  [ 6464/60000]\n",
            "loss: 2.092046  [12864/60000]\n",
            "loss: 2.103837  [19264/60000]\n",
            "loss: 2.071104  [25664/60000]\n",
            "loss: 2.004030  [32064/60000]\n",
            "loss: 2.022627  [38464/60000]\n",
            "loss: 1.951490  [44864/60000]\n",
            "loss: 1.941895  [51264/60000]\n",
            "loss: 1.873170  [57664/60000]\n",
            "Test Error: \n",
            " Accuracy: 60.1%, Avg loss: 1.880162 \n",
            "\n",
            "Test Error: \n",
            " Accuracy: 60.1%, Avg loss: 1.880162 \n",
            "\n",
            "Epoch 3\n",
            "-------------------------------\n",
            "loss: 1.907380  [   64/60000]\n",
            "loss: 1.884502  [ 6464/60000]\n",
            "loss: 1.768232  [12864/60000]\n",
            "loss: 1.804912  [19264/60000]\n",
            "loss: 1.724624  [25664/60000]\n",
            "loss: 1.660749  [32064/60000]\n",
            "loss: 1.674834  [38464/60000]\n",
            "loss: 1.584077  [44864/60000]\n",
            "loss: 1.596474  [51264/60000]\n",
            "loss: 1.496584  [57664/60000]\n",
            "Test Error: \n",
            " Accuracy: 62.0%, Avg loss: 1.520148 \n",
            "\n",
            "Test Error: \n",
            " Accuracy: 62.0%, Avg loss: 1.520148 \n",
            "\n",
            "Epoch 4\n",
            "-------------------------------\n",
            "loss: 1.579661  [   64/60000]\n",
            "loss: 1.550187  [ 6464/60000]\n",
            "loss: 1.399638  [12864/60000]\n",
            "loss: 1.473658  [19264/60000]\n",
            "loss: 1.379037  [25664/60000]\n",
            "loss: 1.355731  [32064/60000]\n",
            "loss: 1.367964  [38464/60000]\n",
            "loss: 1.297282  [44864/60000]\n",
            "loss: 1.320946  [51264/60000]\n",
            "loss: 1.229796  [57664/60000]\n",
            "Test Error: \n",
            " Accuracy: 64.0%, Avg loss: 1.256359 \n",
            "\n",
            "Test Error: \n",
            " Accuracy: 64.0%, Avg loss: 1.256359 \n",
            "\n",
            "Epoch 5\n",
            "-------------------------------\n",
            "loss: 1.323893  [   64/60000]\n",
            "loss: 1.309563  [ 6464/60000]\n",
            "loss: 1.142036  [12864/60000]\n",
            "loss: 1.253397  [19264/60000]\n",
            "loss: 1.144455  [25664/60000]\n",
            "loss: 1.153554  [32064/60000]\n",
            "loss: 1.174210  [38464/60000]\n",
            "loss: 1.115052  [44864/60000]\n",
            "loss: 1.142045  [51264/60000]\n",
            "loss: 1.066842  [57664/60000]\n",
            "Test Error: \n",
            " Accuracy: 65.4%, Avg loss: 1.087193 \n",
            "\n",
            "Test Error: \n",
            " Accuracy: 65.4%, Avg loss: 1.087193 \n",
            "\n",
            "Done!\n"
          ]
        }
      ],
      "source": [
        "epochs = 5 # Number of epochs\n",
        "accuracy_h = []\n",
        "loss_h =[]\n",
        "for t in range(epochs):\n",
        "    print(f\"Epoch {t+1}\\n-------------------------------\")\n",
        "    train(train_dataloader, model, loss_fn, optimizer)\n",
        "    test(test_dataloader, model, loss_fn)\n",
        "    epoch_accuracy, epoch_loss = test(test_dataloader, model, loss_fn)\n",
        "    accuracy_h.append(epoch_accuracy)\n",
        "    loss_h.append(epoch_loss)\n",
        "print(\"Done!\")"
      ]
    },
    {
      "cell_type": "markdown",
      "source": [
        "## Plot"
      ],
      "metadata": {
        "id": "Z1Sosb6JxkOE"
      }
    },
    {
      "cell_type": "code",
      "source": [],
      "metadata": {
        "id": "BNRoxjWR1ry-"
      },
      "execution_count": null,
      "outputs": []
    },
    {
      "cell_type": "code",
      "metadata": {
        "colab": {
          "base_uri": "https://localhost:8080/",
          "height": 957
        },
        "outputId": "96b56288-caac-41b7-fabd-d64c736258f3",
        "id": "o866MuLV1sba"
      },
      "source": [
        "import matplotlib.pyplot as plt\n",
        "\n",
        "# Plot Accuracy\n",
        "plt.figure(figsize=(10, 5))\n",
        "plt.plot(range(1, epochs + 1), [acc * 100 for acc in accuracy_h], marker='x')\n",
        "plt.title('Linear Model: Accuracy vs. Epochs')\n",
        "plt.xlabel('Epoch')\n",
        "plt.ylabel('Accuracy (%)') # Update the y-axis label to indicate percentage\n",
        "plt.grid(True)\n",
        "plt.show()\n",
        "\n",
        "# Plot Loss\n",
        "plt.figure(figsize=(10, 5))\n",
        "plt.plot(range(1, epochs + 1), loss_h, marker='x', color='red')\n",
        "plt.title('Linear Model: Loss vs. Epochs')\n",
        "plt.xlabel('Epoch')\n",
        "plt.ylabel('Loss')\n",
        "plt.grid(True)\n",
        "plt.show()"
      ],
      "execution_count": 101,
      "outputs": [
        {
          "output_type": "display_data",
          "data": {
            "text/plain": [
              "<Figure size 1000x500 with 1 Axes>"
            ],
            "image/png": "[encoded data removed]"
          },
          "metadata": {}
        },
        {
          "output_type": "display_data",
          "data": {
            "text/plain": [
              "<Figure size 1000x500 with 1 Axes>"
            ],
            "image/png": "[encoded data removed]"
          },
          "metadata": {}
        }
      ]
    },
    {
      "cell_type": "code",
      "source": [],
      "metadata": {
        "id": "BPdQNtQx3JvD"
      },
      "execution_count": null,
      "outputs": []
    },
    {
      "cell_type": "markdown",
      "metadata": {
        "id": "JGcGJX1c3OQH"
      },
      "source": [
        "Simple CNN Model\n",
        "==============="
      ]
    },
    {
      "cell_type": "code",
      "execution_count": null,
      "metadata": {
        "colab": {
          "base_uri": "https://localhost:8080/"
        },
        "outputId": "05030352-7b6b-41a4-b6d6-309be70fac53",
        "id": "_WBAa1IB3OQI"
      },
      "outputs": [
        {
          "output_type": "stream",
          "name": "stdout",
          "text": [
            "Using cpu device\n",
            "Using Model: SimpleCNN\n"
          ]
        }
      ],
      "source": [
        "device = torch.accelerator.current_accelerator().type if torch.accelerator.is_available() else \"cpu\"\n",
        "print(f\"Using {device} device\")\n",
        "\n",
        "# Define model\n",
        "class SimpleCNN(nn.Module):\n",
        "    def __init__(self, num_of_rows = 28, num_of_cols = 28,\n",
        "                 n_filters1=4, n_filters2=8, out_categories=10):\n",
        "        super().__init__()\n",
        "\n",
        "        self.conv1 = nn.Conv2d(\n",
        "                in_channels=1,            # 1 for grayscale\n",
        "                out_channels=n_filters1,   # Number of filters\n",
        "                kernel_size=3,            # 3x3 convolution\n",
        "                stride=1,\n",
        "                padding=1          # Keep output size same as input\n",
        "                )\n",
        "        self.pool = nn.MaxPool2d(2, 2)  # halves size to 14x14\n",
        "\n",
        "        self.conv2 = nn.Conv2d(\n",
        "                in_channels=n_filters1,    # NOTE: Use n_filters1 from conv1\n",
        "                out_channels=n_filters2,   # New number of filters\n",
        "                kernel_size=3,            # 3x3 convolution\n",
        "                stride=1,\n",
        "                padding=1          # Keep output size same as input\n",
        "                )\n",
        "\n",
        "        # out_categories should match the number of output categories.\n",
        "        # Match the dimensions to the input.\n",
        "        # Divide by 2 for each maxpooling (carefull for non-even numbers ...)\n",
        "        num_of_pixels = math.ceil(num_of_rows/(2*2) * num_of_cols/(2*2))\n",
        "\n",
        "        # Final layer collects the pixels from all of the inputs:\n",
        "        self.fc1 = nn.Linear(n_filters2 * num_of_pixels, out_categories)\n",
        "\n",
        "    def forward(self, x):\n",
        "        x = self.pool(F.relu(self.conv1(x)))  # -> [batch, 4, 14, 14]\n",
        "        x = self.pool(F.relu(self.conv2(x)))  # -> [batch, 8, 7, 7]\n",
        "        x = x.view(x.size(0), -1)             # flatten to [batch, 8*7*7]\n",
        "        logits = F.relu(self.fc1(x))\n",
        "        return logits # Note: SoftMax is applied to logits by cross-entropy loss function.\n",
        "\n",
        "\n",
        "## SimpleCNN\n",
        "NeuralNetwork = SimpleCNN\n",
        "model_to_use = SimpleCNN(n_filters1=4, n_filters2=8)\n",
        "\n",
        "model = model_to_use.to(device)\n",
        "print(f\"Using Model: {model.__class__.__name__}\") # Name of model print"
      ]
    },
    {
      "cell_type": "markdown",
      "source": [
        "## Model Parameters"
      ],
      "metadata": {
        "id": "NvBuUQa_3OQJ"
      }
    },
    {
      "cell_type": "code",
      "source": [
        "def parameter_report(model):\n",
        "    print(f\"{'Layer':<40} {'# Params':>12} {'Trainable':>10}\")\n",
        "    print(\"-\" * 65)\n",
        "    total, trainable = 0, 0\n",
        "    for name, param in model.named_parameters():\n",
        "        num_params = param.numel()\n",
        "        is_trainable = param.requires_grad\n",
        "        print(f\"{name:<40} {num_params:>12,} {str(is_trainable):>10}\")\n",
        "        total += num_params\n",
        "        if is_trainable:\n",
        "            trainable += num_params\n",
        "    print(\"-\" * 65)\n",
        "    print(f\"{'Total':<40} {total:>12,} {'':>10}\")\n",
        "    print(f\"{'Trainable':<40} {trainable:>12,}\")\n",
        "\n",
        "\n",
        "print(model)\n",
        "print(\" \")\n",
        "\n",
        "parameter_report(model)"
      ],
      "metadata": {
        "colab": {
          "base_uri": "https://localhost:8080/"
        },
        "outputId": "5564a3b2-6e0a-47a7-f459-170dc1b00402",
        "id": "lMfa2u3B3OQJ"
      },
      "execution_count": null,
      "outputs": [
        {
          "output_type": "stream",
          "name": "stdout",
          "text": [
            "SimpleCNN(\n",
            "  (conv1): Conv2d(1, 4, kernel_size=(3, 3), stride=(1, 1), padding=(1, 1))\n",
            "  (pool): MaxPool2d(kernel_size=2, stride=2, padding=0, dilation=1, ceil_mode=False)\n",
            "  (conv2): Conv2d(4, 8, kernel_size=(3, 3), stride=(1, 1), padding=(1, 1))\n",
            "  (fc1): Linear(in_features=392, out_features=10, bias=True)\n",
            ")\n",
            " \n",
            "Layer                                        # Params  Trainable\n",
            "-----------------------------------------------------------------\n",
            "conv1.weight                                       36       True\n",
            "conv1.bias                                          4       True\n",
            "conv2.weight                                      288       True\n",
            "conv2.bias                                          8       True\n",
            "fc1.weight                                      3,920       True\n",
            "fc1.bias                                           10       True\n",
            "-----------------------------------------------------------------\n",
            "Total                                           4,266           \n",
            "Trainable                                       4,266\n"
          ]
        }
      ]
    },
    {
      "cell_type": "markdown",
      "metadata": {
        "id": "VdUEr2fu3OQK"
      },
      "source": [
        "------------------------------------------------------------------------\n"
      ]
    },
    {
      "cell_type": "markdown",
      "metadata": {
        "id": "S0epzHUT3OQK"
      },
      "source": [
        "## Optimizing the Model Parameters"
      ]
    },
    {
      "cell_type": "code",
      "execution_count": null,
      "metadata": {
        "id": "fiEdpyDv3OQK"
      },
      "outputs": [],
      "source": [
        "loss_fn = nn.CrossEntropyLoss()\n",
        "optimizer = torch.optim.SGD(model.parameters(), lr=1e-3)"
      ]
    },
    {
      "cell_type": "markdown",
      "source": [
        "Training function"
      ],
      "metadata": {
        "id": "MLn6TTxE3OQK"
      }
    },
    {
      "cell_type": "code",
      "execution_count": null,
      "metadata": {
        "id": "vQOBLcEZ3OQK"
      },
      "outputs": [],
      "source": [
        "def train(dataloader, model, loss_fn, optimizer):\n",
        "    size = len(dataloader.dataset)\n",
        "    model.train() # Put the model in training mode.\n",
        "    for batch, (X, y) in enumerate(dataloader):\n",
        "        # Place the model and predictions on the same device.\n",
        "        X, y = X.to(device), y.to(device)\n",
        "\n",
        "        # Compute prediction error\n",
        "        pred = model(X)\n",
        "        loss = loss_fn(pred, y)\n",
        "\n",
        "        # Backpropagation\n",
        "        # This step updates the parameter values inside your network.\n",
        "        loss.backward()\n",
        "        optimizer.step()\n",
        "        optimizer.zero_grad()\n",
        "\n",
        "        # Print progress every 100 batches:\n",
        "        if batch % 100 == 0:\n",
        "            loss, current = loss.item(), (batch + 1) * len(X)\n",
        "            print(f\"loss: {loss:>7f}  [{current:>5d}/{size:>5d}]\")"
      ]
    },
    {
      "cell_type": "markdown",
      "source": [
        "## Testing function"
      ],
      "metadata": {
        "id": "FyHYgmlS3OQL"
      }
    },
    {
      "cell_type": "code",
      "execution_count": null,
      "metadata": {
        "id": "-m8lluAB3OQL"
      },
      "outputs": [],
      "source": [
        "def test(dataloader, model, loss_fn):\n",
        "    size = len(dataloader.dataset)\n",
        "    num_batches = len(dataloader)\n",
        "    model.eval() # Put the model in testing mode.\n",
        "    test_loss, correct = 0, 0\n",
        "    with torch.no_grad():\n",
        "        for X, y in dataloader:\n",
        "            X, y = X.to(device), y.to(device)\n",
        "            pred = model(X)\n",
        "            test_loss += loss_fn(pred, y).item()\n",
        "            correct += (pred.argmax(1) == y).type(torch.float).sum().item()\n",
        "    test_loss /= num_batches\n",
        "    correct /= size\n",
        "    print(f\"Test Error: \\n Accuracy: {(100*correct):>0.1f}%, Avg loss: {test_loss:>8f} \\n\")\n",
        "    return correct, test_loss"
      ]
    },
    {
      "cell_type": "markdown",
      "source": [
        "## Simple CNN: Accuracy, Epochs, and Value of Loss Function"
      ],
      "metadata": {
        "id": "q1cdj4nh3OQL"
      }
    },
    {
      "cell_type": "code",
      "execution_count": null,
      "metadata": {
        "colab": {
          "base_uri": "https://localhost:8080/"
        },
        "outputId": "eaa92e6c-b86f-4aac-ab51-87c2a9de6383",
        "collapsed": true,
        "id": "Fr0MANPR3OQL"
      },
      "outputs": [
        {
          "output_type": "stream",
          "name": "stdout",
          "text": [
            "Epoch 1\n",
            "-------------------------------\n",
            "loss: 2.306585  [   64/60000]\n",
            "loss: 2.304036  [ 6464/60000]\n",
            "loss: 2.301794  [12864/60000]\n",
            "loss: 2.298797  [19264/60000]\n",
            "loss: 2.300036  [25664/60000]\n",
            "loss: 2.300019  [32064/60000]\n",
            "loss: 2.304470  [38464/60000]\n",
            "loss: 2.302911  [44864/60000]\n",
            "loss: 2.299140  [51264/60000]\n",
            "loss: 2.302941  [57664/60000]\n",
            "Test Error: \n",
            " Accuracy: 11.8%, Avg loss: 2.298908 \n",
            "\n",
            "Test Error: \n",
            " Accuracy: 11.8%, Avg loss: 2.298908 \n",
            "\n",
            "Epoch 2\n",
            "-------------------------------\n",
            "loss: 2.298832  [   64/60000]\n",
            "loss: 2.298125  [ 6464/60000]\n",
            "loss: 2.296027  [12864/60000]\n",
            "loss: 2.296711  [19264/60000]\n",
            "loss: 2.294563  [25664/60000]\n",
            "loss: 2.296205  [32064/60000]\n",
            "loss: 2.301397  [38464/60000]\n",
            "loss: 2.298550  [44864/60000]\n",
            "loss: 2.294868  [51264/60000]\n",
            "loss: 2.299078  [57664/60000]\n",
            "Test Error: \n",
            " Accuracy: 20.8%, Avg loss: 2.294518 \n",
            "\n",
            "Test Error: \n",
            " Accuracy: 20.8%, Avg loss: 2.294518 \n",
            "\n",
            "Epoch 3\n",
            "-------------------------------\n",
            "loss: 2.294199  [   64/60000]\n",
            "loss: 2.292448  [ 6464/60000]\n",
            "loss: 2.289270  [12864/60000]\n",
            "loss: 2.292211  [19264/60000]\n",
            "loss: 2.287290  [25664/60000]\n",
            "loss: 2.288570  [32064/60000]\n",
            "loss: 2.296986  [38464/60000]\n",
            "loss: 2.290982  [44864/60000]\n",
            "loss: 2.287051  [51264/60000]\n",
            "loss: 2.290981  [57664/60000]\n",
            "Test Error: \n",
            " Accuracy: 33.3%, Avg loss: 2.285207 \n",
            "\n",
            "Test Error: \n",
            " Accuracy: 33.3%, Avg loss: 2.285207 \n",
            "\n",
            "Epoch 4\n",
            "-------------------------------\n",
            "loss: 2.285560  [   64/60000]\n",
            "loss: 2.280702  [ 6464/60000]\n",
            "loss: 2.273895  [12864/60000]\n",
            "loss: 2.280246  [19264/60000]\n",
            "loss: 2.269158  [25664/60000]\n",
            "loss: 2.268740  [32064/60000]\n",
            "loss: 2.286580  [38464/60000]\n",
            "loss: 2.271751  [44864/60000]\n",
            "loss: 2.263845  [51264/60000]\n",
            "loss: 2.270257  [57664/60000]\n",
            "Test Error: \n",
            " Accuracy: 34.1%, Avg loss: 2.258727 \n",
            "\n",
            "Test Error: \n",
            " Accuracy: 34.1%, Avg loss: 2.258727 \n",
            "\n",
            "Epoch 5\n",
            "-------------------------------\n",
            "loss: 2.260496  [   64/60000]\n",
            "loss: 2.246916  [ 6464/60000]\n",
            "loss: 2.227325  [12864/60000]\n",
            "loss: 2.241965  [19264/60000]\n",
            "loss: 2.211587  [25664/60000]\n",
            "loss: 2.202784  [32064/60000]\n",
            "loss: 2.253949  [38464/60000]\n",
            "loss: 2.206736  [44864/60000]\n",
            "loss: 2.181585  [51264/60000]\n",
            "loss: 2.206120  [57664/60000]\n",
            "Test Error: \n",
            " Accuracy: 34.6%, Avg loss: 2.165024 \n",
            "\n",
            "Test Error: \n",
            " Accuracy: 34.6%, Avg loss: 2.165024 \n",
            "\n",
            "Done!\n"
          ]
        }
      ],
      "source": [
        "epochs = 5 # Number of epochs\n",
        "accuracy_h = []\n",
        "loss_h =[]\n",
        "for t in range(epochs):\n",
        "    print(f\"Epoch {t+1}\\n-------------------------------\")\n",
        "    train(train_dataloader, model, loss_fn, optimizer)\n",
        "    test(test_dataloader, model, loss_fn)\n",
        "    epoch_accuracy, epoch_loss = test(test_dataloader, model, loss_fn)\n",
        "    accuracy_h.append(epoch_accuracy)\n",
        "    loss_h.append(epoch_loss)\n",
        "print(\"Done!\")"
      ]
    },
    {
      "cell_type": "markdown",
      "source": [
        "## Plot"
      ],
      "metadata": {
        "id": "GQRcxHQx3OQL"
      }
    },
    {
      "cell_type": "code",
      "metadata": {
        "colab": {
          "base_uri": "https://localhost:8080/"
        },
        "outputId": "001da1ca-453b-4460-fade-fb033b9846b9",
        "id": "WJ7kPMmC3OQM"
      },
      "source": [
        "import matplotlib.pyplot as plt\n",
        "\n",
        "# Plot Accuracy\n",
        "plt.figure(figsize=(10, 5))\n",
        "plt.plot(range(1, epochs + 1), [acc * 100 for acc in accuracy_h], marker='x')\n",
        "plt.title('Simple CNN: Accuracy vs. Epochs')\n",
        "plt.xlabel('Epoch')\n",
        "plt.ylabel('Accuracy (%)') # Update the y-axis label to indicate percentage\n",
        "plt.grid(True)\n",
        "plt.show()\n",
        "\n",
        "# Plot Loss\n",
        "plt.figure(figsize=(10, 5))\n",
        "plt.plot(range(1, epochs + 1), loss_h, marker='x', color='red')\n",
        "plt.title('Simple CNN: Loss vs. Epochs')\n",
        "plt.xlabel('Epoch')\n",
        "plt.ylabel('Loss')\n",
        "plt.grid(True)\n",
        "plt.show()"
      ],
      "execution_count": null,
      "outputs": [
        {
          "output_type": "display_data",
          "data": {
            "text/plain": [
              "<Figure size 1000x500 with 1 Axes>"
            ],
            "image/png": "[encoded data removed]"
          },
          "metadata": {}
        },
        {
          "output_type": "display_data",
          "data": {
            "text/plain": [
              "<Figure size 1000x500 with 1 Axes>"
            ],
            "image/png": "[encoded data removed]"
          },
          "metadata": {}
        }
      ]
    },
    {
      "cell_type": "markdown",
      "metadata": {
        "id": "vZKeZBz33OQM"
      },
      "source": [
        "------------------------------------------------------------------------\n"
      ]
    },
    {
      "cell_type": "code",
      "source": [],
      "metadata": {
        "id": "pZ6XFJm53OQM"
      },
      "execution_count": null,
      "outputs": []
    },
    {
      "cell_type": "markdown",
      "metadata": {
        "id": "KPvrpvvuRIMl"
      },
      "source": [
        "CNN Model 2\n",
        "==============="
      ]
    },
    {
      "cell_type": "code",
      "execution_count": 107,
      "metadata": {
        "id": "FacQmS5nRIMl",
        "colab": {
          "base_uri": "https://localhost:8080/"
        },
        "outputId": "0751d7a6-c42f-4a28-d8ea-dd1728c9a5c5"
      },
      "outputs": [
        {
          "output_type": "stream",
          "name": "stdout",
          "text": [
            "Using cpu device\n",
            "Using Model: SimpleCNN\n"
          ]
        }
      ],
      "source": [
        "device = torch.accelerator.current_accelerator().type if torch.accelerator.is_available() else \"cpu\"\n",
        "print(f\"Using {device} device\")\n",
        "\n",
        "# Define model\n",
        "class SimpleCNN(nn.Module):\n",
        "    def __init__(self, num_of_rows = 28, num_of_cols = 28,\n",
        "                 n_filters1=4, n_filters2=8, out_categories=10):\n",
        "        super().__init__()\n",
        "\n",
        "        self.conv1 = nn.Conv2d(\n",
        "                in_channels=1,            # 1 for grayscale\n",
        "                out_channels=n_filters1,   # Number of filters\n",
        "                kernel_size=3,            # 3x3 convolution\n",
        "                stride=1,\n",
        "                padding=1          # Keep output size same as input\n",
        "                )\n",
        "        self.pool = nn.MaxPool2d(2, 2)  # halves size to 14x14\n",
        "\n",
        "        self.conv2 = nn.Conv2d(\n",
        "                in_channels=n_filters1,    # NOTE: Use n_filters1 from conv1\n",
        "                out_channels=n_filters2,   # New number of filters\n",
        "                kernel_size=3,            # 3x3 convolution\n",
        "                stride=1,\n",
        "                padding=1          # Keep output size same as input\n",
        "                )\n",
        "\n",
        "        # out_categories should match the number of output categories.\n",
        "        # Match the dimensions to the input.\n",
        "        # Divide by 2 for each maxpooling (carefull for non-even numbers ...)\n",
        "        num_of_pixels = math.ceil(num_of_rows/(2*2) * num_of_cols/(2*2))\n",
        "\n",
        "        # Final layer collects the pixels from all of the inputs:\n",
        "        self.fc1 = nn.Linear(n_filters2 * num_of_pixels, out_categories)\n",
        "\n",
        "    def forward(self, x):\n",
        "        x = self.pool(F.relu(self.conv1(x)))  # -> [batch, 4, 14, 14]\n",
        "        x = self.pool(F.relu(self.conv2(x)))  # -> [batch, 8, 7, 7]\n",
        "        x = x.view(x.size(0), -1)             # flatten to [batch, 8*7*7]\n",
        "        logits = F.relu(self.fc1(x))\n",
        "        return logits # Note: SoftMax is applied to logits by cross-entropy loss function.\n",
        "\n",
        "\n",
        "## SimpleCNN\n",
        "NeuralNetwork = SimpleCNN\n",
        "model_to_use = SimpleCNN(n_filters1=8, n_filters2=16)\n",
        "\n",
        "model = model_to_use.to(device)\n",
        "print(f\"Using Model: {model.__class__.__name__}\") # Name of model print"
      ]
    },
    {
      "cell_type": "markdown",
      "source": [
        "## Model Parameters"
      ],
      "metadata": {
        "id": "_AYkfrgF4lqY"
      }
    },
    {
      "cell_type": "code",
      "source": [
        "def parameter_report(model):\n",
        "    print(f\"{'Layer':<40} {'# Params':>12} {'Trainable':>10}\")\n",
        "    print(\"-\" * 65)\n",
        "    total, trainable = 0, 0\n",
        "    for name, param in model.named_parameters():\n",
        "        num_params = param.numel()\n",
        "        is_trainable = param.requires_grad\n",
        "        print(f\"{name:<40} {num_params:>12,} {str(is_trainable):>10}\")\n",
        "        total += num_params\n",
        "        if is_trainable:\n",
        "            trainable += num_params\n",
        "    print(\"-\" * 65)\n",
        "    print(f\"{'Total':<40} {total:>12,} {'':>10}\")\n",
        "    print(f\"{'Trainable':<40} {trainable:>12,}\")\n",
        "\n",
        "\n",
        "print(model)\n",
        "print(\" \")\n",
        "\n",
        "parameter_report(model)"
      ],
      "metadata": {
        "id": "OA7FLccv4mEC",
        "colab": {
          "base_uri": "https://localhost:8080/"
        },
        "outputId": "9fcc2cee-2891-461b-c608-7295180d0879"
      },
      "execution_count": 108,
      "outputs": [
        {
          "output_type": "stream",
          "name": "stdout",
          "text": [
            "SimpleCNN(\n",
            "  (conv1): Conv2d(1, 8, kernel_size=(3, 3), stride=(1, 1), padding=(1, 1))\n",
            "  (pool): MaxPool2d(kernel_size=2, stride=2, padding=0, dilation=1, ceil_mode=False)\n",
            "  (conv2): Conv2d(8, 16, kernel_size=(3, 3), stride=(1, 1), padding=(1, 1))\n",
            "  (fc1): Linear(in_features=784, out_features=10, bias=True)\n",
            ")\n",
            " \n",
            "Layer                                        # Params  Trainable\n",
            "-----------------------------------------------------------------\n",
            "conv1.weight                                       72       True\n",
            "conv1.bias                                          8       True\n",
            "conv2.weight                                    1,152       True\n",
            "conv2.bias                                         16       True\n",
            "fc1.weight                                      7,840       True\n",
            "fc1.bias                                           10       True\n",
            "-----------------------------------------------------------------\n",
            "Total                                           9,098           \n",
            "Trainable                                       9,098\n"
          ]
        }
      ]
    },
    {
      "cell_type": "markdown",
      "metadata": {
        "id": "rsooZOftRIMm"
      },
      "source": [
        "------------------------------------------------------------------------\n"
      ]
    },
    {
      "cell_type": "markdown",
      "metadata": {
        "id": "T0P-EPJnRIMm"
      },
      "source": [
        "## Optimizing the Model Parameters"
      ]
    },
    {
      "cell_type": "code",
      "execution_count": 109,
      "metadata": {
        "id": "o3SKF6rxRIMm"
      },
      "outputs": [],
      "source": [
        "loss_fn = nn.CrossEntropyLoss()\n",
        "optimizer = torch.optim.SGD(model.parameters(), lr=1e-3)"
      ]
    },
    {
      "cell_type": "markdown",
      "source": [
        "Training function"
      ],
      "metadata": {
        "id": "p1HJNtrd7PSp"
      }
    },
    {
      "cell_type": "code",
      "execution_count": 110,
      "metadata": {
        "id": "v66--0FCRIMm"
      },
      "outputs": [],
      "source": [
        "def train(dataloader, model, loss_fn, optimizer):\n",
        "    size = len(dataloader.dataset)\n",
        "    model.train() # Put the model in training mode.\n",
        "    for batch, (X, y) in enumerate(dataloader):\n",
        "        # Place the model and predictions on the same device.\n",
        "        X, y = X.to(device), y.to(device)\n",
        "\n",
        "        # Compute prediction error\n",
        "        pred = model(X)\n",
        "        loss = loss_fn(pred, y)\n",
        "\n",
        "        # Backpropagation\n",
        "        # This step updates the parameter values inside your network.\n",
        "        loss.backward()\n",
        "        optimizer.step()\n",
        "        optimizer.zero_grad()\n",
        "\n",
        "        # Print progress every 100 batches:\n",
        "        if batch % 100 == 0:\n",
        "            loss, current = loss.item(), (batch + 1) * len(X)\n",
        "            print(f\"loss: {loss:>7f}  [{current:>5d}/{size:>5d}]\")"
      ]
    },
    {
      "cell_type": "markdown",
      "source": [
        "## Testing function"
      ],
      "metadata": {
        "id": "oqib5btw8OGN"
      }
    },
    {
      "cell_type": "code",
      "execution_count": 111,
      "metadata": {
        "id": "w7BHwZXhRIMm"
      },
      "outputs": [],
      "source": [
        "def test(dataloader, model, loss_fn):\n",
        "    size = len(dataloader.dataset)\n",
        "    num_batches = len(dataloader)\n",
        "    model.eval() # Put the model in testing mode.\n",
        "    test_loss, correct = 0, 0\n",
        "    with torch.no_grad():\n",
        "        for X, y in dataloader:\n",
        "            X, y = X.to(device), y.to(device)\n",
        "            pred = model(X)\n",
        "            test_loss += loss_fn(pred, y).item()\n",
        "            correct += (pred.argmax(1) == y).type(torch.float).sum().item()\n",
        "    test_loss /= num_batches\n",
        "    correct /= size\n",
        "    print(f\"Test Error: \\n Accuracy: {(100*correct):>0.1f}%, Avg loss: {test_loss:>8f} \\n\")\n",
        "    return correct, test_loss"
      ]
    },
    {
      "cell_type": "markdown",
      "source": [
        "## Simple CNN: Accuracy, Epochs, and Value of Loss Function"
      ],
      "metadata": {
        "id": "_3uGW_bgGoUC"
      }
    },
    {
      "cell_type": "code",
      "execution_count": 112,
      "metadata": {
        "id": "5wkVbGV0RIMm",
        "colab": {
          "base_uri": "https://localhost:8080/"
        },
        "outputId": "5ce741a9-6cb9-4d07-cda2-1e0ae46f9a5a",
        "collapsed": true
      },
      "outputs": [
        {
          "output_type": "stream",
          "name": "stdout",
          "text": [
            "Epoch 1\n",
            "-------------------------------\n",
            "loss: 2.331971  [   64/60000]\n",
            "loss: 2.300694  [ 6464/60000]\n",
            "loss: 2.286847  [12864/60000]\n",
            "loss: 2.258109  [19264/60000]\n",
            "loss: 2.232311  [25664/60000]\n",
            "loss: 2.231364  [32064/60000]\n",
            "loss: 2.134660  [38464/60000]\n",
            "loss: 2.119908  [44864/60000]\n",
            "loss: 2.055909  [51264/60000]\n",
            "loss: 2.031373  [57664/60000]\n",
            "Test Error: \n",
            " Accuracy: 49.5%, Avg loss: 1.983685 \n",
            "\n",
            "Test Error: \n",
            " Accuracy: 49.5%, Avg loss: 1.983685 \n",
            "\n",
            "Epoch 2\n",
            "-------------------------------\n",
            "loss: 1.987516  [   64/60000]\n",
            "loss: 1.946090  [ 6464/60000]\n",
            "loss: 1.861099  [12864/60000]\n",
            "loss: 1.793892  [19264/60000]\n",
            "loss: 1.771153  [25664/60000]\n",
            "loss: 1.837459  [32064/60000]\n",
            "loss: 1.520115  [38464/60000]\n",
            "loss: 1.557082  [44864/60000]\n",
            "loss: 1.491818  [51264/60000]\n",
            "loss: 1.598187  [57664/60000]\n",
            "Test Error: \n",
            " Accuracy: 56.1%, Avg loss: 1.469235 \n",
            "\n",
            "Test Error: \n",
            " Accuracy: 56.1%, Avg loss: 1.469235 \n",
            "\n",
            "Epoch 3\n",
            "-------------------------------\n",
            "loss: 1.462008  [   64/60000]\n",
            "loss: 1.489924  [ 6464/60000]\n",
            "loss: 1.390532  [12864/60000]\n",
            "loss: 1.437078  [19264/60000]\n",
            "loss: 1.448779  [25664/60000]\n",
            "loss: 1.585764  [32064/60000]\n",
            "loss: 1.234522  [38464/60000]\n",
            "loss: 1.296620  [44864/60000]\n",
            "loss: 1.279582  [51264/60000]\n",
            "loss: 1.484804  [57664/60000]\n",
            "Test Error: \n",
            " Accuracy: 59.1%, Avg loss: 1.295328 \n",
            "\n",
            "Test Error: \n",
            " Accuracy: 59.1%, Avg loss: 1.295328 \n",
            "\n",
            "Epoch 4\n",
            "-------------------------------\n",
            "loss: 1.264282  [   64/60000]\n",
            "loss: 1.326650  [ 6464/60000]\n",
            "loss: 1.218084  [12864/60000]\n",
            "loss: 1.329492  [19264/60000]\n",
            "loss: 1.343773  [25664/60000]\n",
            "loss: 1.491876  [32064/60000]\n",
            "loss: 1.122407  [38464/60000]\n",
            "loss: 1.204362  [44864/60000]\n",
            "loss: 1.187912  [51264/60000]\n",
            "loss: 1.425272  [57664/60000]\n",
            "Test Error: \n",
            " Accuracy: 61.1%, Avg loss: 1.217822 \n",
            "\n",
            "Test Error: \n",
            " Accuracy: 61.1%, Avg loss: 1.217822 \n",
            "\n",
            "Epoch 5\n",
            "-------------------------------\n",
            "loss: 1.152075  [   64/60000]\n",
            "loss: 1.228608  [ 6464/60000]\n",
            "loss: 1.121716  [12864/60000]\n",
            "loss: 1.287682  [19264/60000]\n",
            "loss: 1.292462  [25664/60000]\n",
            "loss: 1.442016  [32064/60000]\n",
            "loss: 1.065834  [38464/60000]\n",
            "loss: 1.162484  [44864/60000]\n",
            "loss: 1.135896  [51264/60000]\n",
            "loss: 1.381094  [57664/60000]\n",
            "Test Error: \n",
            " Accuracy: 62.4%, Avg loss: 1.169807 \n",
            "\n",
            "Test Error: \n",
            " Accuracy: 62.4%, Avg loss: 1.169807 \n",
            "\n",
            "Done!\n"
          ]
        }
      ],
      "source": [
        "epochs = 5 # Number of epochs\n",
        "accuracy_h = []\n",
        "loss_h =[]\n",
        "for t in range(epochs):\n",
        "    print(f\"Epoch {t+1}\\n-------------------------------\")\n",
        "    train(train_dataloader, model, loss_fn, optimizer)\n",
        "    test(test_dataloader, model, loss_fn)\n",
        "    epoch_accuracy, epoch_loss = test(test_dataloader, model, loss_fn)\n",
        "    accuracy_h.append(epoch_accuracy)\n",
        "    loss_h.append(epoch_loss)\n",
        "print(\"Done!\")"
      ]
    },
    {
      "cell_type": "markdown",
      "source": [
        "## Plot"
      ],
      "metadata": {
        "id": "pFRnlFS4xM4I"
      }
    },
    {
      "cell_type": "code",
      "metadata": {
        "colab": {
          "base_uri": "https://localhost:8080/",
          "height": 957
        },
        "id": "a9489d69",
        "outputId": "e79cbc84-6676-4fd0-fb9b-7d76033871f9"
      },
      "source": [
        "import matplotlib.pyplot as plt\n",
        "\n",
        "# Plot Accuracy\n",
        "plt.figure(figsize=(10, 5))\n",
        "plt.plot(range(1, epochs + 1), [acc * 100 for acc in accuracy_h], marker='x')\n",
        "plt.title('Simple CNN: Accuracy vs. Epochs')\n",
        "plt.xlabel('Epoch')\n",
        "plt.ylabel('Accuracy (%)') # Update the y-axis label to indicate percentage\n",
        "plt.grid(True)\n",
        "plt.show()\n",
        "\n",
        "# Plot Loss\n",
        "plt.figure(figsize=(10, 5))\n",
        "plt.plot(range(1, epochs + 1), loss_h, marker='x', color='red')\n",
        "plt.title('Simple CNN: Loss vs. Epochs')\n",
        "plt.xlabel('Epoch')\n",
        "plt.ylabel('Loss')\n",
        "plt.grid(True)\n",
        "plt.show()"
      ],
      "execution_count": 113,
      "outputs": [
        {
          "output_type": "display_data",
          "data": {
            "text/plain": [
              "<Figure size 1000x500 with 1 Axes>"
            ],
            "image/png": "[encoded data removed]"
          },
          "metadata": {}
        },
        {
          "output_type": "display_data",
          "data": {
            "text/plain": [
              "<Figure size 1000x500 with 1 Axes>"
            ],
            "image/png": "[encoded data removed]"
          },
          "metadata": {}
        }
      ]
    },
    {
      "cell_type": "markdown",
      "metadata": {
        "id": "9H6PC1KIRIMm"
      },
      "source": [
        "------------------------------------------------------------------------\n"
      ]
    },
    {
      "cell_type": "code",
      "source": [],
      "metadata": {
        "id": "OLvhYFnjxdLm"
      },
      "execution_count": 93,
      "outputs": []
    },
    {
      "cell_type": "markdown",
      "source": [],
      "metadata": {
        "id": "v3WYZ68_3AfF"
      }
    },
    {
      "cell_type": "markdown",
      "metadata": {
        "id": "ETiUlmeR3DXd"
      },
      "source": [
        "CNN Model 3\n",
        "==============="
      ]
    },
    {
      "cell_type": "code",
      "execution_count": null,
      "metadata": {
        "colab": {
          "base_uri": "https://localhost:8080/"
        },
        "outputId": "05030352-7b6b-41a4-b6d6-309be70fac53",
        "id": "Gin5yJNh3DXe"
      },
      "outputs": [
        {
          "output_type": "stream",
          "name": "stdout",
          "text": [
            "Using cpu device\n",
            "Using Model: SimpleCNN\n"
          ]
        }
      ],
      "source": [
        "device = torch.accelerator.current_accelerator().type if torch.accelerator.is_available() else \"cpu\"\n",
        "print(f\"Using {device} device\")\n",
        "\n",
        "# Define model\n",
        "class SimpleCNN(nn.Module):\n",
        "    def __init__(self, num_of_rows = 28, num_of_cols = 28,\n",
        "                 n_filters1=4, n_filters2=8, out_categories=10):\n",
        "        super().__init__()\n",
        "\n",
        "        self.conv1 = nn.Conv2d(\n",
        "                in_channels=1,            # 1 for grayscale\n",
        "                out_channels=n_filters1,   # Number of filters\n",
        "                kernel_size=3,            # 3x3 convolution\n",
        "                stride=1,\n",
        "                padding=1          # Keep output size same as input\n",
        "                )\n",
        "        self.pool = nn.MaxPool2d(2, 2)  # halves size to 14x14\n",
        "\n",
        "        self.conv2 = nn.Conv2d(\n",
        "                in_channels=n_filters1,    # NOTE: Use n_filters1 from conv1\n",
        "                out_channels=n_filters2,   # New number of filters\n",
        "                kernel_size=3,            # 3x3 convolution\n",
        "                stride=1,\n",
        "                padding=1          # Keep output size same as input\n",
        "                )\n",
        "\n",
        "        # out_categories should match the number of output categories.\n",
        "        # Match the dimensions to the input.\n",
        "        # Divide by 2 for each maxpooling (carefull for non-even numbers ...)\n",
        "        num_of_pixels = math.ceil(num_of_rows/(2*2) * num_of_cols/(2*2))\n",
        "\n",
        "        # Final layer collects the pixels from all of the inputs:\n",
        "        self.fc1 = nn.Linear(n_filters2 * num_of_pixels, out_categories)\n",
        "\n",
        "    def forward(self, x):\n",
        "        x = self.pool(F.relu(self.conv1(x)))  # -> [batch, 4, 14, 14]\n",
        "        x = self.pool(F.relu(self.conv2(x)))  # -> [batch, 8, 7, 7]\n",
        "        x = x.view(x.size(0), -1)             # flatten to [batch, 8*7*7]\n",
        "        logits = F.relu(self.fc1(x))\n",
        "        return logits # Note: SoftMax is applied to logits by cross-entropy loss function.\n",
        "\n",
        "# Define model\n",
        "class LinearModel(nn.Module):\n",
        "    def __init__(self):\n",
        "        super().__init__()\n",
        "        self.flatten = nn.Flatten()\n",
        "        self.linear_relu_stack = nn.Sequential(\n",
        "            nn.Linear(28*28, 512),\n",
        "            nn.ReLU(),\n",
        "            nn.Linear(512, 512),\n",
        "            nn.ReLU(),\n",
        "            nn.Linear(512, 10)\n",
        "        )\n",
        "\n",
        "    def forward(self, x):\n",
        "        x = self.flatten(x)\n",
        "        logits = self.linear_relu_stack(x)\n",
        "        return logits\n",
        "\n",
        "\n",
        "# Define the model here\n",
        "\n",
        "## Linear Model\n",
        "#NeuralNetwork = LinearModel\n",
        "#model_to_use  = LinearModel()\n",
        "\n",
        "## SimpleCNN\n",
        "NeuralNetwork = SimpleCNN\n",
        "model_to_use = SimpleCNN(n_filters1=4, n_filters2=8)\n",
        "\n",
        "model = model_to_use.to(device)\n",
        "print(f\"Using Model: {model.__class__.__name__}\") # Name of model print"
      ]
    },
    {
      "cell_type": "markdown",
      "source": [
        "## Model Parameters"
      ],
      "metadata": {
        "id": "VtQqRXIk3DXe"
      }
    },
    {
      "cell_type": "code",
      "source": [
        "def parameter_report(model):\n",
        "    print(f\"{'Layer':<40} {'# Params':>12} {'Trainable':>10}\")\n",
        "    print(\"-\" * 65)\n",
        "    total, trainable = 0, 0\n",
        "    for name, param in model.named_parameters():\n",
        "        num_params = param.numel()\n",
        "        is_trainable = param.requires_grad\n",
        "        print(f\"{name:<40} {num_params:>12,} {str(is_trainable):>10}\")\n",
        "        total += num_params\n",
        "        if is_trainable:\n",
        "            trainable += num_params\n",
        "    print(\"-\" * 65)\n",
        "    print(f\"{'Total':<40} {total:>12,} {'':>10}\")\n",
        "    print(f\"{'Trainable':<40} {trainable:>12,}\")\n",
        "\n",
        "\n",
        "print(model)\n",
        "print(\" \")\n",
        "\n",
        "parameter_report(model)"
      ],
      "metadata": {
        "colab": {
          "base_uri": "https://localhost:8080/"
        },
        "outputId": "5564a3b2-6e0a-47a7-f459-170dc1b00402",
        "id": "wAy1_oKf3DXf"
      },
      "execution_count": null,
      "outputs": [
        {
          "output_type": "stream",
          "name": "stdout",
          "text": [
            "SimpleCNN(\n",
            "  (conv1): Conv2d(1, 4, kernel_size=(3, 3), stride=(1, 1), padding=(1, 1))\n",
            "  (pool): MaxPool2d(kernel_size=2, stride=2, padding=0, dilation=1, ceil_mode=False)\n",
            "  (conv2): Conv2d(4, 8, kernel_size=(3, 3), stride=(1, 1), padding=(1, 1))\n",
            "  (fc1): Linear(in_features=392, out_features=10, bias=True)\n",
            ")\n",
            " \n",
            "Layer                                        # Params  Trainable\n",
            "-----------------------------------------------------------------\n",
            "conv1.weight                                       36       True\n",
            "conv1.bias                                          4       True\n",
            "conv2.weight                                      288       True\n",
            "conv2.bias                                          8       True\n",
            "fc1.weight                                      3,920       True\n",
            "fc1.bias                                           10       True\n",
            "-----------------------------------------------------------------\n",
            "Total                                           4,266           \n",
            "Trainable                                       4,266\n"
          ]
        }
      ]
    },
    {
      "cell_type": "markdown",
      "metadata": {
        "id": "lMN76NFL3DXf"
      },
      "source": [
        "------------------------------------------------------------------------\n"
      ]
    },
    {
      "cell_type": "markdown",
      "metadata": {
        "id": "hzXC_bhr3DXg"
      },
      "source": [
        "## Optimizing the Model Parameters"
      ]
    },
    {
      "cell_type": "code",
      "execution_count": null,
      "metadata": {
        "id": "yXaxfLsz3DXg"
      },
      "outputs": [],
      "source": [
        "loss_fn = nn.CrossEntropyLoss()\n",
        "optimizer = torch.optim.SGD(model.parameters(), lr=1e-3)"
      ]
    },
    {
      "cell_type": "markdown",
      "source": [
        "Training function"
      ],
      "metadata": {
        "id": "Wa4rwnnm3DXg"
      }
    },
    {
      "cell_type": "code",
      "execution_count": null,
      "metadata": {
        "id": "CADr3gOl3DXg"
      },
      "outputs": [],
      "source": [
        "def train(dataloader, model, loss_fn, optimizer):\n",
        "    size = len(dataloader.dataset)\n",
        "    model.train() # Put the model in training mode.\n",
        "    for batch, (X, y) in enumerate(dataloader):\n",
        "        # Place the model and predictions on the same device.\n",
        "        X, y = X.to(device), y.to(device)\n",
        "\n",
        "        # Compute prediction error\n",
        "        pred = model(X)\n",
        "        loss = loss_fn(pred, y)\n",
        "\n",
        "        # Backpropagation\n",
        "        # This step updates the parameter values inside your network.\n",
        "        loss.backward()\n",
        "        optimizer.step()\n",
        "        optimizer.zero_grad()\n",
        "\n",
        "        # Print progress every 100 batches:\n",
        "        if batch % 100 == 0:\n",
        "            loss, current = loss.item(), (batch + 1) * len(X)\n",
        "            print(f\"loss: {loss:>7f}  [{current:>5d}/{size:>5d}]\")"
      ]
    },
    {
      "cell_type": "markdown",
      "source": [
        "## Testing function"
      ],
      "metadata": {
        "id": "hvwi_9YB3DXg"
      }
    },
    {
      "cell_type": "code",
      "execution_count": null,
      "metadata": {
        "id": "-o2EQC-a3DXg"
      },
      "outputs": [],
      "source": [
        "def test(dataloader, model, loss_fn):\n",
        "    size = len(dataloader.dataset)\n",
        "    num_batches = len(dataloader)\n",
        "    model.eval() # Put the model in testing mode.\n",
        "    test_loss, correct = 0, 0\n",
        "    with torch.no_grad():\n",
        "        for X, y in dataloader:\n",
        "            X, y = X.to(device), y.to(device)\n",
        "            pred = model(X)\n",
        "            test_loss += loss_fn(pred, y).item()\n",
        "            correct += (pred.argmax(1) == y).type(torch.float).sum().item()\n",
        "    test_loss /= num_batches\n",
        "    correct /= size\n",
        "    print(f\"Test Error: \\n Accuracy: {(100*correct):>0.1f}%, Avg loss: {test_loss:>8f} \\n\")\n",
        "    return correct, test_loss"
      ]
    },
    {
      "cell_type": "markdown",
      "source": [
        "## Simple CNN: Accuracy, Epochs, and Value of Loss Function"
      ],
      "metadata": {
        "id": "9jImm_vN3DXh"
      }
    },
    {
      "cell_type": "code",
      "execution_count": null,
      "metadata": {
        "colab": {
          "base_uri": "https://localhost:8080/"
        },
        "outputId": "eaa92e6c-b86f-4aac-ab51-87c2a9de6383",
        "collapsed": true,
        "id": "6nvPAcas3DXh"
      },
      "outputs": [
        {
          "output_type": "stream",
          "name": "stdout",
          "text": [
            "Epoch 1\n",
            "-------------------------------\n",
            "loss: 2.306585  [   64/60000]\n",
            "loss: 2.304036  [ 6464/60000]\n",
            "loss: 2.301794  [12864/60000]\n",
            "loss: 2.298797  [19264/60000]\n",
            "loss: 2.300036  [25664/60000]\n",
            "loss: 2.300019  [32064/60000]\n",
            "loss: 2.304470  [38464/60000]\n",
            "loss: 2.302911  [44864/60000]\n",
            "loss: 2.299140  [51264/60000]\n",
            "loss: 2.302941  [57664/60000]\n",
            "Test Error: \n",
            " Accuracy: 11.8%, Avg loss: 2.298908 \n",
            "\n",
            "Test Error: \n",
            " Accuracy: 11.8%, Avg loss: 2.298908 \n",
            "\n",
            "Epoch 2\n",
            "-------------------------------\n",
            "loss: 2.298832  [   64/60000]\n",
            "loss: 2.298125  [ 6464/60000]\n",
            "loss: 2.296027  [12864/60000]\n",
            "loss: 2.296711  [19264/60000]\n",
            "loss: 2.294563  [25664/60000]\n",
            "loss: 2.296205  [32064/60000]\n",
            "loss: 2.301397  [38464/60000]\n",
            "loss: 2.298550  [44864/60000]\n",
            "loss: 2.294868  [51264/60000]\n",
            "loss: 2.299078  [57664/60000]\n",
            "Test Error: \n",
            " Accuracy: 20.8%, Avg loss: 2.294518 \n",
            "\n",
            "Test Error: \n",
            " Accuracy: 20.8%, Avg loss: 2.294518 \n",
            "\n",
            "Epoch 3\n",
            "-------------------------------\n",
            "loss: 2.294199  [   64/60000]\n",
            "loss: 2.292448  [ 6464/60000]\n",
            "loss: 2.289270  [12864/60000]\n",
            "loss: 2.292211  [19264/60000]\n",
            "loss: 2.287290  [25664/60000]\n",
            "loss: 2.288570  [32064/60000]\n",
            "loss: 2.296986  [38464/60000]\n",
            "loss: 2.290982  [44864/60000]\n",
            "loss: 2.287051  [51264/60000]\n",
            "loss: 2.290981  [57664/60000]\n",
            "Test Error: \n",
            " Accuracy: 33.3%, Avg loss: 2.285207 \n",
            "\n",
            "Test Error: \n",
            " Accuracy: 33.3%, Avg loss: 2.285207 \n",
            "\n",
            "Epoch 4\n",
            "-------------------------------\n",
            "loss: 2.285560  [   64/60000]\n",
            "loss: 2.280702  [ 6464/60000]\n",
            "loss: 2.273895  [12864/60000]\n",
            "loss: 2.280246  [19264/60000]\n",
            "loss: 2.269158  [25664/60000]\n",
            "loss: 2.268740  [32064/60000]\n",
            "loss: 2.286580  [38464/60000]\n",
            "loss: 2.271751  [44864/60000]\n",
            "loss: 2.263845  [51264/60000]\n",
            "loss: 2.270257  [57664/60000]\n",
            "Test Error: \n",
            " Accuracy: 34.1%, Avg loss: 2.258727 \n",
            "\n",
            "Test Error: \n",
            " Accuracy: 34.1%, Avg loss: 2.258727 \n",
            "\n",
            "Epoch 5\n",
            "-------------------------------\n",
            "loss: 2.260496  [   64/60000]\n",
            "loss: 2.246916  [ 6464/60000]\n",
            "loss: 2.227325  [12864/60000]\n",
            "loss: 2.241965  [19264/60000]\n",
            "loss: 2.211587  [25664/60000]\n",
            "loss: 2.202784  [32064/60000]\n",
            "loss: 2.253949  [38464/60000]\n",
            "loss: 2.206736  [44864/60000]\n",
            "loss: 2.181585  [51264/60000]\n",
            "loss: 2.206120  [57664/60000]\n",
            "Test Error: \n",
            " Accuracy: 34.6%, Avg loss: 2.165024 \n",
            "\n",
            "Test Error: \n",
            " Accuracy: 34.6%, Avg loss: 2.165024 \n",
            "\n",
            "Done!\n"
          ]
        }
      ],
      "source": [
        "epochs = 5 # Number of epochs\n",
        "accuracy_h = []\n",
        "loss_h =[]\n",
        "for t in range(epochs):\n",
        "    print(f\"Epoch {t+1}\\n-------------------------------\")\n",
        "    train(train_dataloader, model, loss_fn, optimizer)\n",
        "    test(test_dataloader, model, loss_fn)\n",
        "    epoch_accuracy, epoch_loss = test(test_dataloader, model, loss_fn)\n",
        "    accuracy_h.append(epoch_accuracy)\n",
        "    loss_h.append(epoch_loss)\n",
        "print(\"Done!\")"
      ]
    },
    {
      "cell_type": "markdown",
      "source": [
        "## Plot"
      ],
      "metadata": {
        "id": "ZEsebEZY3DXh"
      }
    },
    {
      "cell_type": "code",
      "metadata": {
        "colab": {
          "base_uri": "https://localhost:8080/"
        },
        "outputId": "001da1ca-453b-4460-fade-fb033b9846b9",
        "id": "eUQ5KLD63DXh"
      },
      "source": [
        "import matplotlib.pyplot as plt\n",
        "\n",
        "# Plot Accuracy\n",
        "plt.figure(figsize=(10, 5))\n",
        "plt.plot(range(1, epochs + 1), [acc * 100 for acc in accuracy_h], marker='x')\n",
        "plt.title('Simple CNN: Accuracy vs. Epochs')\n",
        "plt.xlabel('Epoch')\n",
        "plt.ylabel('Accuracy (%)') # Update the y-axis label to indicate percentage\n",
        "plt.grid(True)\n",
        "plt.show()\n",
        "\n",
        "# Plot Loss\n",
        "plt.figure(figsize=(10, 5))\n",
        "plt.plot(range(1, epochs + 1), loss_h, marker='x', color='red')\n",
        "plt.title('Simple CNN: Loss vs. Epochs')\n",
        "plt.xlabel('Epoch')\n",
        "plt.ylabel('Loss')\n",
        "plt.grid(True)\n",
        "plt.show()"
      ],
      "execution_count": null,
      "outputs": [
        {
          "output_type": "display_data",
          "data": {
            "text/plain": [
              "<Figure size 1000x500 with 1 Axes>"
            ],
            "image/png": "[encoded data removed]"
          },
          "metadata": {}
        },
        {
          "output_type": "display_data",
          "data": {
            "text/plain": [
              "<Figure size 1000x500 with 1 Axes>"
            ],
            "image/png": "[encoded data removed]"
          },
          "metadata": {}
        }
      ]
    },
    {
      "cell_type": "markdown",
      "metadata": {
        "id": "7nKu6EAQ3DXi"
      },
      "source": [
        "------------------------------------------------------------------------\n"
      ]
    },
    {
      "cell_type": "markdown",
      "source": [
        "Discussion\n",
        "==============="
      ],
      "metadata": {
        "id": "uK-QIKHw3pgR"
      }
    }
  ],
  "metadata": {
    "kernelspec": {
      "display_name": "Python 3",
      "language": "python",
      "name": "python3"
    },
    "language_info": {
      "codemirror_mode": {
        "name": "ipython",
        "version": 3
      },
      "file_extension": ".py",
      "mimetype": "text/x-python",
      "name": "python",
      "nbconvert_exporter": "python",
      "pygments_lexer": "ipython3",
      "version": "3.10.12"
    },
    "colab": {
      "provenance": [],
      "toc_visible": true
    }
  },
  "nbformat": 4,
  "nbformat_minor": 0
}